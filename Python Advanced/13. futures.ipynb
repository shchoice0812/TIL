{
 "cells": [
  {
   "cell_type": "markdown",
   "metadata": {},
   "source": [
    "# 비동기 작업 실행\n",
    "* 순차실행과 Concurrent.future 비교로 수행속도 차이를 비교해보자"
   ]
  },
  {
   "cell_type": "code",
   "execution_count": 2,
   "metadata": {
    "ExecuteTime": {
     "end_time": "2020-04-14T07:18:42.179170Z",
     "start_time": "2020-04-14T07:18:42.174115Z"
    }
   },
   "outputs": [],
   "source": [
    "import os\n",
    "import time\n",
    "import sys\n",
    "import csv\n",
    "\n",
    "# 추출 국가 정보\n",
    "NATION_LS = 'Singapore Germany Israel Norway Canada France Spain Mexico'.split()\n",
    "# 대상 CSV 경로\n",
    "TARGET_CSV = './resources/nations.csv'\n",
    "# 저장 폴더 위치\n",
    "DEST_DIR = './csvs/'\n",
    "# CSV 파일 헤더\n",
    "HEADER = ['Region','Country','Item Type','Sales Channel','Order Priority','Order Date','Order ID','Ship Date','Units Sold','Unit Price','Unit Cost','Total Revenue','Total Cost','Total Profit']"
   ]
  },
  {
   "cell_type": "markdown",
   "metadata": {},
   "source": [
    "### 순차 실행"
   ]
  },
  {
   "cell_type": "code",
   "execution_count": 3,
   "metadata": {
    "ExecuteTime": {
     "end_time": "2020-04-14T07:19:13.406032Z",
     "start_time": "2020-04-14T07:18:42.751920Z"
    }
   },
   "outputs": [
    {
     "name": "stdout",
     "output_type": "stream",
     "text": [
      "Canada France Germany Israel Mexico Norway Singapore Spain \n",
      "8 csv seperated in 30.63s\n"
     ]
    }
   ],
   "source": [
    "# 국가별 csv파일 저장\n",
    "def save_csv(data, filename):\n",
    "    # 최종 경로 생성\n",
    "    path = os.path.join(DEST_DIR, filename)\n",
    "    \n",
    "    with open(path, 'w', newline='') as  fp:\n",
    "        writer = csv.DictWriter(fp, fieldnames=HEADER)\n",
    "        writer.writeheader()\n",
    "        for row in data:\n",
    "            writer.writerow(row)\n",
    "\n",
    "def get_sales_data(nt):\n",
    "    with open(TARGET_CSV, 'r') as f:\n",
    "        reader = csv.DictReader(f)\n",
    "        # dict를 리스트로 적재\n",
    "        data = []\n",
    "        # Header 확인\n",
    "        #print(reader.fieldnames)\n",
    "        for r in reader:\n",
    "            #print(r)\n",
    "            if r['Country'] == nt:\n",
    "                data.append(r)\n",
    "    return data\n",
    "\n",
    "def show(text):\n",
    "    print(text, end=' ')\n",
    "    sys.stdout.flush()\n",
    "\n",
    "def seperate_many(nt_list):\n",
    "    for nt in sorted(nt_list):\n",
    "        # 분리 데이터\n",
    "        data = get_sales_data(nt)\n",
    "        # 상황 출력\n",
    "        show(nt)\n",
    "        # 파일 저장\n",
    "        save_csv(data, nt.lower()+'.csv')\n",
    "        \n",
    "    return len(nt_list)\n",
    "\n",
    "def main(seperate_many):\n",
    "    # 시작시간\n",
    "    start_tm = time.time()\n",
    "    # 결과 건수\n",
    "    result_cnt = seperate_many(NATION_LS)\n",
    "    # 종료 시간\n",
    "    end_tm = time.time() - start_tm\n",
    "    \n",
    "    msg = '\\n{} csv seperated in {:.2f}s'.format(result_cnt, end_tm)\n",
    "    # 최종 결과 출력\n",
    "    print(msg)    \n",
    "\n",
    "if __name__ == '__main__':\n",
    "    main(seperate_many)"
   ]
  },
  {
   "cell_type": "markdown",
   "metadata": {},
   "source": [
    "### Concurrent.future 방법1 (map을 통해)=> THreadPoolExecutor, ProcessPoolExecutor\n",
    "* 서로 다른 스레드 또는 프로세스에서 실행 가능\n",
    "* 내부 과정 알 필요가 없으며, 고수준으로 인터페이스 제공\n",
    "* 지연시간(block) CPU 및 리소스 낭비 방지 -> FIle I/O, Network I/O 관련 작업 동시성 활용 권장\n",
    "* 적합한 작업일 경우 순차 진행보다 압도적인 성능 향상"
   ]
  },
  {
   "cell_type": "code",
   "execution_count": 4,
   "metadata": {
    "ExecuteTime": {
     "end_time": "2020-04-14T07:19:13.416047Z",
     "start_time": "2020-04-14T07:19:13.411019Z"
    }
   },
   "outputs": [],
   "source": [
    "from concurrent import futures"
   ]
  },
  {
   "cell_type": "code",
   "execution_count": 4,
   "metadata": {
    "ExecuteTime": {
     "end_time": "2020-04-14T07:18:05.187539Z",
     "start_time": "2020-04-14T07:17:37.870326Z"
    }
   },
   "outputs": [
    {
     "name": "stdout",
     "output_type": "stream",
     "text": [
      "Norway France Germany Israel Spain Singapore Mexico Canada \n",
      "['Canada', 'France', 'Germany', 'Israel', 'Mexico', 'Norway', 'Singapore', 'Spain'] csv seperated in 27.30s\n"
     ]
    }
   ],
   "source": [
    "# 국가별 csv파일 저장\n",
    "def save_csv(data, filename):\n",
    "    # 최종 경로 생성\n",
    "    path = os.path.join(DEST_DIR, filename)\n",
    "    \n",
    "    with open(path, 'w', newline='') as  fp:\n",
    "        writer = csv.DictWriter(fp, fieldnames=HEADER)\n",
    "        writer.writeheader()\n",
    "        for row in data:\n",
    "            writer.writerow(row)\n",
    "\n",
    "def get_sales_data(nt):\n",
    "    with open(TARGET_CSV, 'r') as f:\n",
    "        reader = csv.DictReader(f)\n",
    "        # dict를 리스트로 적재\n",
    "        data = []\n",
    "        # Header 확인\n",
    "        #print(reader.fieldnames)\n",
    "        for r in reader:\n",
    "            #print(r)\n",
    "            if r['Country'] == nt:\n",
    "                data.append(r)\n",
    "    return data\n",
    "\n",
    "def show(text):\n",
    "    print(text, end=' ')\n",
    "    sys.stdout.flush()\n",
    "\n",
    "def seperate_many(nt):\n",
    "    # 분리 데이터\n",
    "    data = get_sales_data(nt)\n",
    "    # 상황 출력\n",
    "    show(nt)\n",
    "    # 파일 저장\n",
    "    save_csv(data, nt.lower()+'.csv')\n",
    "        \n",
    "    return nt\n",
    "\n",
    "def main(seperate_many):\n",
    "    # worker 개수 \n",
    "    worker = min(20, len(NATION_LS))\n",
    "    # 시작시간\n",
    "    start_tm = time.time()\n",
    "    # 결과 건수\n",
    "    with futures.ThreadPoolExecutor(worker) as executor:\n",
    "        resuit_cnt = executor.map(seperate_many, sorted(NATION_LS))\n",
    "    # 종료 시간\n",
    "    end_tm = time.time() - start_tm\n",
    "    \n",
    "    msg = '\\n{} csv seperated in {:.2f}s'.format(list(resuit_cnt), end_tm)\n",
    "    # 최종 결과 출력\n",
    "    print(msg)    \n",
    "\n",
    "if __name__ == '__main__':\n",
    "    main(seperate_many)"
   ]
  },
  {
   "cell_type": "markdown",
   "metadata": {},
   "source": [
    "* 위의 코드는 순차 실행할때보다 속도가 늦다. \n",
    "* 이유 : 스레드 9개가 nations.csv 파일 1개만 바라보기 때문에 mutex lock이 걸려서 + Context Switching 비용 발생으로 늦어지게됨(Pyhton GiL)\n",
    "* 파일이 9개였다면 더 빠르겠지만 아니다.\n",
    "* GIL을 우회하기 하기 위해 멀티 프로세싱 방법을 사용!"
   ]
  },
  {
   "cell_type": "markdown",
   "metadata": {},
   "source": [
    "* ThreadPoolExecutor : GIL 종속\n",
    "* ProcessPoolExecutor : GIL 우회, 변경 후 ->"
   ]
  },
  {
   "cell_type": "markdown",
   "metadata": {},
   "source": [
    "### ProcessPoolExecutor로 실행\n",
    "* 단!! 쥬피터로는 동작은 안되고 py파일을 만들어서 동작해야한다"
   ]
  },
  {
   "cell_type": "code",
   "execution_count": 12,
   "metadata": {
    "ExecuteTime": {
     "end_time": "2020-04-14T07:43:05.209247Z",
     "start_time": "2020-04-14T07:43:04.756138Z"
    }
   },
   "outputs": [],
   "source": [
    "import os\n",
    "import time\n",
    "import sys\n",
    "import csv\n",
    "from concurrent import futures\n",
    "\n",
    "# 추출 국가 정보\n",
    "NATION_LS = 'Singapore Germany Israel Norway Canada France Spain Mexico'.split()\n",
    "# 대상 CSV 경로\n",
    "TARGET_CSV = './resources/nations.csv'\n",
    "# 저장 폴더 위치\n",
    "DEST_DIR = './csvs/'\n",
    "# CSV 파일 헤더\n",
    "HEADER = ['Region','Country','Item Type','Sales Channel','Order Priority','Order Date','Order ID','Ship Date','Units Sold','Unit Price','Unit Cost','Total Revenue','Total Cost','Total Profit']\n",
    "\n",
    "# 국가별 csv파일 저장\n",
    "def save_csv(data, filename):\n",
    "    # 최종 경로 생성\n",
    "    path = os.path.join(DEST_DIR, filename)\n",
    "    \n",
    "    with open(path, 'w', newline='') as  fp:\n",
    "        writer = csv.DictWriter(fp, fieldnames=HEADER)\n",
    "        writer.writeheader()\n",
    "        for row in data:\n",
    "            writer.writerow(row)\n",
    "\n",
    "def get_sales_data(nt):\n",
    "    with open(TARGET_CSV, 'r') as f:\n",
    "        reader = csv.DictReader(f)\n",
    "        # dict를 리스트로 적재\n",
    "        data = []\n",
    "        # Header 확인\n",
    "        #print(reader.fieldnames)\n",
    "        for r in reader:\n",
    "            #print(r)\n",
    "            if r['Country'] == nt:\n",
    "                data.append(r)\n",
    "    return data\n",
    "\n",
    "def show(text):\n",
    "    print(text, end=' ')\n",
    "    sys.stdout.flush()\n",
    "\n",
    "def seperate_many(nt):\n",
    "    # 분리 데이터\n",
    "    data = get_sales_data(nt)\n",
    "    # 상황 출력\n",
    "    show(nt)\n",
    "    # 파일 저장\n",
    "    save_csv(data, nt.lower()+'.csv')\n",
    "        \n",
    "    return nt\n",
    "\n",
    "def main(seperate_many):\n",
    "    # worker 개수 \n",
    "    worker = min(20, len(NATION_LS))\n",
    "    # 시작시간\n",
    "    start_tm = time.time()\n",
    "    # 결과 건수\n",
    "    with futures.ProcessPoolExecutor() as executor:\n",
    "        # map -> 작업 순서 유지, 즉시 실행\n",
    "        result_cnt = executor.map(seperate_many, sorted(NATION_LS))\n",
    "    # 종료 시간\n",
    "    end_tm = time.time() - start_tm\n",
    "    \n",
    "#     msg = \"\\n{} csv seperate in {:.2f}s\"\n",
    "#     print(msg.format(list(result_cnt), end_tm))  \n",
    "\n",
    "if __name__ == '__main__':\n",
    "    main(seperate_many)"
   ]
  },
  {
   "cell_type": "markdown",
   "metadata": {},
   "source": [
    "### Concurrent.future 방법2 (submit을 통해)=> THreadPoolExecutor, ProcessPoolExecutor\n",
    "* 마찬가지로 쥬피터 노트북 아닌 .py로 결과 확인해야 한다!"
   ]
  },
  {
   "cell_type": "code",
   "execution_count": 16,
   "metadata": {
    "ExecuteTime": {
     "end_time": "2020-04-14T07:55:38.240468Z",
     "start_time": "2020-04-14T07:55:37.745699Z"
    }
   },
   "outputs": [
    {
     "name": "stdout",
     "output_type": "stream",
     "text": [
      "Scheduled for Canada : <Future at 0x269ba878808 state=running>\n",
      "\n",
      "Scheduled for France : <Future at 0x269ba8c5848 state=pending>\n",
      "\n",
      "Scheduled for Germany : <Future at 0x269ba8c9988 state=pending>\n",
      "\n",
      "Scheduled for Israel : <Future at 0x269ba8c9a08 state=pending>\n",
      "\n",
      "Scheduled for Mexico : <Future at 0x269ba8be5c8 state=pending>\n",
      "\n",
      "Scheduled for Norway : <Future at 0x269ba88bc48 state=pending>\n",
      "\n",
      "Scheduled for Singapore : <Future at 0x269ba88bc88 state=pending>\n",
      "\n",
      "Scheduled for Spain : <Future at 0x269ba88eb08 state=pending>\n",
      "\n"
     ]
    },
    {
     "ename": "BrokenProcessPool",
     "evalue": "A process in the process pool was terminated abruptly while the future was running or pending.",
     "output_type": "error",
     "traceback": [
      "\u001b[1;31m---------------------------------------------------------------------------\u001b[0m",
      "\u001b[1;31mBrokenProcessPool\u001b[0m                         Traceback (most recent call last)",
      "\u001b[1;32m<ipython-input-16-b1e886ca88cf>\u001b[0m in \u001b[0;36m<module>\u001b[1;34m\u001b[0m\n\u001b[0;32m     86\u001b[0m \u001b[1;33m\u001b[0m\u001b[0m\n\u001b[0;32m     87\u001b[0m \u001b[1;32mif\u001b[0m \u001b[0m__name__\u001b[0m \u001b[1;33m==\u001b[0m \u001b[1;34m'__main__'\u001b[0m\u001b[1;33m:\u001b[0m\u001b[1;33m\u001b[0m\u001b[1;33m\u001b[0m\u001b[0m\n\u001b[1;32m---> 88\u001b[1;33m     \u001b[0mmain\u001b[0m\u001b[1;33m(\u001b[0m\u001b[0mseperate_many\u001b[0m\u001b[1;33m)\u001b[0m\u001b[1;33m\u001b[0m\u001b[1;33m\u001b[0m\u001b[0m\n\u001b[0m",
      "\u001b[1;32m<ipython-input-16-b1e886ca88cf>\u001b[0m in \u001b[0;36mmain\u001b[1;34m(seperate_many)\u001b[0m\n\u001b[0;32m     72\u001b[0m \u001b[1;33m\u001b[0m\u001b[0m\n\u001b[0;32m     73\u001b[0m         \u001b[1;32mfor\u001b[0m \u001b[0mfuture\u001b[0m \u001b[1;32min\u001b[0m \u001b[0mfutures\u001b[0m\u001b[1;33m.\u001b[0m\u001b[0mas_completed\u001b[0m\u001b[1;33m(\u001b[0m\u001b[0mfuture_list\u001b[0m\u001b[1;33m)\u001b[0m\u001b[1;33m:\u001b[0m\u001b[1;33m\u001b[0m\u001b[1;33m\u001b[0m\u001b[0m\n\u001b[1;32m---> 74\u001b[1;33m             \u001b[0mresult\u001b[0m \u001b[1;33m=\u001b[0m \u001b[0mfuture\u001b[0m\u001b[1;33m.\u001b[0m\u001b[0mresult\u001b[0m\u001b[1;33m(\u001b[0m\u001b[1;33m)\u001b[0m\u001b[1;33m\u001b[0m\u001b[1;33m\u001b[0m\u001b[0m\n\u001b[0m\u001b[0;32m     75\u001b[0m             \u001b[0mdone\u001b[0m \u001b[1;33m=\u001b[0m \u001b[0mfuture\u001b[0m\u001b[1;33m.\u001b[0m\u001b[0mdone\u001b[0m\u001b[1;33m(\u001b[0m\u001b[1;33m)\u001b[0m\u001b[1;33m\u001b[0m\u001b[1;33m\u001b[0m\u001b[0m\n\u001b[0;32m     76\u001b[0m             \u001b[0mcancelled\u001b[0m \u001b[1;33m=\u001b[0m \u001b[0mfuture\u001b[0m\u001b[1;33m.\u001b[0m\u001b[0mcancelled\u001b[0m\u001b[1;33m\u001b[0m\u001b[1;33m\u001b[0m\u001b[0m\n",
      "\u001b[1;32m~\\Anaconda3\\lib\\concurrent\\futures\\_base.py\u001b[0m in \u001b[0;36mresult\u001b[1;34m(self, timeout)\u001b[0m\n\u001b[0;32m    426\u001b[0m                 \u001b[1;32mraise\u001b[0m \u001b[0mCancelledError\u001b[0m\u001b[1;33m(\u001b[0m\u001b[1;33m)\u001b[0m\u001b[1;33m\u001b[0m\u001b[1;33m\u001b[0m\u001b[0m\n\u001b[0;32m    427\u001b[0m             \u001b[1;32melif\u001b[0m \u001b[0mself\u001b[0m\u001b[1;33m.\u001b[0m\u001b[0m_state\u001b[0m \u001b[1;33m==\u001b[0m \u001b[0mFINISHED\u001b[0m\u001b[1;33m:\u001b[0m\u001b[1;33m\u001b[0m\u001b[1;33m\u001b[0m\u001b[0m\n\u001b[1;32m--> 428\u001b[1;33m                 \u001b[1;32mreturn\u001b[0m \u001b[0mself\u001b[0m\u001b[1;33m.\u001b[0m\u001b[0m__get_result\u001b[0m\u001b[1;33m(\u001b[0m\u001b[1;33m)\u001b[0m\u001b[1;33m\u001b[0m\u001b[1;33m\u001b[0m\u001b[0m\n\u001b[0m\u001b[0;32m    429\u001b[0m \u001b[1;33m\u001b[0m\u001b[0m\n\u001b[0;32m    430\u001b[0m             \u001b[0mself\u001b[0m\u001b[1;33m.\u001b[0m\u001b[0m_condition\u001b[0m\u001b[1;33m.\u001b[0m\u001b[0mwait\u001b[0m\u001b[1;33m(\u001b[0m\u001b[0mtimeout\u001b[0m\u001b[1;33m)\u001b[0m\u001b[1;33m\u001b[0m\u001b[1;33m\u001b[0m\u001b[0m\n",
      "\u001b[1;32m~\\Anaconda3\\lib\\concurrent\\futures\\_base.py\u001b[0m in \u001b[0;36m__get_result\u001b[1;34m(self)\u001b[0m\n\u001b[0;32m    382\u001b[0m     \u001b[1;32mdef\u001b[0m \u001b[0m__get_result\u001b[0m\u001b[1;33m(\u001b[0m\u001b[0mself\u001b[0m\u001b[1;33m)\u001b[0m\u001b[1;33m:\u001b[0m\u001b[1;33m\u001b[0m\u001b[1;33m\u001b[0m\u001b[0m\n\u001b[0;32m    383\u001b[0m         \u001b[1;32mif\u001b[0m \u001b[0mself\u001b[0m\u001b[1;33m.\u001b[0m\u001b[0m_exception\u001b[0m\u001b[1;33m:\u001b[0m\u001b[1;33m\u001b[0m\u001b[1;33m\u001b[0m\u001b[0m\n\u001b[1;32m--> 384\u001b[1;33m             \u001b[1;32mraise\u001b[0m \u001b[0mself\u001b[0m\u001b[1;33m.\u001b[0m\u001b[0m_exception\u001b[0m\u001b[1;33m\u001b[0m\u001b[1;33m\u001b[0m\u001b[0m\n\u001b[0m\u001b[0;32m    385\u001b[0m         \u001b[1;32melse\u001b[0m\u001b[1;33m:\u001b[0m\u001b[1;33m\u001b[0m\u001b[1;33m\u001b[0m\u001b[0m\n\u001b[0;32m    386\u001b[0m             \u001b[1;32mreturn\u001b[0m \u001b[0mself\u001b[0m\u001b[1;33m.\u001b[0m\u001b[0m_result\u001b[0m\u001b[1;33m\u001b[0m\u001b[1;33m\u001b[0m\u001b[0m\n",
      "\u001b[1;31mBrokenProcessPool\u001b[0m: A process in the process pool was terminated abruptly while the future was running or pending."
     ]
    }
   ],
   "source": [
    "import os\n",
    "import time\n",
    "import sys\n",
    "import csv\n",
    "from concurrent import futures\n",
    "\n",
    "# 추출 국가 정보\n",
    "NATION_LS = 'Singapore Germany Israel Norway Canada France Spain Mexico'.split()\n",
    "# 대상 CSV 경로\n",
    "TARGET_CSV = './resources/nations.csv'\n",
    "# 저장 폴더 위치\n",
    "DEST_DIR = './csvs/'\n",
    "# CSV 파일 헤더\n",
    "HEADER = ['Region','Country','Item Type','Sales Channel','Order Priority','Order Date','Order ID','Ship Date','Units Sold','Unit Price','Unit Cost','Total Revenue','Total Cost','Total Profit']\n",
    "\n",
    "# 국가별 csv파일 저장\n",
    "def save_csv(data, filename):\n",
    "    # 최종 경로 생성\n",
    "    path = os.path.join(DEST_DIR, filename)\n",
    "    \n",
    "    with open(path, 'w', newline='') as  fp:\n",
    "        writer = csv.DictWriter(fp, fieldnames=HEADER)\n",
    "        writer.writeheader()\n",
    "        for row in data:\n",
    "            writer.writerow(row)\n",
    "\n",
    "def get_sales_data(nt):\n",
    "    with open(TARGET_CSV, 'r') as f:\n",
    "        reader = csv.DictReader(f)\n",
    "        # dict를 리스트로 적재\n",
    "        data = []\n",
    "        # Header 확인\n",
    "        #print(reader.fieldnames)\n",
    "        for r in reader:\n",
    "            #print(r)\n",
    "            if r['Country'] == nt:\n",
    "                data.append(r)\n",
    "    return data\n",
    "\n",
    "def show(text):\n",
    "    print(text, end=' ')\n",
    "    sys.stdout.flush()\n",
    "\n",
    "def seperate_many(nt):\n",
    "    # 분리 데이터\n",
    "    data = get_sales_data(nt)\n",
    "    # 상황 출력\n",
    "    show(nt)\n",
    "    # 파일 저장\n",
    "    save_csv(data, nt.lower()+'.csv')\n",
    "        \n",
    "    return nt\n",
    "\n",
    "def main(seperate_many):\n",
    "    # worker 개수 \n",
    "    worker = min(20, len(NATION_LS))\n",
    "    # 시작시간\n",
    "    start_tm = time.time()\n",
    "    # 결과 건수\n",
    "    future_list = []\n",
    "    with futures.ProcessPoolExecutor() as executor:\n",
    "        # Submit -> Callable 객체 스케줄링(실행 예약) -> future로 반환\n",
    "        # future -> result(), drop(), as_complete() 주로 사용\n",
    "        for nt in sorted(NATION_LS):\n",
    "            # future 반환\n",
    "            future = executor.submit(seperate_many, nt)\n",
    "            # 스케줄링\n",
    "            future_list.append(future)\n",
    "            # 출력1\n",
    "            print(\"Scheduled for {} : {}\".format(nt, future))\n",
    "            print()\n",
    "        \n",
    "        for future in futures.as_completed(future_list):\n",
    "            result = future.result()\n",
    "            done = future.done()\n",
    "            cancelled = future.cancelled\n",
    "            print(\"Future Result : {}, Done : {}\".format(result, done))\n",
    "            print(\"Future Cancelled : {}\".format(cancelled))\n",
    "            print()\n",
    "\n",
    "    #종료 시간\n",
    "    end_tm = time.time() - start_tm\n",
    "\n",
    "    msg = \"\\n{} csv seperate in {:.2f}s\"\n",
    "    print(msg.format(list(future_list), end_tm))\n",
    "\n",
    "if __name__ == '__main__':\n",
    "    main(seperate_many)"
   ]
  },
  {
   "cell_type": "code",
   "execution_count": null,
   "metadata": {},
   "outputs": [],
   "source": []
  }
 ],
 "metadata": {
  "kernelspec": {
   "display_name": "Python 3",
   "language": "python",
   "name": "python3"
  },
  "language_info": {
   "codemirror_mode": {
    "name": "ipython",
    "version": 3
   },
   "file_extension": ".py",
   "mimetype": "text/x-python",
   "name": "python",
   "nbconvert_exporter": "python",
   "pygments_lexer": "ipython3",
   "version": "3.7.6"
  }
 },
 "nbformat": 4,
 "nbformat_minor": 4
}
