{
 "cells": [
  {
   "cell_type": "markdown",
   "metadata": {},
   "source": [
    "# Asyncio\n",
    "* Asyncio 사용을 위해 순차 실행,  concurrent.future 와 같이 비교해보자"
   ]
  },
  {
   "cell_type": "markdown",
   "metadata": {},
   "source": [
    "## 순차 실행"
   ]
  },
  {
   "cell_type": "code",
   "execution_count": 3,
   "metadata": {
    "ExecuteTime": {
     "end_time": "2020-04-14T08:22:45.629037Z",
     "start_time": "2020-04-14T08:22:43.676248Z"
    }
   },
   "outputs": [
    {
     "name": "stdout",
     "output_type": "stream",
     "text": [
      "start http://daum.net\n",
      "Done http://daum.net\n",
      "start https://google.com\n",
      "Done https://google.com\n",
      "start https://apple.com\n",
      "Done https://apple.com\n",
      "start https://tistory.com\n",
      "Done https://tistory.com\n",
      "start https://github.com/\n",
      "Done https://github.com/\n",
      "start https://gmarket.co.kr/\n",
      "Done https://gmarket.co.kr/\n",
      "총 실행 시간 1.946050200000002\n"
     ]
    }
   ],
   "source": [
    "import timeit\n",
    "from urllib.request import urlopen\n",
    "\n",
    "urls = ['http://daum.net', 'https://google.com', 'https://apple.com', 'https://tistory.com', 'https://github.com/', 'https://gmarket.co.kr/']\n",
    "\n",
    "start =timeit.default_timer()\n",
    "\n",
    "for url in urls:\n",
    "    print(\"start\", url)\n",
    "    urlopen(url)\n",
    "    print(\"Done\", url)\n",
    "    \n",
    "# 완료시간 - 시작시간\n",
    "duration = timeit.default_timer() - start\n",
    "\n",
    "print(\"총 실행 시간\", duration)"
   ]
  },
  {
   "cell_type": "markdown",
   "metadata": {},
   "source": [
    "### concurrent.futures thread 사용"
   ]
  },
  {
   "cell_type": "code",
   "execution_count": 10,
   "metadata": {
    "ExecuteTime": {
     "end_time": "2020-04-14T08:46:13.459430Z",
     "start_time": "2020-04-14T08:46:12.541846Z"
    }
   },
   "outputs": [
    {
     "name": "stdout",
     "output_type": "stream",
     "text": [
      "Thread Name :  ThreadPoolExecutor-3_0 Start http://daum.net\n",
      "Thread Name :  ThreadPoolExecutor-3_1Thread Name :  Start https://google.com\n",
      " ThreadPoolExecutor-3_2 Start https://apple.com\n",
      "Thread Name :  ThreadPoolExecutor-3_3 Start https://tistory.com\n",
      "Thread Name :  ThreadPoolExecutor-3_4 Start https://github.com/\n",
      "Thread Name :  ThreadPoolExecutor-3_5 Start https://gmarket.co.kr/\n",
      "Thread Name :  ThreadPoolExecutor-3_4 Done https://github.com/\n",
      "Thread Name :  ThreadPoolExecutor-3_0 Done http://daum.net\n",
      "Thread Name :  ThreadPoolExecutor-3_3 Done https://tistory.com\n",
      "Thread Name :  ThreadPoolExecutor-3_5 Done https://gmarket.co.kr/\n",
      "Thread Name :  ThreadPoolExecutor-3_1 Done https://google.com\n",
      "Thread Name :  ThreadPoolExecutor-3_2 Done https://apple.com\n",
      "총 실행 시간 0.9046983999999156\n"
     ]
    }
   ],
   "source": [
    "import timeit\n",
    "from urllib.request import urlopen\n",
    "from concurrent.futures import ThreadPoolExecutor\n",
    "import threading\n",
    "\n",
    "urls = ['http://daum.net', 'https://google.com', 'https://apple.com', 'https://tistory.com', 'https://github.com/', 'https://gmarket.co.kr/']\n",
    "\n",
    "start =timeit.default_timer()\n",
    "\n",
    "def fetch(url):\n",
    "    print('Thread Name : ', threading.current_thread().getName(), 'Start', url)\n",
    "    urlopen(url)\n",
    "    print('Thread Name : ', threading.current_thread().getName(), 'Done', url)\n",
    "\n",
    "def main():\n",
    "    with ThreadPoolExecutor(max_workers=10) as executor:\n",
    "        for url in urls:\n",
    "            executor.submit(fetch, url)\n",
    "\n",
    "if __name__ == '__main__':\n",
    "    main()\n",
    "\n",
    "    # 완료시간 - 시작시간\n",
    "    duration = timeit.default_timer() - start\n",
    "\n",
    "    print(\"총 실행 시간\", duration)"
   ]
  },
  {
   "cell_type": "markdown",
   "metadata": {},
   "source": [
    "## Asyncio\n",
    "* 결과 확인은 .py로 확인해보자"
   ]
  },
  {
   "cell_type": "code",
   "execution_count": 9,
   "metadata": {
    "ExecuteTime": {
     "end_time": "2020-04-14T08:42:33.309017Z",
     "start_time": "2020-04-14T08:42:33.279097Z"
    }
   },
   "outputs": [
    {
     "ename": "RuntimeError",
     "evalue": "This event loop is already running",
     "output_type": "error",
     "traceback": [
      "\u001b[1;31m---------------------------------------------------------------------------\u001b[0m",
      "\u001b[1;31mRuntimeError\u001b[0m                              Traceback (most recent call last)",
      "\u001b[1;32m<ipython-input-9-42e1f1e06279>\u001b[0m in \u001b[0;36m<module>\u001b[1;34m\u001b[0m\n\u001b[0;32m     29\u001b[0m     \u001b[0mloop\u001b[0m \u001b[1;33m=\u001b[0m \u001b[0masyncio\u001b[0m\u001b[1;33m.\u001b[0m\u001b[0mget_event_loop\u001b[0m\u001b[1;33m(\u001b[0m\u001b[1;33m)\u001b[0m\u001b[1;33m\u001b[0m\u001b[1;33m\u001b[0m\u001b[0m\n\u001b[0;32m     30\u001b[0m     \u001b[1;31m# 루프 대기\u001b[0m\u001b[1;33m\u001b[0m\u001b[1;33m\u001b[0m\u001b[1;33m\u001b[0m\u001b[0m\n\u001b[1;32m---> 31\u001b[1;33m     \u001b[0mloop\u001b[0m\u001b[1;33m.\u001b[0m\u001b[0mrun_until_complete\u001b[0m\u001b[1;33m(\u001b[0m\u001b[0mmain\u001b[0m\u001b[1;33m(\u001b[0m\u001b[1;33m)\u001b[0m\u001b[1;33m)\u001b[0m\u001b[1;33m\u001b[0m\u001b[1;33m\u001b[0m\u001b[0m\n\u001b[0m\u001b[0;32m     32\u001b[0m     \u001b[0mmain\u001b[0m\u001b[1;33m(\u001b[0m\u001b[1;33m)\u001b[0m\u001b[1;33m\u001b[0m\u001b[1;33m\u001b[0m\u001b[0m\n\u001b[0;32m     33\u001b[0m     \u001b[1;31m# 완료시간 - 시작시간\u001b[0m\u001b[1;33m\u001b[0m\u001b[1;33m\u001b[0m\u001b[1;33m\u001b[0m\u001b[0m\n",
      "\u001b[1;32m~\\Anaconda3\\lib\\asyncio\\base_events.py\u001b[0m in \u001b[0;36mrun_until_complete\u001b[1;34m(self, future)\u001b[0m\n\u001b[0;32m    568\u001b[0m         \u001b[0mfuture\u001b[0m\u001b[1;33m.\u001b[0m\u001b[0madd_done_callback\u001b[0m\u001b[1;33m(\u001b[0m\u001b[0m_run_until_complete_cb\u001b[0m\u001b[1;33m)\u001b[0m\u001b[1;33m\u001b[0m\u001b[1;33m\u001b[0m\u001b[0m\n\u001b[0;32m    569\u001b[0m         \u001b[1;32mtry\u001b[0m\u001b[1;33m:\u001b[0m\u001b[1;33m\u001b[0m\u001b[1;33m\u001b[0m\u001b[0m\n\u001b[1;32m--> 570\u001b[1;33m             \u001b[0mself\u001b[0m\u001b[1;33m.\u001b[0m\u001b[0mrun_forever\u001b[0m\u001b[1;33m(\u001b[0m\u001b[1;33m)\u001b[0m\u001b[1;33m\u001b[0m\u001b[1;33m\u001b[0m\u001b[0m\n\u001b[0m\u001b[0;32m    571\u001b[0m         \u001b[1;32mexcept\u001b[0m\u001b[1;33m:\u001b[0m\u001b[1;33m\u001b[0m\u001b[1;33m\u001b[0m\u001b[0m\n\u001b[0;32m    572\u001b[0m             \u001b[1;32mif\u001b[0m \u001b[0mnew_task\u001b[0m \u001b[1;32mand\u001b[0m \u001b[0mfuture\u001b[0m\u001b[1;33m.\u001b[0m\u001b[0mdone\u001b[0m\u001b[1;33m(\u001b[0m\u001b[1;33m)\u001b[0m \u001b[1;32mand\u001b[0m \u001b[1;32mnot\u001b[0m \u001b[0mfuture\u001b[0m\u001b[1;33m.\u001b[0m\u001b[0mcancelled\u001b[0m\u001b[1;33m(\u001b[0m\u001b[1;33m)\u001b[0m\u001b[1;33m:\u001b[0m\u001b[1;33m\u001b[0m\u001b[1;33m\u001b[0m\u001b[0m\n",
      "\u001b[1;32m~\\Anaconda3\\lib\\asyncio\\base_events.py\u001b[0m in \u001b[0;36mrun_forever\u001b[1;34m(self)\u001b[0m\n\u001b[0;32m    523\u001b[0m         \u001b[0mself\u001b[0m\u001b[1;33m.\u001b[0m\u001b[0m_check_closed\u001b[0m\u001b[1;33m(\u001b[0m\u001b[1;33m)\u001b[0m\u001b[1;33m\u001b[0m\u001b[1;33m\u001b[0m\u001b[0m\n\u001b[0;32m    524\u001b[0m         \u001b[1;32mif\u001b[0m \u001b[0mself\u001b[0m\u001b[1;33m.\u001b[0m\u001b[0mis_running\u001b[0m\u001b[1;33m(\u001b[0m\u001b[1;33m)\u001b[0m\u001b[1;33m:\u001b[0m\u001b[1;33m\u001b[0m\u001b[1;33m\u001b[0m\u001b[0m\n\u001b[1;32m--> 525\u001b[1;33m             \u001b[1;32mraise\u001b[0m \u001b[0mRuntimeError\u001b[0m\u001b[1;33m(\u001b[0m\u001b[1;34m'This event loop is already running'\u001b[0m\u001b[1;33m)\u001b[0m\u001b[1;33m\u001b[0m\u001b[1;33m\u001b[0m\u001b[0m\n\u001b[0m\u001b[0;32m    526\u001b[0m         \u001b[1;32mif\u001b[0m \u001b[0mevents\u001b[0m\u001b[1;33m.\u001b[0m\u001b[0m_get_running_loop\u001b[0m\u001b[1;33m(\u001b[0m\u001b[1;33m)\u001b[0m \u001b[1;32mis\u001b[0m \u001b[1;32mnot\u001b[0m \u001b[1;32mNone\u001b[0m\u001b[1;33m:\u001b[0m\u001b[1;33m\u001b[0m\u001b[1;33m\u001b[0m\u001b[0m\n\u001b[0;32m    527\u001b[0m             raise RuntimeError(\n",
      "\u001b[1;31mRuntimeError\u001b[0m: This event loop is already running"
     ]
    },
    {
     "name": "stdout",
     "output_type": "stream",
     "text": [
      "Thread Name :  MainThread Start http://daum.net\n",
      "Thread Name :  MainThread Start https://google.com\n",
      "Thread Name :  MainThread Start https://apple.com\n",
      "Thread Name :  MainThread Start https://tistory.com\n",
      "Thread Name :  MainThread Start https://github.com/\n",
      "Thread Name :  MainThread Start https://gmarket.co.kr/\n",
      "Thread Name :  MainThread Done https://github.com/\n",
      "Thread Name :  MainThread Done http://daum.net\n",
      "Thread Name :  MainThread Done https://google.com\n",
      "Thread Name :  MainThread Done https://gmarket.co.kr/\n",
      "Thread Name :  MainThread Done https://tistory.com\n",
      "Thread Name :  MainThread Done https://apple.com\n"
     ]
    }
   ],
   "source": [
    "import timeit\n",
    "from urllib.request import urlopen\n",
    "from concurrent.futures import ThreadPoolExecutor\n",
    "import threading\n",
    "import asyncio\n",
    "\n",
    "urls = ['http://daum.net', 'https://google.com', 'https://apple.com', 'https://tistory.com', 'https://github.com/', 'https://gmarket.co.kr/']\n",
    "start = timeit.default_timer()\n",
    "\n",
    "async def fetch(url, executor):\n",
    "    print(\"Thread Name : \", threading.current_thread().getName(), 'Start', url)\n",
    "    res = await loop.run_in_executor(executor, urlopen, url)\n",
    "    print(\"Thread Name : \", threading.current_thread().getName(), 'Done', url)\n",
    "    return res.read()\n",
    "\n",
    "async def main():\n",
    "    # 쓰레드 풀 생성\n",
    "    executor = ThreadPoolExecutor(max_workers=10)\n",
    "    # asyncio.ensure_future\n",
    "    futures = [asyncio.ensure_future(fetch(url, executor)) for url in urls]\n",
    "    rst = await asyncio.gather(*futures)\n",
    "    # print()\n",
    "    # print(\"Result :\", rst)\n",
    "\n",
    "\n",
    "\n",
    "if __name__ == '__main__':\n",
    "    #루프 생성\n",
    "    loop = asyncio.get_event_loop()\n",
    "    # 루프 대기\n",
    "    loop.run_until_complete(main())\n",
    "    main()\n",
    "    # 완료시간 - 시작시간\n",
    "    duration = timeit.default_timer() - start\n",
    "\n",
    "    # 총 실행 시간\n",
    "    print(\"Total Time\", duration)"
   ]
  }
 ],
 "metadata": {
  "kernelspec": {
   "display_name": "Python 3",
   "language": "python",
   "name": "python3"
  },
  "language_info": {
   "codemirror_mode": {
    "name": "ipython",
    "version": 3
   },
   "file_extension": ".py",
   "mimetype": "text/x-python",
   "name": "python",
   "nbconvert_exporter": "python",
   "pygments_lexer": "ipython3",
   "version": "3.7.6"
  }
 },
 "nbformat": 4,
 "nbformat_minor": 4
}
