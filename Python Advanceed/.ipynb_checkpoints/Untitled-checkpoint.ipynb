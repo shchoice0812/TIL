{
 "cells": [
  {
   "cell_type": "markdown",
   "metadata": {},
   "source": [
    "### First Class Function (일급 함수)\n",
    "#### 1. First Class Function 란\n",
    "프로그래밍 언어가 함수를 First-class citizen으로 취급하는 것을 말한다<br>\n",
    "하지만 First Class Function이라는 개념을 처음 듣는 사람에게는 다소 어려운 말일 것 같아 다음과 같이 표현을 해보겠다\n",
    "* 변수에 저장 가능한 함수를 First Class Function이라고 한다.\n",
    "\n",
    "하지만 이는 일급함수가 되기 위한 조건 중 하나이며 다음 조건들이 더 있다.\n",
    "* 함수를 다른 함수에 "
   ]
  },
  {
   "cell_type": "code",
   "execution_count": 1,
   "metadata": {
    "ExecuteTime": {
     "end_time": "2020-03-04T16:34:14.424670Z",
     "start_time": "2020-03-04T16:34:14.409746Z"
    }
   },
   "outputs": [
    {
     "name": "stdout",
     "output_type": "stream",
     "text": [
      "Running function: add_ints\n",
      "Positional arguments: (3, 5)\n",
      "Keyword arguments: {}\n",
      "Result: 8\n",
      "8\n"
     ]
    }
   ],
   "source": [
    "def document_it(func):\n",
    "    def new_function(*args, **kwargs):\n",
    "        print('Running function:', func.__name__)\n",
    "        print('Positional arguments:', args)\n",
    "        print('Keyword arguments:', kwargs)\n",
    "        result = func(*args, **kwargs)\n",
    "        print('Result:', result)\n",
    "        return result\n",
    "    return new_function\n",
    "\n",
    "\n",
    "def add_ints(a, b):\n",
    "    return a + b\n",
    "\n",
    "# add_ints(3, 5) = 8\n",
    "decorated_add_ints = document_it(add_ints)\n",
    "print(decorated_add_ints(3, 5))"
   ]
  },
  {
   "cell_type": "code",
   "execution_count": 3,
   "metadata": {
    "ExecuteTime": {
     "end_time": "2020-03-04T16:51:06.160921Z",
     "start_time": "2020-03-04T16:51:06.150981Z"
    }
   },
   "outputs": [
    {
     "ename": "SyntaxError",
     "evalue": "Missing parentheses in call to 'print'. Did you mean print('Log: ', msg)? (<ipython-input-3-691f18c2aa21>, line 4)",
     "output_type": "error",
     "traceback": [
      "\u001b[1;36m  File \u001b[1;32m\"<ipython-input-3-691f18c2aa21>\"\u001b[1;36m, line \u001b[1;32m4\u001b[0m\n\u001b[1;33m    print 'Log: ', msg\u001b[0m\n\u001b[1;37m                ^\u001b[0m\n\u001b[1;31mSyntaxError\u001b[0m\u001b[1;31m:\u001b[0m Missing parentheses in call to 'print'. Did you mean print('Log: ', msg)?\n"
     ]
    }
   ],
   "source": [
    "def logger(msg):\n",
    "    \n",
    "    def log_message(): #1\n",
    "        print ('Log: ', msg)\n",
    "    \n",
    "    return log_message\n",
    "\n",
    "log_hi = logger('Hi')\n",
    "print (log_hi) # log_message 오브젝트가 출력됩니다.\n",
    "log_hi() # \"Log: Hi\"가 출력됩니다.\n",
    "\n",
    "del logger # 글로벌 네임스페이스에서 logger 오브젝트를 지웁니다.\n",
    "\n",
    "# logger 오브젝트가 지워진 것을 확인합니다.\n",
    "try:\n",
    "    print (logger)\n",
    "except NameError:\n",
    "    print ('NameError: logger는 존재하지 않습니다.')\n",
    "\n",
    "log_hi() # logger가 지워진 뒤에도 Log: Hi\"가 출력됩니다."
   ]
  },
  {
   "cell_type": "code",
   "execution_count": null,
   "metadata": {},
   "outputs": [],
   "source": []
  }
 ],
 "metadata": {
  "kernelspec": {
   "display_name": "Python 3",
   "language": "python",
   "name": "python3"
  },
  "language_info": {
   "codemirror_mode": {
    "name": "ipython",
    "version": 3
   },
   "file_extension": ".py",
   "mimetype": "text/x-python",
   "name": "python",
   "nbconvert_exporter": "python",
   "pygments_lexer": "ipython3",
   "version": "3.7.6"
  }
 },
 "nbformat": 4,
 "nbformat_minor": 4
}
