{
 "cells": [
  {
   "cell_type": "code",
   "execution_count": 23,
   "metadata": {
    "ExecuteTime": {
     "end_time": "2020-01-22T00:48:43.390832Z",
     "start_time": "2020-01-22T00:48:43.383895Z"
    }
   },
   "outputs": [],
   "source": [
    "import matplotlib.pyplot as plt\n",
    "from sklearn.model_selection import train_test_split\n",
    "from tensorflow.keras.datasets import mnist\n",
    "from tensorflow.keras.models import Sequential\n",
    "from keras.utils.np_utils import to_categorical\n",
    "from tensorflow.keras.models import Sequential\n",
    "from tensorflow.keras.layers import Activation, Dense\n",
    "from tensorflow.keras import optimizers\n",
    "from tensorflow.keras.layers import Dropout\n",
    "import numpy as np\n",
    "from tensorflow.keras.wrappers.scikit_learn import KerasClassifier\n",
    "from sklearn.ensemble import VotingClassifier\n",
    "from sklearn.metrics import accuracy_score\n",
    "from tensorflow.keras.layers import BatchNormalization\n",
    "\n",
    "import numpy as np\n",
    "import matplotlib.pyplot as plt\n",
    "\n",
    "from sklearn import datasets\n",
    "from sklearn.model_selection import train_test_split\n",
    "from keras.utils.np_utils import to_categorical\n",
    "from tensorflow.keras.models import Sequential\n",
    "from tensorflow.keras import optimizers\n",
    "from tensorflow.keras.layers import Dense, Activation, Flatten, Conv2D, MaxPooling2D\n",
    "from tensorflow.keras.layers import BatchNormalization, Dropout\n",
    "\n",
    "from keras.preprocessing.image import ImageDataGenerator"
   ]
  },
  {
   "cell_type": "code",
   "execution_count": 2,
   "metadata": {
    "ExecuteTime": {
     "end_time": "2020-01-22T00:18:01.020987Z",
     "start_time": "2020-01-22T00:18:01.017957Z"
    }
   },
   "outputs": [],
   "source": [
    "import os\n",
    "os.environ[\"KERAS_BACKEND\"] = \"plaidml.keras.backend\""
   ]
  },
  {
   "cell_type": "markdown",
   "metadata": {},
   "source": [
    "## Load Dataset\n",
    "- Hand writing "
   ]
  },
  {
   "cell_type": "code",
   "execution_count": 36,
   "metadata": {
    "ExecuteTime": {
     "end_time": "2020-01-22T01:06:50.700242Z",
     "start_time": "2020-01-22T01:06:50.582787Z"
    }
   },
   "outputs": [
    {
     "name": "stdout",
     "output_type": "stream",
     "text": [
      "Found 0 images belonging to 0 classes.\n",
      "circle train 개수 :  15\n"
     ]
    }
   ],
   "source": [
    "import os, shutil\n",
    "\n",
    "train_dir = '../dataset/hard_handwriting_shape/train/circle'\n",
    "\n",
    "train_datagen = ImageDataGenerator(rescale=1./255)\n",
    "test_datagen = ImageDataGenerator(rescale=1./255)\n",
    "\n",
    "train_generator = train_datagen.flow_from_directory(\n",
    "    directory = r\"../dataset/hard_handwriting_shape/train/circle\",\n",
    "    target_size=(24,24),\n",
    "    batch_size=20,\n",
    "    class_mode='binary'\n",
    ")\n",
    "\n",
    "print(\"circle train 개수 : \", len(os.listdir(train_dir)))"
   ]
  },
  {
   "cell_type": "markdown",
   "metadata": {
    "ExecuteTime": {
     "end_time": "2020-01-22T01:02:43.557446Z",
     "start_time": "2020-01-22T01:02:43.527491Z"
    }
   },
   "source": [
    "from keras.preprocessing import image\n",
    "\n",
    "train_path = '../dataset/hard_handwriting_shape/train/circle'\n",
    "train_data = os.listdir(train_path)\n",
    "x_train = []\n",
    "\n",
    "for sample in train_data:\n",
    "    img_path = train_path\n",
    "    x = image.load_img(img_path)\n",
    "    # preprocessing if required\n",
    "    x_train.append(x)"
   ]
  },
  {
   "cell_type": "code",
   "execution_count": 56,
   "metadata": {
    "ExecuteTime": {
     "end_time": "2020-01-22T01:38:34.739224Z",
     "start_time": "2020-01-22T01:38:34.517561Z"
    }
   },
   "outputs": [
    {
     "name": "stdout",
     "output_type": "stream",
     "text": [
      "Found 45 images belonging to 3 classes.\n",
      "Found 15 images belonging to 3 classes.\n"
     ]
    }
   ],
   "source": [
    "train_datagen = ImageDataGenerator(rescale=1./255)\n",
    "\n",
    "train_generator = train_datagen.flow_from_directory(\n",
    "        '../dataset/hard_handwriting_shape/train',\n",
    "        target_size=(24, 24),\n",
    "        batch_size=24,\n",
    "        class_mode='categorical')\n",
    "\n",
    "test_datagen = ImageDataGenerator(rescale=1./255)\n",
    "\n",
    "test_generator = test_datagen.flow_from_directory(\n",
    "        '../dataset/hard_handwriting_shape/test',\n",
    "        target_size=(24, 24),    \n",
    "        batch_size=24,\n",
    "        class_mode='categorical')"
   ]
  },
  {
   "cell_type": "code",
   "execution_count": 45,
   "metadata": {
    "ExecuteTime": {
     "end_time": "2020-01-22T01:14:24.980456Z",
     "start_time": "2020-01-22T01:14:24.894171Z"
    }
   },
   "outputs": [],
   "source": [
    "model = Sequential()\n",
    "\n",
    "model.add(Conv2D(input_shape=(24,24,3), filters = 32, kernel_size = (3,3), strides=(1,1), padding='same'))\n",
    "model.add(Activation('relu'))\n",
    "\n",
    "model.add(Conv2D(filters=64, kernel_size=(3,3), strides =(1,1), padding = 'same'))\n",
    "model.add(Activation('relu'))\n",
    "model.add(MaxPooling2D(pool_size = (2,2)))\n",
    "\n",
    "model.add(Flatten())\n",
    "model.add(Dense(32, activation = 'relu', kernel_initializer='he_normal'))\n",
    "model.add(Dropout(0.5))\n",
    "model.add(Dense(3, activation = 'softmax', kernel_initializer = 'he_normal'))\n",
    "\n",
    "adam = optimizers.Adam(lr = 0.001)\n",
    "model.compile(loss = 'categorical_crossentropy', optimizer = adam, metrics = ['accuracy'])\n"
   ]
  },
  {
   "cell_type": "code",
   "execution_count": 46,
   "metadata": {
    "ExecuteTime": {
     "end_time": "2020-01-22T01:14:25.732585Z",
     "start_time": "2020-01-22T01:14:25.725610Z"
    }
   },
   "outputs": [
    {
     "name": "stdout",
     "output_type": "stream",
     "text": [
      "Model: \"sequential_10\"\n",
      "_________________________________________________________________\n",
      "Layer (type)                 Output Shape              Param #   \n",
      "=================================================================\n",
      "conv2d_14 (Conv2D)           (None, 24, 24, 32)        896       \n",
      "_________________________________________________________________\n",
      "activation_14 (Activation)   (None, 24, 24, 32)        0         \n",
      "_________________________________________________________________\n",
      "conv2d_15 (Conv2D)           (None, 24, 24, 64)        18496     \n",
      "_________________________________________________________________\n",
      "activation_15 (Activation)   (None, 24, 24, 64)        0         \n",
      "_________________________________________________________________\n",
      "max_pooling2d_7 (MaxPooling2 (None, 12, 12, 64)        0         \n",
      "_________________________________________________________________\n",
      "flatten_7 (Flatten)          (None, 9216)              0         \n",
      "_________________________________________________________________\n",
      "dense_10 (Dense)             (None, 32)                294944    \n",
      "_________________________________________________________________\n",
      "dropout_3 (Dropout)          (None, 32)                0         \n",
      "_________________________________________________________________\n",
      "dense_11 (Dense)             (None, 3)                 99        \n",
      "=================================================================\n",
      "Total params: 314,435\n",
      "Trainable params: 314,435\n",
      "Non-trainable params: 0\n",
      "_________________________________________________________________\n"
     ]
    }
   ],
   "source": [
    "model.summary()"
   ]
  },
  {
   "cell_type": "code",
   "execution_count": 52,
   "metadata": {
    "ExecuteTime": {
     "end_time": "2020-01-22T01:18:40.274884Z",
     "start_time": "2020-01-22T01:16:34.501517Z"
    }
   },
   "outputs": [
    {
     "name": "stdout",
     "output_type": "stream",
     "text": [
      "Epoch 1/100\n",
      "30/30 [==============================] - 1s 42ms/step - loss: 0.1171 - accuracy: 0.9222 - val_loss: 5.6492 - val_accuracy: 0.3333\n",
      "Epoch 2/100\n",
      "30/30 [==============================] - 1s 41ms/step - loss: 0.1929 - accuracy: 0.9111 - val_loss: 5.6561 - val_accuracy: 0.3333\n",
      "Epoch 3/100\n",
      "30/30 [==============================] - 1s 41ms/step - loss: 0.0965 - accuracy: 0.9444 - val_loss: 5.6730 - val_accuracy: 0.3333\n",
      "Epoch 4/100\n",
      "30/30 [==============================] - 1s 41ms/step - loss: 0.1213 - accuracy: 0.9111 - val_loss: 5.6912 - val_accuracy: 0.3333\n",
      "Epoch 5/100\n",
      "30/30 [==============================] - 1s 42ms/step - loss: 0.0647 - accuracy: 0.9667 - val_loss: 5.7236 - val_accuracy: 0.3333\n",
      "Epoch 6/100\n",
      "30/30 [==============================] - 1s 42ms/step - loss: 0.0999 - accuracy: 0.9556 - val_loss: 4.8105 - val_accuracy: 0.3333\n",
      "Epoch 7/100\n",
      "30/30 [==============================] - 1s 41ms/step - loss: 0.0357 - accuracy: 0.9778 - val_loss: 5.0452 - val_accuracy: 0.3333\n",
      "Epoch 8/100\n",
      "30/30 [==============================] - 1s 42ms/step - loss: 0.1064 - accuracy: 0.9333 - val_loss: 5.1934 - val_accuracy: 0.3333\n",
      "Epoch 9/100\n",
      "30/30 [==============================] - 1s 42ms/step - loss: 0.1574 - accuracy: 0.9000 - val_loss: 5.3119 - val_accuracy: 0.3333\n",
      "Epoch 10/100\n",
      "30/30 [==============================] - 1s 42ms/step - loss: 0.1168 - accuracy: 0.9333 - val_loss: 5.4312 - val_accuracy: 0.3333\n",
      "Epoch 11/100\n",
      "30/30 [==============================] - 1s 42ms/step - loss: 0.1237 - accuracy: 0.9111 - val_loss: 5.5288 - val_accuracy: 0.3333\n",
      "Epoch 12/100\n",
      "30/30 [==============================] - 1s 41ms/step - loss: 0.1128 - accuracy: 0.9444 - val_loss: 5.5851 - val_accuracy: 0.3333\n",
      "Epoch 13/100\n",
      "30/30 [==============================] - 1s 41ms/step - loss: 0.1433 - accuracy: 0.9333 - val_loss: 5.6268 - val_accuracy: 0.3333\n",
      "Epoch 14/100\n",
      "30/30 [==============================] - 1s 41ms/step - loss: 0.0975 - accuracy: 0.9333 - val_loss: 5.6554 - val_accuracy: 0.3333\n",
      "Epoch 15/100\n",
      "30/30 [==============================] - 1s 41ms/step - loss: 0.1442 - accuracy: 0.8889 - val_loss: 5.6851 - val_accuracy: 0.3333\n",
      "Epoch 16/100\n",
      "30/30 [==============================] - 1s 42ms/step - loss: 0.1398 - accuracy: 0.9444 - val_loss: 5.6999 - val_accuracy: 0.3333\n",
      "Epoch 17/100\n",
      "30/30 [==============================] - 1s 42ms/step - loss: 0.1405 - accuracy: 0.9333 - val_loss: 5.7328 - val_accuracy: 0.3333\n",
      "Epoch 18/100\n",
      "30/30 [==============================] - 1s 41ms/step - loss: 0.1500 - accuracy: 0.9222 - val_loss: 5.7542 - val_accuracy: 0.3333\n",
      "Epoch 19/100\n",
      "30/30 [==============================] - 1s 45ms/step - loss: 0.1151 - accuracy: 0.9444 - val_loss: 5.7794 - val_accuracy: 0.3333\n",
      "Epoch 20/100\n",
      "30/30 [==============================] - 1s 42ms/step - loss: 0.0800 - accuracy: 0.9444 - val_loss: 5.8011 - val_accuracy: 0.3333\n",
      "Epoch 21/100\n",
      "30/30 [==============================] - 1s 42ms/step - loss: 0.0887 - accuracy: 0.9444 - val_loss: 5.8222 - val_accuracy: 0.3333\n",
      "Epoch 22/100\n",
      "30/30 [==============================] - 1s 44ms/step - loss: 0.1735 - accuracy: 0.9000 - val_loss: 6.6084 - val_accuracy: 0.3333\n",
      "Epoch 23/100\n",
      "30/30 [==============================] - 1s 42ms/step - loss: 0.1501 - accuracy: 0.9556 - val_loss: 6.6332 - val_accuracy: 0.3333\n",
      "Epoch 24/100\n",
      "30/30 [==============================] - 1s 41ms/step - loss: 0.1146 - accuracy: 0.9556 - val_loss: 5.1451 - val_accuracy: 0.3333\n",
      "Epoch 25/100\n",
      "30/30 [==============================] - 1s 42ms/step - loss: 0.1424 - accuracy: 0.9444 - val_loss: 7.2042 - val_accuracy: 0.2667\n",
      "Epoch 26/100\n",
      "30/30 [==============================] - 1s 41ms/step - loss: 0.2256 - accuracy: 0.9000 - val_loss: 7.6427 - val_accuracy: 0.2667\n",
      "Epoch 27/100\n",
      "30/30 [==============================] - 1s 42ms/step - loss: 0.1321 - accuracy: 0.9667 - val_loss: 5.7733 - val_accuracy: 0.2667\n",
      "Epoch 28/100\n",
      "30/30 [==============================] - 1s 43ms/step - loss: 0.3062 - accuracy: 0.9222 - val_loss: 4.3139 - val_accuracy: 0.4000\n",
      "Epoch 29/100\n",
      "30/30 [==============================] - 1s 45ms/step - loss: 0.1635 - accuracy: 0.9556 - val_loss: 4.9391 - val_accuracy: 0.4000\n",
      "Epoch 30/100\n",
      "30/30 [==============================] - 1s 45ms/step - loss: 0.0814 - accuracy: 0.9556 - val_loss: 5.3740 - val_accuracy: 0.4000\n",
      "Epoch 31/100\n",
      "30/30 [==============================] - 1s 42ms/step - loss: 0.0687 - accuracy: 0.9778 - val_loss: 5.7406 - val_accuracy: 0.4000\n",
      "Epoch 32/100\n",
      "30/30 [==============================] - 1s 42ms/step - loss: 0.0606 - accuracy: 0.9667 - val_loss: 6.2672 - val_accuracy: 0.4000\n",
      "Epoch 33/100\n",
      "30/30 [==============================] - 1s 41ms/step - loss: 0.1330 - accuracy: 0.9222 - val_loss: 6.4474 - val_accuracy: 0.4000\n",
      "Epoch 34/100\n",
      "30/30 [==============================] - 1s 40ms/step - loss: 0.1074 - accuracy: 0.9556 - val_loss: 6.1359 - val_accuracy: 0.4000\n",
      "Epoch 35/100\n",
      "30/30 [==============================] - 1s 42ms/step - loss: 0.0460 - accuracy: 0.9667 - val_loss: 6.1549 - val_accuracy: 0.4000\n",
      "Epoch 36/100\n",
      "30/30 [==============================] - 1s 43ms/step - loss: 0.0773 - accuracy: 0.9556 - val_loss: 6.2312 - val_accuracy: 0.4000\n",
      "Epoch 37/100\n",
      "30/30 [==============================] - 1s 42ms/step - loss: 0.1350 - accuracy: 0.9222 - val_loss: 6.3474 - val_accuracy: 0.4000\n",
      "Epoch 38/100\n",
      "30/30 [==============================] - 1s 42ms/step - loss: 0.0516 - accuracy: 0.9889 - val_loss: 6.3530 - val_accuracy: 0.4000\n",
      "Epoch 39/100\n",
      "30/30 [==============================] - 1s 40ms/step - loss: 0.1006 - accuracy: 0.9556 - val_loss: 6.3885 - val_accuracy: 0.4000\n",
      "Epoch 40/100\n",
      "30/30 [==============================] - 1s 45ms/step - loss: 0.1341 - accuracy: 0.9222 - val_loss: 6.4210 - val_accuracy: 0.4000\n",
      "Epoch 41/100\n",
      "30/30 [==============================] - 1s 41ms/step - loss: 0.0808 - accuracy: 0.9556 - val_loss: 6.4373 - val_accuracy: 0.4000\n",
      "Epoch 42/100\n",
      "30/30 [==============================] - 1s 43ms/step - loss: 0.1178 - accuracy: 0.9444 - val_loss: 6.4504 - val_accuracy: 0.4000\n",
      "Epoch 43/100\n",
      "30/30 [==============================] - 1s 43ms/step - loss: 0.0570 - accuracy: 0.9556 - val_loss: 6.4602 - val_accuracy: 0.4000\n",
      "Epoch 44/100\n",
      "30/30 [==============================] - 1s 43ms/step - loss: 0.0859 - accuracy: 0.9556 - val_loss: 6.4801 - val_accuracy: 0.4000\n",
      "Epoch 45/100\n",
      "30/30 [==============================] - 1s 42ms/step - loss: 0.1795 - accuracy: 0.9111 - val_loss: 6.4942 - val_accuracy: 0.4000\n",
      "Epoch 46/100\n",
      "30/30 [==============================] - 1s 41ms/step - loss: 0.0865 - accuracy: 0.9222 - val_loss: 6.5139 - val_accuracy: 0.4000\n",
      "Epoch 47/100\n",
      "30/30 [==============================] - 1s 42ms/step - loss: 0.0458 - accuracy: 0.9889 - val_loss: 6.6581 - val_accuracy: 0.4000\n",
      "Epoch 48/100\n",
      "30/30 [==============================] - 1s 42ms/step - loss: 0.1162 - accuracy: 0.9444 - val_loss: 6.6771 - val_accuracy: 0.4000\n",
      "Epoch 49/100\n",
      "30/30 [==============================] - 1s 41ms/step - loss: 0.1543 - accuracy: 0.9222 - val_loss: 6.7091 - val_accuracy: 0.4000\n",
      "Epoch 50/100\n",
      "30/30 [==============================] - 1s 43ms/step - loss: 0.0678 - accuracy: 0.9444 - val_loss: 6.7362 - val_accuracy: 0.4000\n",
      "Epoch 51/100\n",
      "30/30 [==============================] - 1s 41ms/step - loss: 0.1145 - accuracy: 0.9556 - val_loss: 6.7701 - val_accuracy: 0.4000\n",
      "Epoch 52/100\n",
      "30/30 [==============================] - 1s 42ms/step - loss: 0.0426 - accuracy: 0.9778 - val_loss: 6.7739 - val_accuracy: 0.4000\n",
      "Epoch 53/100\n",
      "30/30 [==============================] - 1s 42ms/step - loss: 0.0754 - accuracy: 0.9556 - val_loss: 6.7817 - val_accuracy: 0.4000\n",
      "Epoch 54/100\n",
      "30/30 [==============================] - 1s 41ms/step - loss: 0.1353 - accuracy: 0.9444 - val_loss: 6.8178 - val_accuracy: 0.4000\n",
      "Epoch 55/100\n",
      "30/30 [==============================] - 1s 42ms/step - loss: 0.0328 - accuracy: 0.9778 - val_loss: 6.8338 - val_accuracy: 0.4000\n",
      "Epoch 56/100\n",
      "30/30 [==============================] - 1s 41ms/step - loss: 0.0594 - accuracy: 0.9778 - val_loss: 6.7900 - val_accuracy: 0.4000\n",
      "Epoch 57/100\n",
      "30/30 [==============================] - 1s 41ms/step - loss: 0.0655 - accuracy: 0.9556 - val_loss: 6.8467 - val_accuracy: 0.4000\n",
      "Epoch 58/100\n"
     ]
    },
    {
     "name": "stdout",
     "output_type": "stream",
     "text": [
      "30/30 [==============================] - 1s 42ms/step - loss: 0.0686 - accuracy: 0.9667 - val_loss: 6.8587 - val_accuracy: 0.4000\n",
      "Epoch 59/100\n",
      "30/30 [==============================] - 1s 42ms/step - loss: 0.0499 - accuracy: 0.9889 - val_loss: 6.8760 - val_accuracy: 0.4000\n",
      "Epoch 60/100\n",
      "30/30 [==============================] - 1s 44ms/step - loss: 0.0685 - accuracy: 0.9667 - val_loss: 6.8845 - val_accuracy: 0.4000\n",
      "Epoch 61/100\n",
      "30/30 [==============================] - 1s 42ms/step - loss: 0.0854 - accuracy: 0.9778 - val_loss: 6.8917 - val_accuracy: 0.4000\n",
      "Epoch 62/100\n",
      "30/30 [==============================] - 1s 44ms/step - loss: 0.0724 - accuracy: 0.9667 - val_loss: 6.9022 - val_accuracy: 0.4000\n",
      "Epoch 63/100\n",
      "30/30 [==============================] - 1s 41ms/step - loss: 0.0820 - accuracy: 0.9444 - val_loss: 6.9116 - val_accuracy: 0.4000\n",
      "Epoch 64/100\n",
      "30/30 [==============================] - 1s 41ms/step - loss: 0.0586 - accuracy: 0.9889 - val_loss: 6.9203 - val_accuracy: 0.4000\n",
      "Epoch 65/100\n",
      "30/30 [==============================] - 1s 42ms/step - loss: 0.1460 - accuracy: 0.9222 - val_loss: 6.9367 - val_accuracy: 0.4000\n",
      "Epoch 66/100\n",
      "30/30 [==============================] - 1s 42ms/step - loss: 0.0770 - accuracy: 0.9778 - val_loss: 6.8970 - val_accuracy: 0.4000\n",
      "Epoch 67/100\n",
      "30/30 [==============================] - 1s 42ms/step - loss: 0.0838 - accuracy: 0.9556 - val_loss: 6.9176 - val_accuracy: 0.4000\n",
      "Epoch 68/100\n",
      "30/30 [==============================] - 1s 43ms/step - loss: 0.0751 - accuracy: 0.9778 - val_loss: 6.9292 - val_accuracy: 0.4000\n",
      "Epoch 69/100\n",
      "30/30 [==============================] - 1s 42ms/step - loss: 0.0769 - accuracy: 0.9444 - val_loss: 6.9679 - val_accuracy: 0.4000\n",
      "Epoch 70/100\n",
      "30/30 [==============================] - 1s 42ms/step - loss: 0.0763 - accuracy: 0.9556 - val_loss: 7.0066 - val_accuracy: 0.4000\n",
      "Epoch 71/100\n",
      "30/30 [==============================] - 1s 42ms/step - loss: 0.1236 - accuracy: 0.9667 - val_loss: 7.0498 - val_accuracy: 0.4000\n",
      "Epoch 72/100\n",
      "30/30 [==============================] - 1s 42ms/step - loss: 0.1001 - accuracy: 0.9556 - val_loss: 7.0583 - val_accuracy: 0.4000\n",
      "Epoch 73/100\n",
      "30/30 [==============================] - 1s 41ms/step - loss: 0.0591 - accuracy: 0.9667 - val_loss: 7.0769 - val_accuracy: 0.4000\n",
      "Epoch 74/100\n",
      "30/30 [==============================] - 1s 41ms/step - loss: 0.0391 - accuracy: 0.9889 - val_loss: 7.0886 - val_accuracy: 0.4000\n",
      "Epoch 75/100\n",
      "30/30 [==============================] - 1s 42ms/step - loss: 0.0790 - accuracy: 0.9444 - val_loss: 7.0895 - val_accuracy: 0.4000\n",
      "Epoch 76/100\n",
      "30/30 [==============================] - 1s 42ms/step - loss: 0.0573 - accuracy: 0.9889 - val_loss: 7.0997 - val_accuracy: 0.4000\n",
      "Epoch 77/100\n",
      "30/30 [==============================] - 1s 41ms/step - loss: 0.0445 - accuracy: 0.9889 - val_loss: 7.1256 - val_accuracy: 0.4000\n",
      "Epoch 78/100\n",
      "30/30 [==============================] - 1s 41ms/step - loss: 0.0299 - accuracy: 0.9889 - val_loss: 7.1576 - val_accuracy: 0.4000\n",
      "Epoch 79/100\n",
      "30/30 [==============================] - 1s 43ms/step - loss: 0.0596 - accuracy: 0.9778 - val_loss: 7.1629 - val_accuracy: 0.4000\n",
      "Epoch 80/100\n",
      "30/30 [==============================] - 1s 41ms/step - loss: 0.0739 - accuracy: 0.9778 - val_loss: 7.1725 - val_accuracy: 0.4000\n",
      "Epoch 81/100\n",
      "30/30 [==============================] - 1s 42ms/step - loss: 0.0505 - accuracy: 0.9778 - val_loss: 7.1849 - val_accuracy: 0.4000\n",
      "Epoch 82/100\n",
      "30/30 [==============================] - 1s 41ms/step - loss: 0.1063 - accuracy: 0.9667 - val_loss: 7.1962 - val_accuracy: 0.4000\n",
      "Epoch 83/100\n",
      "30/30 [==============================] - 1s 41ms/step - loss: 0.0415 - accuracy: 0.9778 - val_loss: 7.2256 - val_accuracy: 0.4000\n",
      "Epoch 84/100\n",
      "30/30 [==============================] - 1s 42ms/step - loss: 0.1203 - accuracy: 0.9556 - val_loss: 7.2349 - val_accuracy: 0.4000\n",
      "Epoch 85/100\n",
      "30/30 [==============================] - 1s 42ms/step - loss: 0.0501 - accuracy: 0.9778 - val_loss: 7.2374 - val_accuracy: 0.4000\n",
      "Epoch 86/100\n",
      "30/30 [==============================] - 1s 42ms/step - loss: 0.0891 - accuracy: 0.9444 - val_loss: 7.2407 - val_accuracy: 0.4000\n",
      "Epoch 87/100\n",
      "30/30 [==============================] - 1s 41ms/step - loss: 0.0948 - accuracy: 0.9444 - val_loss: 7.2635 - val_accuracy: 0.4000\n",
      "Epoch 88/100\n",
      "30/30 [==============================] - 1s 43ms/step - loss: 0.0645 - accuracy: 0.9778 - val_loss: 7.2783 - val_accuracy: 0.4000\n",
      "Epoch 89/100\n",
      "30/30 [==============================] - 1s 41ms/step - loss: 0.0765 - accuracy: 0.9667 - val_loss: 7.2834 - val_accuracy: 0.4000\n",
      "Epoch 90/100\n",
      "30/30 [==============================] - 1s 41ms/step - loss: 0.0759 - accuracy: 0.9778 - val_loss: 7.2882 - val_accuracy: 0.4000\n",
      "Epoch 91/100\n",
      "30/30 [==============================] - 1s 41ms/step - loss: 0.0463 - accuracy: 0.9889 - val_loss: 7.2957 - val_accuracy: 0.4000\n",
      "Epoch 92/100\n",
      "30/30 [==============================] - 1s 41ms/step - loss: 0.0349 - accuracy: 0.9889 - val_loss: 7.3121 - val_accuracy: 0.4000\n",
      "Epoch 93/100\n",
      "30/30 [==============================] - 1s 41ms/step - loss: 0.0460 - accuracy: 0.9889 - val_loss: 7.3162 - val_accuracy: 0.4000\n",
      "Epoch 94/100\n",
      "30/30 [==============================] - 1s 42ms/step - loss: 0.0593 - accuracy: 0.9667 - val_loss: 7.3232 - val_accuracy: 0.4000\n",
      "Epoch 95/100\n",
      "30/30 [==============================] - 1s 41ms/step - loss: 0.0536 - accuracy: 0.9667 - val_loss: 7.3284 - val_accuracy: 0.4000\n",
      "Epoch 96/100\n",
      "30/30 [==============================] - 1s 41ms/step - loss: 0.0244 - accuracy: 0.9778 - val_loss: 7.3403 - val_accuracy: 0.4000\n",
      "Epoch 97/100\n",
      "30/30 [==============================] - 1s 43ms/step - loss: 0.0724 - accuracy: 0.9778 - val_loss: 7.3483 - val_accuracy: 0.4000\n",
      "Epoch 98/100\n",
      "30/30 [==============================] - 1s 42ms/step - loss: 0.1379 - accuracy: 0.9333 - val_loss: 7.3532 - val_accuracy: 0.4000\n",
      "Epoch 99/100\n",
      "30/30 [==============================] - 1s 41ms/step - loss: 0.0882 - accuracy: 0.9556 - val_loss: 7.3596 - val_accuracy: 0.4000\n",
      "Epoch 100/100\n",
      "30/30 [==============================] - 1s 41ms/step - loss: 0.0388 - accuracy: 0.9778 - val_loss: 7.3686 - val_accuracy: 0.4000\n"
     ]
    },
    {
     "data": {
      "text/plain": [
       "<tensorflow.python.keras.callbacks.History at 0x1f66cc33b88>"
      ]
     },
     "execution_count": 52,
     "metadata": {},
     "output_type": "execute_result"
    }
   ],
   "source": [
    "model.fit_generator(\n",
    "        train_generator,\n",
    "        steps_per_epoch=30,\n",
    "        epochs=100,\n",
    "        validation_data=test_generator,\n",
    "        validation_steps=5)"
   ]
  },
  {
   "cell_type": "code",
   "execution_count": 55,
   "metadata": {
    "ExecuteTime": {
     "end_time": "2020-01-22T01:18:46.226959Z",
     "start_time": "2020-01-22T01:18:46.109615Z"
    }
   },
   "outputs": [
    {
     "name": "stdout",
     "output_type": "stream",
     "text": [
      "accuracy: 40.00%\n"
     ]
    }
   ],
   "source": [
    "scores = model.evaluate_generator(test_generator, steps=5)\n",
    "print(\"%s: %.2f%%\" %(model.metrics_names[1], scores[1]*100))"
   ]
  },
  {
   "cell_type": "code",
   "execution_count": null,
   "metadata": {},
   "outputs": [],
   "source": []
  }
 ],
 "metadata": {
  "kernelspec": {
   "display_name": "Python 3",
   "language": "python",
   "name": "python3"
  },
  "language_info": {
   "codemirror_mode": {
    "name": "ipython",
    "version": 3
   },
   "file_extension": ".py",
   "mimetype": "text/x-python",
   "name": "python",
   "nbconvert_exporter": "python",
   "pygments_lexer": "ipython3",
   "version": "3.7.4"
  }
 },
 "nbformat": 4,
 "nbformat_minor": 2
}
