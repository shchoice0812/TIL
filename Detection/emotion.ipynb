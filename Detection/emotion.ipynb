{
 "cells": [
  {
   "cell_type": "markdown",
   "metadata": {
    "colab_type": "text",
    "id": "7Zu89RTzBMty"
   },
   "source": [
    "# Emotion expression"
   ]
  },
  {
   "cell_type": "code",
   "execution_count": null,
   "metadata": {
    "ExecuteTime": {
     "end_time": "2020-01-31T07:22:43.248551Z",
     "start_time": "2020-01-31T07:22:40.618375Z"
    },
    "colab": {},
    "colab_type": "code",
    "id": "xcfiDv03-cGX"
   },
   "outputs": [],
   "source": [
    "import numpy as np\n",
    "import pandas as pd\n",
    "from matplotlib import pyplot as plt\n",
    "%matplotlib inline\n",
    "from matplotlib.colors import ListedColormap\n",
    "import seaborn as sns\n",
    "import cv2\n",
    "from keras.preprocessing.image import ImageDataGenerator\n",
    "import matplotlib.pyplot as plt\n",
    "import numpy as np\n",
    "from keras.preprocessing import image\n",
    "import sys\n",
    "from keras.models import load_model\n",
    "from keras.layers import Activation, Convolution2D, Dropout, Conv2D\n",
    "from keras.layers import AveragePooling2D, BatchNormalization\n",
    "from keras.layers import GlobalAveragePooling2D\n",
    "from keras.models import Sequential\n",
    "from keras.layers import Flatten\n",
    "from keras.models import Model\n",
    "from keras.layers import Input\n",
    "from keras.layers import MaxPooling2D\n",
    "from keras.layers import SeparableConv2D\n",
    "from keras import layers\n",
    "\n",
    "\n",
    "\n",
    "def imshow(tit, image) :\n",
    "    plt.title(tit)    \n",
    "    if len(image.shape) == 3 :\n",
    "        plt.imshow(cv2.cvtColor(image, cv2.COLOR_BGR2RGB))\n",
    "    else :\n",
    "        plt.imshow(image, cmap=\"gray\")\n",
    "    plt.show()"
   ]
  },
  {
   "cell_type": "code",
   "execution_count": 2,
   "metadata": {
    "ExecuteTime": {
     "end_time": "2020-01-31T07:22:43.254081Z",
     "start_time": "2020-01-31T07:22:43.250107Z"
    }
   },
   "outputs": [],
   "source": [
    "import os\n",
    "os.environ[\"KERAS_BACKEND\"] = \"plaidml.keras.backend\""
   ]
  },
  {
   "cell_type": "code",
   "execution_count": null,
   "metadata": {
    "ExecuteTime": {
     "end_time": "2020-01-31T07:22:45.716094Z",
     "start_time": "2020-01-31T07:22:43.255077Z"
    },
    "colab": {
     "base_uri": "https://localhost:8080/",
     "height": 197
    },
    "colab_type": "code",
    "executionInfo": {
     "elapsed": 17917,
     "status": "ok",
     "timestamp": 1536070616163,
     "user": {
      "displayName": "sagar patel",
      "photoUrl": "https://lh3.googleusercontent.com/a/default-user=s128",
      "userId": "104720725746144732848"
     },
     "user_tz": -330
    },
    "id": "iTJESy7QA-5E",
    "outputId": "686011c3-112d-4922-fc01-59971ae6813e"
   },
   "outputs": [],
   "source": [
    "df = pd.read_csv(\"../datas/fer2013.csv\")\n",
    "df.head()\n",
    "\n",
    "#  0=Angry, 1=Disgust, 2=Fear, 3=Happy, 4=Sad, 5=Surprise, 6=Neutral**"
   ]
  },
  {
   "cell_type": "code",
   "execution_count": null,
   "metadata": {
    "ExecuteTime": {
     "end_time": "2020-01-31T07:22:46.619389Z",
     "start_time": "2020-01-31T07:22:46.615377Z"
    },
    "colab": {
     "base_uri": "https://localhost:8080/",
     "height": 34
    },
    "colab_type": "code",
    "executionInfo": {
     "elapsed": 1297,
     "status": "ok",
     "timestamp": 1536070698799,
     "user": {
      "displayName": "sagar patel",
      "photoUrl": "https://lh3.googleusercontent.com/a/default-user=s128",
      "userId": "104720725746144732848"
     },
     "user_tz": -330
    },
    "id": "prR_SJxiBA8U",
    "outputId": "ef658dd2-f14a-4d56-a38e-fc50bf77ac90"
   },
   "outputs": [],
   "source": [
    "df.shape"
   ]
  },
  {
   "cell_type": "code",
   "execution_count": 1,
   "metadata": {
    "ExecuteTime": {
     "end_time": "2020-01-31T07:22:47.020047Z",
     "start_time": "2020-01-31T07:22:46.919362Z"
    },
    "colab": {
     "base_uri": "https://localhost:8080/",
     "height": 332
    },
    "colab_type": "code",
    "executionInfo": {
     "elapsed": 1600,
     "status": "ok",
     "timestamp": 1536070703377,
     "user": {
      "displayName": "sagar patel",
      "photoUrl": "https://lh3.googleusercontent.com/a/default-user=s128",
      "userId": "104720725746144732848"
     },
     "user_tz": -330
    },
    "id": "ZidMumXvBzpr",
    "outputId": "90217b92-d88e-444d-b9b4-154f0a4320b0"
   },
   "outputs": [
    {
     "ename": "NameError",
     "evalue": "name 'plt' is not defined",
     "output_type": "error",
     "traceback": [
      "\u001b[1;31m---------------------------------------------------------------------------\u001b[0m",
      "\u001b[1;31mNameError\u001b[0m                                 Traceback (most recent call last)",
      "\u001b[1;32m<ipython-input-1-c90f3e384357>\u001b[0m in \u001b[0;36m<module>\u001b[1;34m\u001b[0m\n\u001b[1;32m----> 1\u001b[1;33m \u001b[0mplt\u001b[0m\u001b[1;33m.\u001b[0m\u001b[0mfigure\u001b[0m\u001b[1;33m(\u001b[0m\u001b[0mfigsize\u001b[0m\u001b[1;33m=\u001b[0m\u001b[1;33m(\u001b[0m\u001b[1;36m9\u001b[0m\u001b[1;33m,\u001b[0m\u001b[1;36m4\u001b[0m\u001b[1;33m)\u001b[0m\u001b[1;33m)\u001b[0m\u001b[1;33m\u001b[0m\u001b[1;33m\u001b[0m\u001b[0m\n\u001b[0m\u001b[0;32m      2\u001b[0m \u001b[0msns\u001b[0m\u001b[1;33m.\u001b[0m\u001b[0mcountplot\u001b[0m\u001b[1;33m(\u001b[0m\u001b[0mx\u001b[0m\u001b[1;33m=\u001b[0m\u001b[1;34m'emotion'\u001b[0m\u001b[1;33m,\u001b[0m \u001b[0mdata\u001b[0m\u001b[1;33m=\u001b[0m\u001b[0mdf\u001b[0m\u001b[1;33m)\u001b[0m\u001b[1;33m\u001b[0m\u001b[1;33m\u001b[0m\u001b[0m\n",
      "\u001b[1;31mNameError\u001b[0m: name 'plt' is not defined"
     ]
    }
   ],
   "source": [
    "plt.figure(figsize=(9,4))\n",
    "sns.countplot(x='emotion', data=df)"
   ]
  },
  {
   "cell_type": "code",
   "execution_count": 6,
   "metadata": {
    "ExecuteTime": {
     "end_time": "2020-01-31T07:22:47.394356Z",
     "start_time": "2020-01-31T07:22:47.391370Z"
    },
    "colab": {},
    "colab_type": "code",
    "id": "OshjJPMx95JF"
   },
   "outputs": [],
   "source": [
    "image_size=(48,48)"
   ]
  },
  {
   "cell_type": "code",
   "execution_count": 7,
   "metadata": {
    "ExecuteTime": {
     "end_time": "2020-01-31T07:23:05.044159Z",
     "start_time": "2020-01-31T07:22:47.871466Z"
    },
    "colab": {},
    "colab_type": "code",
    "id": "HRs4m6UvM7AO"
   },
   "outputs": [],
   "source": [
    "pixels = df['pixels'].tolist() # Converting the relevant column element into a list for each row\n",
    "width, height = 48, 48\n",
    "faces = []\n",
    "for pixel_sequence in pixels:\n",
    "  face = [int(pixel) for pixel in pixel_sequence.split(' ')] # Splitting the string by space character as a list\n",
    "  face = np.asarray(face).reshape(width, height) #converting the list to numpy array in size of 48*48\n",
    "  face = cv2.resize(face.astype('uint8'),image_size) #resize the image to have 48 cols (width) and 48 rows (height)\n",
    "  faces.append(face.astype('float32')) #makes the list of each images of 48*48 and their pixels in numpyarray form\n",
    "  \n",
    "faces = np.asarray(faces) #converting the list into numpy array\n",
    "faces = np.expand_dims(faces, -1) #Expand the shape of an array -1=last dimension"
   ]
  },
  {
   "cell_type": "code",
   "execution_count": 8,
   "metadata": {
    "ExecuteTime": {
     "end_time": "2020-01-31T07:23:05.049946Z",
     "start_time": "2020-01-31T07:23:05.044159Z"
    },
    "colab": {},
    "colab_type": "code",
    "id": "HRs4m6UvM7AO"
   },
   "outputs": [],
   "source": [
    "emotions = pd.get_dummies(df['emotion']).to_numpy()"
   ]
  },
  {
   "cell_type": "code",
   "execution_count": 9,
   "metadata": {
    "ExecuteTime": {
     "end_time": "2020-01-31T07:23:05.145844Z",
     "start_time": "2020-01-31T07:23:05.050948Z"
    }
   },
   "outputs": [
    {
     "name": "stdout",
     "output_type": "stream",
     "text": [
      "(35887, 48, 48, 1)\n",
      "(35887, 7)\n"
     ]
    },
    {
     "data": {
      "image/png": "[encoded data removed]",
      "text/plain": [
       "<Figure size 432x288 with 1 Axes>"
      ]
     },
     "metadata": {
      "needs_background": "light"
     },
     "output_type": "display_data"
    }
   ],
   "source": [
    "print(faces.shape)\n",
    "print(emotions.shape)\n",
    "img = faces[0,:,:,0]\n",
    "imshow(\"img\", img)"
   ]
  },
  {
   "cell_type": "code",
   "execution_count": 10,
   "metadata": {
    "ExecuteTime": {
     "end_time": "2020-01-31T07:23:08.491940Z",
     "start_time": "2020-01-31T07:23:07.951142Z"
    },
    "colab": {},
    "colab_type": "code",
    "id": "E2MJ1pnPJCyP"
   },
   "outputs": [],
   "source": [
    "x = faces.astype('float32')\n",
    "x = x / 255.0 #Dividing the pixels by 255 for normalization\n",
    "\n",
    "# Scaling the pixels value in range(-1,1)\n",
    "x = x - 0.5\n",
    "x = x * 2.0"
   ]
  },
  {
   "cell_type": "code",
   "execution_count": 11,
   "metadata": {
    "ExecuteTime": {
     "end_time": "2020-01-31T07:23:08.496964Z",
     "start_time": "2020-01-31T07:23:08.491940Z"
    }
   },
   "outputs": [
    {
     "name": "stdout",
     "output_type": "stream",
     "text": [
      "35887\n"
     ]
    }
   ],
   "source": [
    "num_samples = x.shape[0]\n",
    "print(num_samples)                 "
   ]
  },
  {
   "cell_type": "code",
   "execution_count": 12,
   "metadata": {
    "ExecuteTime": {
     "end_time": "2020-01-31T07:23:08.538603Z",
     "start_time": "2020-01-31T07:23:08.534680Z"
    },
    "colab": {},
    "colab_type": "code",
    "id": "0oIyb2zMU2sj"
   },
   "outputs": [],
   "source": [
    "num_samples, num_classes = emotions.shape\n",
    "num_train_samples = int((1 - 0.2)*num_samples)\n",
    "\n",
    "# Traning data\n",
    "train_x = x[:num_train_samples]\n",
    "train_y = emotions[:num_train_samples]\n",
    "\n",
    "# Validation data\n",
    "val_x = x[num_train_samples:]\n",
    "val_y = emotions[num_train_samples:]\n",
    "\n",
    "train_data = (train_x, train_y)\n",
    "val_data = (val_x, val_y)"
   ]
  },
  {
   "cell_type": "code",
   "execution_count": 13,
   "metadata": {
    "ExecuteTime": {
     "end_time": "2020-01-31T07:23:09.195783Z",
     "start_time": "2020-01-31T07:23:09.191796Z"
    },
    "colab": {
     "base_uri": "https://localhost:8080/",
     "height": 87
    },
    "colab_type": "code",
    "executionInfo": {
     "elapsed": 1597,
     "status": "ok",
     "timestamp": 1536070841367,
     "user": {
      "displayName": "sagar patel",
      "photoUrl": "https://lh3.googleusercontent.com/a/default-user=s128",
      "userId": "104720725746144732848"
     },
     "user_tz": -330
    },
    "id": "oBtesONJWvDY",
    "outputId": "ae6e9a8b-b4b6-4a92-c47a-50e9d859d692"
   },
   "outputs": [
    {
     "name": "stdout",
     "output_type": "stream",
     "text": [
      "Training Pixels (28709, 48, 48, 1)\n",
      "Training labels (28709, 7)\n",
      "Validation Pixels (7178, 48, 48, 1)\n",
      "Validation labels (7178, 7)\n"
     ]
    }
   ],
   "source": [
    "print('Training Pixels',train_x.shape)\n",
    "print('Training labels',train_y.shape)\n",
    "\n",
    "print('Validation Pixels',val_x.shape)\n",
    "print('Validation labels',val_y.shape)"
   ]
  },
  {
   "cell_type": "code",
   "execution_count": 14,
   "metadata": {
    "ExecuteTime": {
     "end_time": "2020-01-31T07:23:09.730525Z",
     "start_time": "2020-01-31T07:23:09.726575Z"
    },
    "colab": {},
    "colab_type": "code",
    "id": "-h71E2cTFWOi"
   },
   "outputs": [],
   "source": [
    "input_shape=(48, 48, 1)\n",
    "num_classes = 7"
   ]
  },
  {
   "cell_type": "code",
   "execution_count": 15,
   "metadata": {
    "ExecuteTime": {
     "end_time": "2020-01-31T07:23:11.117330Z",
     "start_time": "2020-01-31T07:23:10.423559Z"
    },
    "colab": {},
    "colab_type": "code",
    "id": "IgnHh0urDr7U"
   },
   "outputs": [
    {
     "name": "stdout",
     "output_type": "stream",
     "text": [
      "WARNING:tensorflow:From C:\\Users\\Student\\AppData\\Local\\Continuum\\anaconda3\\envs\\py36\\lib\\site-packages\\tensorflow\\python\\ops\\resource_variable_ops.py:435: colocate_with (from tensorflow.python.framework.ops) is deprecated and will be removed in a future version.\n",
      "Instructions for updating:\n",
      "Colocations handled automatically by placer.\n"
     ]
    }
   ],
   "source": [
    "model = Sequential()\n",
    "model.add(Convolution2D(filters=16, kernel_size=(7, 7), padding='same',\n",
    "                            name='image_array', input_shape=input_shape))\n",
    "model.add(BatchNormalization())\n",
    "model.add(Convolution2D(filters=16, kernel_size=(7, 7), padding='same'))\n",
    "model.add(BatchNormalization())\n",
    "model.add(Activation('relu'))\n",
    "model.add(AveragePooling2D(pool_size=(2, 2), padding='same'))\n",
    "model.add(Dropout(.5))\n",
    "\n",
    "model.add(Convolution2D(filters=32, kernel_size=(5, 5), padding='same'))\n",
    "model.add(BatchNormalization())\n",
    "model.add(Convolution2D(filters=32, kernel_size=(5, 5), padding='same'))\n",
    "model.add(BatchNormalization())\n",
    "model.add(Activation('relu'))\n",
    "model.add(AveragePooling2D(pool_size=(2, 2), padding='same'))\n",
    "model.add(Dropout(.5))\n",
    "\n",
    "model.add(Convolution2D(filters=64, kernel_size=(3, 3), padding='same'))\n",
    "model.add(BatchNormalization())\n",
    "model.add(Convolution2D(filters=64, kernel_size=(3, 3), padding='same'))\n",
    "model.add(BatchNormalization())\n",
    "model.add(Activation('relu'))\n",
    "model.add(AveragePooling2D(pool_size=(2, 2), padding='same'))\n",
    "model.add(Dropout(.5))\n",
    "\n",
    "model.add(Convolution2D(filters=128, kernel_size=(3, 3), padding='same'))\n",
    "model.add(BatchNormalization())\n",
    "model.add(Convolution2D(filters=128, kernel_size=(3, 3), padding='same'))\n",
    "model.add(BatchNormalization())\n",
    "model.add(Activation('relu'))\n",
    "model.add(AveragePooling2D(pool_size=(2, 2), padding='same'))\n",
    "model.add(Dropout(.5))\n",
    "\n",
    "model.add(Convolution2D(filters=256, kernel_size=(3, 3), padding='same'))\n",
    "model.add(BatchNormalization())\n",
    "model.add(Convolution2D(filters=num_classes, kernel_size=(3, 3), padding='same'))\n",
    "\n",
    "# pooling(samping 필요한것만 뽑아냄, max pool이면 최대의 것을 뽑아냄)을 하는데 \n",
    "# 1차원으로 flattening 이 아니라 1차원으로 되는데... 필터의 전체를 평균으로 구함\n",
    "# 7개로 나옴\n",
    "model.add(GlobalAveragePooling2D())\n",
    "# 7가지로 구분하는 classification 문제\n",
    "model.add(Activation('softmax',name='predictions'))"
   ]
  },
  {
   "cell_type": "code",
   "execution_count": 16,
   "metadata": {
    "ExecuteTime": {
     "end_time": "2020-01-31T07:23:11.272870Z",
     "start_time": "2020-01-31T07:23:11.262898Z"
    },
    "colab": {
     "base_uri": "https://localhost:8080/",
     "height": 1314
    },
    "colab_type": "code",
    "executionInfo": {
     "elapsed": 1060,
     "status": "ok",
     "timestamp": 1533308669403,
     "user": {
      "displayName": "sagar patel",
      "photoUrl": "https://lh3.googleusercontent.com/a/default-user=s128",
      "userId": "104720725746144732848"
     },
     "user_tz": -330
    },
    "id": "l1DSW_zoN1hg",
    "outputId": "198ce0de-1179-4aad-a78b-ddff8a6e6e73"
   },
   "outputs": [
    {
     "name": "stdout",
     "output_type": "stream",
     "text": [
      "Model: \"sequential_1\"\n",
      "_________________________________________________________________\n",
      "Layer (type)                 Output Shape              Param #   \n",
      "=================================================================\n",
      "image_array (Conv2D)         (None, 48, 48, 16)        800       \n",
      "_________________________________________________________________\n",
      "batch_normalization_1 (Batch (None, 48, 48, 16)        64        \n",
      "_________________________________________________________________\n",
      "conv2d_1 (Conv2D)            (None, 48, 48, 16)        12560     \n",
      "_________________________________________________________________\n",
      "batch_normalization_2 (Batch (None, 48, 48, 16)        64        \n",
      "_________________________________________________________________\n",
      "activation_1 (Activation)    (None, 48, 48, 16)        0         \n",
      "_________________________________________________________________\n",
      "average_pooling2d_1 (Average (None, 24, 24, 16)        0         \n",
      "_________________________________________________________________\n",
      "dropout_1 (Dropout)          (None, 24, 24, 16)        0         \n",
      "_________________________________________________________________\n",
      "conv2d_2 (Conv2D)            (None, 24, 24, 32)        12832     \n",
      "_________________________________________________________________\n",
      "batch_normalization_3 (Batch (None, 24, 24, 32)        128       \n",
      "_________________________________________________________________\n",
      "conv2d_3 (Conv2D)            (None, 24, 24, 32)        25632     \n",
      "_________________________________________________________________\n",
      "batch_normalization_4 (Batch (None, 24, 24, 32)        128       \n",
      "_________________________________________________________________\n",
      "activation_2 (Activation)    (None, 24, 24, 32)        0         \n",
      "_________________________________________________________________\n",
      "average_pooling2d_2 (Average (None, 12, 12, 32)        0         \n",
      "_________________________________________________________________\n",
      "dropout_2 (Dropout)          (None, 12, 12, 32)        0         \n",
      "_________________________________________________________________\n",
      "conv2d_4 (Conv2D)            (None, 12, 12, 64)        18496     \n",
      "_________________________________________________________________\n",
      "batch_normalization_5 (Batch (None, 12, 12, 64)        256       \n",
      "_________________________________________________________________\n",
      "conv2d_5 (Conv2D)            (None, 12, 12, 64)        36928     \n",
      "_________________________________________________________________\n",
      "batch_normalization_6 (Batch (None, 12, 12, 64)        256       \n",
      "_________________________________________________________________\n",
      "activation_3 (Activation)    (None, 12, 12, 64)        0         \n",
      "_________________________________________________________________\n",
      "average_pooling2d_3 (Average (None, 6, 6, 64)          0         \n",
      "_________________________________________________________________\n",
      "dropout_3 (Dropout)          (None, 6, 6, 64)          0         \n",
      "_________________________________________________________________\n",
      "conv2d_6 (Conv2D)            (None, 6, 6, 128)         73856     \n",
      "_________________________________________________________________\n",
      "batch_normalization_7 (Batch (None, 6, 6, 128)         512       \n",
      "_________________________________________________________________\n",
      "conv2d_7 (Conv2D)            (None, 6, 6, 128)         147584    \n",
      "_________________________________________________________________\n",
      "batch_normalization_8 (Batch (None, 6, 6, 128)         512       \n",
      "_________________________________________________________________\n",
      "activation_4 (Activation)    (None, 6, 6, 128)         0         \n",
      "_________________________________________________________________\n",
      "average_pooling2d_4 (Average (None, 3, 3, 128)         0         \n",
      "_________________________________________________________________\n",
      "dropout_4 (Dropout)          (None, 3, 3, 128)         0         \n",
      "_________________________________________________________________\n",
      "conv2d_8 (Conv2D)            (None, 3, 3, 256)         295168    \n",
      "_________________________________________________________________\n",
      "batch_normalization_9 (Batch (None, 3, 3, 256)         1024      \n",
      "_________________________________________________________________\n",
      "conv2d_9 (Conv2D)            (None, 3, 3, 7)           16135     \n",
      "_________________________________________________________________\n",
      "global_average_pooling2d_1 ( (None, 7)                 0         \n",
      "_________________________________________________________________\n",
      "predictions (Activation)     (None, 7)                 0         \n",
      "=================================================================\n",
      "Total params: 642,935\n",
      "Trainable params: 641,463\n",
      "Non-trainable params: 1,472\n",
      "_________________________________________________________________\n"
     ]
    }
   ],
   "source": [
    "model.summary()"
   ]
  },
  {
   "cell_type": "code",
   "execution_count": 22,
   "metadata": {
    "ExecuteTime": {
     "end_time": "2020-01-31T07:24:18.746916Z",
     "start_time": "2020-01-31T07:24:18.742894Z"
    },
    "colab": {},
    "colab_type": "code",
    "id": "qS2a73LMMXsF"
   },
   "outputs": [],
   "source": [
    "batch_size = 1024\n",
    "num_epochs = 200\n",
    "verbose = 1\n",
    "num_classes = 7 "
   ]
  },
  {
   "cell_type": "code",
   "execution_count": 23,
   "metadata": {
    "ExecuteTime": {
     "end_time": "2020-01-31T07:24:24.252458Z",
     "start_time": "2020-01-31T07:24:24.248464Z"
    },
    "colab": {},
    "colab_type": "code",
    "id": "G0vSiW0aVWoi"
   },
   "outputs": [],
   "source": [
    "data_generator = ImageDataGenerator(\n",
    "                        featurewise_center=False,\n",
    "                        featurewise_std_normalization=False,\n",
    "                        rotation_range=10,\n",
    "                        width_shift_range=0.1,\n",
    "                        height_shift_range=0.1,\n",
    "                        zoom_range=.1,\n",
    "                        horizontal_flip=True)"
   ]
  },
  {
   "cell_type": "code",
   "execution_count": 24,
   "metadata": {
    "ExecuteTime": {
     "end_time": "2020-01-31T07:24:24.564424Z",
     "start_time": "2020-01-31T07:24:24.510747Z"
    },
    "colab": {
     "base_uri": "https://localhost:8080/",
     "height": 1314
    },
    "colab_type": "code",
    "executionInfo": {
     "elapsed": 1290,
     "status": "ok",
     "timestamp": 1533308689367,
     "user": {
      "displayName": "sagar patel",
      "photoUrl": "https://lh3.googleusercontent.com/a/default-user=s128",
      "userId": "104720725746144732848"
     },
     "user_tz": -330
    },
    "id": "oeF9vG6oWMB6",
    "outputId": "ff399a6e-5750-4f0d-c06c-caeb64dd88c9"
   },
   "outputs": [],
   "source": [
    "model.compile(optimizer='adam', loss='categorical_crossentropy', metrics=['accuracy'])\n"
   ]
  },
  {
   "cell_type": "code",
   "execution_count": 26,
   "metadata": {
    "ExecuteTime": {
     "end_time": "2020-01-31T07:44:32.438875Z",
     "start_time": "2020-01-31T07:25:49.418879Z"
    },
    "colab": {
     "base_uri": "https://localhost:8080/",
     "height": 13174
    },
    "colab_type": "code",
    "executionInfo": {
     "elapsed": 7816691,
     "status": "ok",
     "timestamp": 1533318210456,
     "user": {
      "displayName": "sagar patel",
      "photoUrl": "https://lh3.googleusercontent.com/a/default-user=s128",
      "userId": "104720725746144732848"
     },
     "user_tz": -330
    },
    "id": "EZP8riBlO4mS",
    "outputId": "89d8e4b3-6249-454f-cda1-60e4b91b3560"
   },
   "outputs": [
    {
     "name": "stdout",
     "output_type": "stream",
     "text": [
      "Epoch 1/3\n",
      "29/29 [==============================] - 376s 13s/step - loss: 1.7452 - accuracy: 0.2883 - val_loss: 1.7741 - val_accuracy: 0.3048\n",
      "Epoch 2/3\n",
      "29/29 [==============================] - 372s 13s/step - loss: 1.6972 - accuracy: 0.3202 - val_loss: 1.7873 - val_accuracy: 0.2556\n",
      "Epoch 3/3\n",
      "29/29 [==============================] - 374s 13s/step - loss: 1.6432 - accuracy: 0.3506 - val_loss: 1.9351 - val_accuracy: 0.1530\n"
     ]
    }
   ],
   "source": [
    "train_faces, train_emotions = train_data\n",
    "history=model.fit_generator(data_generator.flow(train_faces, train_emotions,\n",
    "         batch_size), epochs=num_epochs, verbose=1,  validation_data=val_data)"
   ]
  },
  {
   "cell_type": "code",
   "execution_count": 24,
   "metadata": {
    "ExecuteTime": {
     "end_time": "2020-01-31T07:00:57.511593Z",
     "start_time": "2020-01-31T07:00:49.784066Z"
    },
    "colab": {
     "base_uri": "https://localhost:8080/",
     "height": 70
    },
    "colab_type": "code",
    "executionInfo": {
     "elapsed": 3004,
     "status": "ok",
     "timestamp": 1533318279807,
     "user": {
      "displayName": "sagar patel",
      "photoUrl": "https://lh3.googleusercontent.com/a/default-user=s128",
      "userId": "104720725746144732848"
     },
     "user_tz": -330
    },
    "id": "vI4nPHW1WZ4r",
    "outputId": "ad580314-d3a2-4c88-e0a3-b0a95d529cbe"
   },
   "outputs": [
    {
     "name": "stdout",
     "output_type": "stream",
     "text": [
      "7178/7178 [==============================] - 8s 1ms/step\n",
      "Test loss: 1.631880062275459\n",
      "Test accuracy: 36.11033856868744\n"
     ]
    }
   ],
   "source": [
    "model.save(\"emotion_temp.h5\")\n",
    "score = model.evaluate(val_x, val_y, verbose=1)\n",
    "print('Test loss:', score[0])\n",
    "print('Test accuracy:', score[1]*100)"
   ]
  },
  {
   "cell_type": "code",
   "execution_count": 22,
   "metadata": {
    "ExecuteTime": {
     "end_time": "2020-01-31T06:49:22.381333Z",
     "start_time": "2020-01-31T06:49:22.374336Z"
    },
    "colab": {},
    "colab_type": "code",
    "id": "o3lKbJ5khHVL"
   },
   "outputs": [],
   "source": [
    "def load_detection_model(model_path):\n",
    "    detection_model = cv2.CascadeClassifier(model_path)\n",
    "    return detection_model\n",
    "\n",
    "def detect_faces(detection_model, gray_image_array):\n",
    "    return detection_model.detectMultiScale(gray_image_array, 1.3, 5)\n",
    "\n",
    "def draw_bounding_box(face_coordinates, image_array, color):\n",
    "    x, y, w, h = face_coordinates\n",
    "    cv2.rectangle(image_array, (x, y), (x + w, y + h), color, 2)\n",
    "\n",
    "def apply_offsets(face_coordinates, offsets):\n",
    "    x, y, width, height = face_coordinates\n",
    "    x_off, y_off = offsets\n",
    "    return (x - x_off, x + width + x_off, y - y_off, y + height + y_off)\n",
    "\n",
    "def draw_text(coordinates, image_array, text, color, x_offset=0, y_offset=0,\n",
    "                                                font_scale=0.5, thickness=2):\n",
    "    x, y = coordinates[:2]\n",
    "    cv2.putText(image_array, text, (x + x_offset, y + y_offset),\n",
    "                cv2.FONT_HERSHEY_SIMPLEX,\n",
    "                font_scale, color, thickness, cv2.LINE_AA)\n",
    "    \n",
    "def preprocess_input(x, v2=True):\n",
    "    x = x.astype('float32')\n",
    "    x = x / 255.0\n",
    "    if v2:\n",
    "        x = x - 0.5\n",
    "        x = x * 2.0\n",
    "    return x"
   ]
  },
  {
   "cell_type": "code",
   "execution_count": 28,
   "metadata": {
    "ExecuteTime": {
     "end_time": "2020-01-31T06:51:16.974618Z",
     "start_time": "2020-01-31T06:51:16.610537Z"
    },
    "colab": {
     "base_uri": "https://localhost:8080/",
     "height": 34
    },
    "colab_type": "code",
    "executionInfo": {
     "elapsed": 11657,
     "status": "ok",
     "timestamp": 1533396470394,
     "user": {
      "displayName": "sagar patel",
      "photoUrl": "https://lh3.googleusercontent.com/a/default-user=s128",
      "userId": "104720725746144732848"
     },
     "user_tz": -330
    },
    "id": "0Mum5Ff5hjgM",
    "outputId": "e9bf5a9e-fcc9-4364-8cbd-dae9a78ec4cd"
   },
   "outputs": [],
   "source": [
    "image_path = \"tes.jpg\"\n",
    "detection_model_path = 'haarcascade_frontalface_alt2.xml'\n",
    "emotion_model_path = 'fer2013_big_XCEPTION.54-0.66.hdf5'\n",
    "emotion_model_path = \"emotion_temp.h5\"\n",
    "emotion_labels = {0:'angry',1:'disgust',2:'fear',3:'happy',4:'sad',5:'surprise',6:'neutral'}\n",
    "font = cv2.FONT_HERSHEY_SIMPLEX\n",
    "\n",
    "emotion_offsets = (0, 0)\n",
    "\n",
    "# loading models\n",
    "face_detection = load_detection_model(detection_model_path)\n",
    "emotion_classifier = load_model(emotion_model_path, compile=False)\n",
    "emotion_target_size = emotion_classifier.input_shape[1:3]"
   ]
  },
  {
   "cell_type": "code",
   "execution_count": 29,
   "metadata": {
    "ExecuteTime": {
     "end_time": "2020-01-31T06:51:19.218856Z",
     "start_time": "2020-01-31T06:51:19.198562Z"
    },
    "colab": {
     "base_uri": "https://localhost:8080/",
     "height": 34
    },
    "colab_type": "code",
    "executionInfo": {
     "elapsed": 11657,
     "status": "ok",
     "timestamp": 1533396470394,
     "user": {
      "displayName": "sagar patel",
      "photoUrl": "https://lh3.googleusercontent.com/a/default-user=s128",
      "userId": "104720725746144732848"
     },
     "user_tz": -330
    },
    "id": "0Mum5Ff5hjgM",
    "outputId": "e9bf5a9e-fcc9-4364-8cbd-dae9a78ec4cd"
   },
   "outputs": [],
   "source": [
    "# loading images\n",
    "rgb_image = cv2.imread(\"tes.jpg\")\n",
    "gray_image = cv2.imread(\"tes.jpg\",0)"
   ]
  },
  {
   "cell_type": "code",
   "execution_count": 30,
   "metadata": {
    "ExecuteTime": {
     "end_time": "2020-01-31T06:51:21.919536Z",
     "start_time": "2020-01-31T06:51:21.450536Z"
    },
    "colab": {
     "base_uri": "https://localhost:8080/",
     "height": 34
    },
    "colab_type": "code",
    "executionInfo": {
     "elapsed": 11657,
     "status": "ok",
     "timestamp": 1533396470394,
     "user": {
      "displayName": "sagar patel",
      "photoUrl": "https://lh3.googleusercontent.com/a/default-user=s128",
      "userId": "104720725746144732848"
     },
     "user_tz": -330
    },
    "id": "0Mum5Ff5hjgM",
    "outputId": "e9bf5a9e-fcc9-4364-8cbd-dae9a78ec4cd"
   },
   "outputs": [
    {
     "data": {
      "text/plain": [
       "True"
      ]
     },
     "execution_count": 30,
     "metadata": {},
     "output_type": "execute_result"
    }
   ],
   "source": [
    "faces = detect_faces(face_detection, gray_image)\n",
    "\n",
    "for face_coordinates in faces:   \n",
    "    \n",
    "    x1, x2, y1, y2 = apply_offsets(face_coordinates, emotion_offsets)\n",
    "    gray_face = gray_image[y1:y2, x1:x2]\n",
    "\n",
    "    gray_face = cv2.resize(gray_face, (emotion_target_size))\n",
    "\n",
    "    gray_face = preprocess_input(gray_face, True)\n",
    "    #2x2 shape dl 4의 shape이 나오게 된다.\n",
    "    gray_face = np.expand_dims(gray_face, 0) # 앞에 1차원 추가    \n",
    "    gray_face = np.expand_dims(gray_face, -1) # 뒤에 1차원 추가\n",
    "    \n",
    "    emotion_label_arg = np.argmax(emotion_classifier.predict(gray_face))\n",
    "    emotion_text = emotion_labels[emotion_label_arg]\n",
    "    \n",
    "    color = (255, 0, 0)\n",
    "\n",
    "    draw_bounding_box(face_coordinates, rgb_image, color)\n",
    "    draw_text(face_coordinates, rgb_image, emotion_text, color, -20, -20, 0.7, 2)\n",
    "\n",
    "cv2.imwrite('out.jpg', rgb_image)"
   ]
  }
 ],
 "metadata": {
  "accelerator": "GPU",
  "colab": {
   "collapsed_sections": [
    "ceGkU7yQ-ax3",
    "ztky6L9E-lnP",
    "7Zu89RTzBMty",
    "k39FElpEMVju",
    "I4G1tEVgMnl0",
    "hLpNo_Wi78C3",
    "GL78P7u0I1Hp",
    "IyZvjJKTAMpx"
   ],
   "name": "Facial Recognition.ipynb",
   "provenance": [],
   "version": "0.3.2"
  },
  "kernelspec": {
   "display_name": "Python 3",
   "language": "python",
   "name": "python3"
  },
  "language_info": {
   "codemirror_mode": {
    "name": "ipython",
    "version": 3
   },
   "file_extension": ".py",
   "mimetype": "text/x-python",
   "name": "python",
   "nbconvert_exporter": "python",
   "pygments_lexer": "ipython3",
   "version": "3.7.4"
  },
  "varInspector": {
   "cols": {
    "lenName": 16,
    "lenType": 16,
    "lenVar": 40
   },
   "kernels_config": {
    "python": {
     "delete_cmd_postfix": "",
     "delete_cmd_prefix": "del ",
     "library": "var_list.py",
     "varRefreshCmd": "print(var_dic_list())"
    },
    "r": {
     "delete_cmd_postfix": ") ",
     "delete_cmd_prefix": "rm(",
     "library": "var_list.r",
     "varRefreshCmd": "cat(var_dic_list()) "
    }
   },
   "types_to_exclude": [
    "module",
    "function",
    "builtin_function_or_method",
    "instance",
    "_Feature"
   ],
   "window_display": false
  }
 },
 "nbformat": 4,
 "nbformat_minor": 1
}
