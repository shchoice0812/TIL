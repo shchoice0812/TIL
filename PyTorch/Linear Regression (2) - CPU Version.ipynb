{
 "cells": [
  {
   "cell_type": "markdown",
   "metadata": {},
   "source": [
    "#  Linear Regression Model 만들기(CPU)\n",
    "* Coefficient: a = 2\n",
    "* Bias/Intercept : b = 1\n",
    "* Equation: y = 2x + 1"
   ]
  },
  {
   "cell_type": "code",
   "execution_count": 1,
   "metadata": {
    "ExecuteTime": {
     "end_time": "2020-06-25T11:37:10.669610Z",
     "start_time": "2020-06-25T11:37:10.426267Z"
    }
   },
   "outputs": [],
   "source": [
    "import numpy as np"
   ]
  },
  {
   "cell_type": "markdown",
   "metadata": {},
   "source": [
    "## 1. Simple 데이터셋 만들기"
   ]
  },
  {
   "cell_type": "code",
   "execution_count": 2,
   "metadata": {
    "ExecuteTime": {
     "end_time": "2020-06-25T11:37:10.685568Z",
     "start_time": "2020-06-25T11:37:10.672603Z"
    }
   },
   "outputs": [
    {
     "name": "stdout",
     "output_type": "stream",
     "text": [
      "x_values:  [0, 1, 2, 3, 4, 5, 6, 7, 8, 9, 10]\n",
      "x_train(numpy) shape : (11,)\n",
      "x_train(reshape) shape : (11, 1)\n"
     ]
    }
   ],
   "source": [
    "x_values = [i for i in range(11)]\n",
    "print(\"x_values: \", x_values)\n",
    "\n",
    "# numpy로 변환\n",
    "x_train = np.array(x_values, dtype=np.float32)\n",
    "print(\"x_train(numpy) shape :\", x_train.shape)\n",
    "\n",
    "# 중요: 2차원으로 변환\n",
    "x_train = x_train.reshape(-1, 1)\n",
    "print(\"x_train(reshape) shape :\", x_train.shape)"
   ]
  },
  {
   "cell_type": "markdown",
   "metadata": {},
   "source": [
    "* y = 2x + 1 만들기"
   ]
  },
  {
   "cell_type": "code",
   "execution_count": 3,
   "metadata": {
    "ExecuteTime": {
     "end_time": "2020-06-25T11:37:10.695541Z",
     "start_time": "2020-06-25T11:37:10.688560Z"
    }
   },
   "outputs": [
    {
     "name": "stdout",
     "output_type": "stream",
     "text": [
      "y_values:  [1, 3, 5, 7, 9, 11, 13, 15, 17, 19, 21]\n"
     ]
    }
   ],
   "source": [
    "y_values = [2*i + 1 for i in x_values]\n",
    "\n",
    "print(\"y_values: \", y_values)"
   ]
  },
  {
   "cell_type": "code",
   "execution_count": 4,
   "metadata": {
    "ExecuteTime": {
     "end_time": "2020-06-25T11:37:10.705515Z",
     "start_time": "2020-06-25T11:37:10.698534Z"
    }
   },
   "outputs": [
    {
     "name": "stdout",
     "output_type": "stream",
     "text": [
      "y_values:  [1, 3, 5, 7, 9, 11, 13, 15, 17, 19, 21]\n"
     ]
    }
   ],
   "source": [
    "y_values = []\n",
    "for i in x_values:\n",
    "    result = 2*i + 1\n",
    "    y_values.append(result)\n",
    "    \n",
    "print(\"y_values: \", y_values)"
   ]
  },
  {
   "cell_type": "code",
   "execution_count": 5,
   "metadata": {
    "ExecuteTime": {
     "end_time": "2020-06-25T11:37:10.723467Z",
     "start_time": "2020-06-25T11:37:10.708507Z"
    }
   },
   "outputs": [
    {
     "data": {
      "text/plain": [
       "(11,)"
      ]
     },
     "execution_count": 5,
     "metadata": {},
     "output_type": "execute_result"
    }
   ],
   "source": [
    "y_train = np.array(y_values, dtype=np.float32)\n",
    "y_train.shape"
   ]
  },
  {
   "cell_type": "code",
   "execution_count": 6,
   "metadata": {
    "ExecuteTime": {
     "end_time": "2020-06-25T11:37:10.735434Z",
     "start_time": "2020-06-25T11:37:10.728454Z"
    }
   },
   "outputs": [
    {
     "data": {
      "text/plain": [
       "(11, 1)"
      ]
     },
     "execution_count": 6,
     "metadata": {},
     "output_type": "execute_result"
    }
   ],
   "source": [
    "y_train = y_train.reshape(-1, 1)\n",
    "y_train.shape"
   ]
  },
  {
   "cell_type": "markdown",
   "metadata": {},
   "source": [
    "# 2. Linear Regression 모델 만들기\n",
    "* Linear Model\n",
    "    * True Equation: y = 2x + 1\n",
    "* Forward\n",
    "    * Example\n",
    "        * input x = 1\n",
    "        * output : hat{y} = ?"
   ]
  },
  {
   "cell_type": "code",
   "execution_count": 7,
   "metadata": {
    "ExecuteTime": {
     "end_time": "2020-06-25T11:37:11.373767Z",
     "start_time": "2020-06-25T11:37:10.738427Z"
    }
   },
   "outputs": [],
   "source": [
    "import torch\n",
    "import torch.nn as nn\n",
    "from torch.autograd import Variable"
   ]
  },
  {
   "cell_type": "markdown",
   "metadata": {},
   "source": [
    "### Step1. Create Model Class"
   ]
  },
  {
   "cell_type": "code",
   "execution_count": 8,
   "metadata": {
    "ExecuteTime": {
     "end_time": "2020-06-25T11:37:11.381736Z",
     "start_time": "2020-06-25T11:37:11.375752Z"
    }
   },
   "outputs": [],
   "source": [
    "# Create Class\n",
    "class LinearRegressionModel(nn.Module):\n",
    "    def __init__(self, input_size, output_size):\n",
    "        super(LinearRegressionModel, self).__init__()\n",
    "        self.linear = nn.Linear(input_dim, output_dim)\n",
    "        \n",
    "    def forward(self, x):\n",
    "        out = self.linear(x)\n",
    "        return out"
   ]
  },
  {
   "cell_type": "markdown",
   "metadata": {},
   "source": [
    "* input : [0, 1, 2, 3, 4, 5, 6, 7, 8, 9, 10]\n",
    "* output : [1, 3, 5, 7, 9, 11, 13, 15, 17, 19, 21]"
   ]
  },
  {
   "cell_type": "markdown",
   "metadata": {},
   "source": [
    "### Step2. Instantiate Model Class"
   ]
  },
  {
   "cell_type": "code",
   "execution_count": 9,
   "metadata": {
    "ExecuteTime": {
     "end_time": "2020-06-25T11:37:11.390728Z",
     "start_time": "2020-06-25T11:37:11.383730Z"
    }
   },
   "outputs": [],
   "source": [
    "input_dim = 1\n",
    "output_dim = 1\n",
    "\n",
    "model = LinearRegressionModel(input_dim, output_dim)"
   ]
  },
  {
   "cell_type": "markdown",
   "metadata": {},
   "source": [
    "### Step3. instantiate Loss Class* MSE(Mean Squared Error) Loss 사용<br>\n",
    "<img src=\"https://user-images.githubusercontent.com/60699771/85705712-7221b380-b71c-11ea-9d60-ef1cb2cd4e1e.png\" align=left>"
   ]
  },
  {
   "cell_type": "code",
   "execution_count": 10,
   "metadata": {
    "ExecuteTime": {
     "end_time": "2020-06-25T11:37:11.397693Z",
     "start_time": "2020-06-25T11:37:11.392706Z"
    }
   },
   "outputs": [],
   "source": [
    "criterion = nn.MSELoss()"
   ]
  },
  {
   "cell_type": "markdown",
   "metadata": {
    "ExecuteTime": {
     "end_time": "2020-06-25T10:50:00.758607Z",
     "start_time": "2020-06-25T10:50:00.751628Z"
    }
   },
   "source": [
    "### Step4. instantiate Optimizer Class\n",
    "<img src=\"https://user-images.githubusercontent.com/60699771/85705722-751ca400-b71c-11ea-8977-8e92cc53c36d.png\" align=left>"
   ]
  },
  {
   "cell_type": "code",
   "execution_count": 11,
   "metadata": {
    "ExecuteTime": {
     "end_time": "2020-06-25T11:37:11.405672Z",
     "start_time": "2020-06-25T11:37:11.399688Z"
    }
   },
   "outputs": [],
   "source": [
    "learning_rate = 0.01\n",
    "optimizer = torch.optim.SGD(model.parameters(), lr=learning_rate)"
   ]
  },
  {
   "cell_type": "markdown",
   "metadata": {},
   "source": [
    "### Step5. Train Model\n",
    "* 1 epoch : going through the whole x_train data once\n",
    "    * 100 epochs : 100 x mapping x)train = [0, 1, 2, 3, ,4, 5, 6, 7 ,8 ,9, 10]\n",
    "    \n",
    "* process\n",
    "    1. Convert inputs/labels to variables\n",
    "    2. Clear gradient buffets\n",
    "    3. Get output given inputs\n",
    "    4. Get loss\n",
    "    5. Get gradients w.r.t parameters\n",
    "    6. Update parameters using gradients\n",
    "        * parameters = parameters - lr * parameters_gradients\n",
    "    7. Repeat"
   ]
  },
  {
   "cell_type": "code",
   "execution_count": 12,
   "metadata": {
    "ExecuteTime": {
     "end_time": "2020-06-25T11:37:11.415645Z",
     "start_time": "2020-06-25T11:37:11.409662Z"
    }
   },
   "outputs": [],
   "source": [
    "epochs = 100"
   ]
  },
  {
   "cell_type": "code",
   "execution_count": 13,
   "metadata": {
    "ExecuteTime": {
     "end_time": "2020-06-25T11:37:11.505405Z",
     "start_time": "2020-06-25T11:37:11.417640Z"
    }
   },
   "outputs": [
    {
     "name": "stdout",
     "output_type": "stream",
     "text": [
      "epoch 1, loss 360.9476318359375\n",
      "epoch 2, loss 29.78594398498535\n",
      "epoch 3, loss 2.770277976989746\n",
      "epoch 4, loss 0.5628896951675415\n",
      "epoch 5, loss 0.3790781795978546\n",
      "epoch 6, loss 0.3603646457195282\n",
      "epoch 7, loss 0.3551592528820038\n",
      "epoch 8, loss 0.3510967791080475\n",
      "epoch 9, loss 0.3471686542034149\n",
      "epoch 10, loss 0.34329116344451904\n",
      "epoch 11, loss 0.33945751190185547\n",
      "epoch 12, loss 0.33566659688949585\n",
      "epoch 13, loss 0.33191850781440735\n",
      "epoch 14, loss 0.3282119631767273\n",
      "epoch 15, loss 0.3245469033718109\n",
      "epoch 16, loss 0.3209225833415985\n",
      "epoch 17, loss 0.3173389732837677\n",
      "epoch 18, loss 0.3137953579425812\n",
      "epoch 19, loss 0.31029120087623596\n",
      "epoch 20, loss 0.30682626366615295\n",
      "epoch 21, loss 0.30340006947517395\n",
      "epoch 22, loss 0.3000122308731079\n",
      "epoch 23, loss 0.29666173458099365\n",
      "epoch 24, loss 0.29334884881973267\n",
      "epoch 25, loss 0.29007354378700256\n",
      "epoch 26, loss 0.2868342101573944\n",
      "epoch 27, loss 0.28363099694252014\n",
      "epoch 28, loss 0.28046369552612305\n",
      "epoch 29, loss 0.2773319482803345\n",
      "epoch 30, loss 0.2742350697517395\n",
      "epoch 31, loss 0.2711728811264038\n",
      "epoch 32, loss 0.26814448833465576\n",
      "epoch 33, loss 0.26515018939971924\n",
      "epoch 34, loss 0.26218926906585693\n",
      "epoch 35, loss 0.2592615783214569\n",
      "epoch 36, loss 0.2563663721084595\n",
      "epoch 37, loss 0.25350338220596313\n",
      "epoch 38, loss 0.2506726086139679\n",
      "epoch 39, loss 0.2478732466697693\n",
      "epoch 40, loss 0.2451053261756897\n",
      "epoch 41, loss 0.24236845970153809\n",
      "epoch 42, loss 0.2396620213985443\n",
      "epoch 43, loss 0.2369857281446457\n",
      "epoch 44, loss 0.23433919250965118\n",
      "epoch 45, loss 0.23172254860401154\n",
      "epoch 46, loss 0.22913497686386108\n",
      "epoch 47, loss 0.22657614946365356\n",
      "epoch 48, loss 0.22404621541500092\n",
      "epoch 49, loss 0.2215440422296524\n",
      "epoch 50, loss 0.21907030045986176\n",
      "epoch 51, loss 0.21662376821041107\n",
      "epoch 52, loss 0.214204803109169\n",
      "epoch 53, loss 0.21181267499923706\n",
      "epoch 54, loss 0.20944762229919434\n",
      "epoch 55, loss 0.20710863173007965\n",
      "epoch 56, loss 0.2047959864139557\n",
      "epoch 57, loss 0.20250901579856873\n",
      "epoch 58, loss 0.20024751126766205\n",
      "epoch 59, loss 0.19801168143749237\n",
      "epoch 60, loss 0.1958003044128418\n",
      "epoch 61, loss 0.19361378252506256\n",
      "epoch 62, loss 0.19145198166370392\n",
      "epoch 63, loss 0.18931379914283752\n",
      "epoch 64, loss 0.18720000982284546\n",
      "epoch 65, loss 0.185109481215477\n",
      "epoch 66, loss 0.1830422729253769\n",
      "epoch 67, loss 0.1809982806444168\n",
      "epoch 68, loss 0.1789771467447281\n",
      "epoch 69, loss 0.17697837948799133\n",
      "epoch 70, loss 0.1750020980834961\n",
      "epoch 71, loss 0.17304810881614685\n",
      "epoch 72, loss 0.17111562192440033\n",
      "epoch 73, loss 0.16920486092567444\n",
      "epoch 74, loss 0.16731539368629456\n",
      "epoch 75, loss 0.1654469519853592\n",
      "epoch 76, loss 0.16359925270080566\n",
      "epoch 77, loss 0.16177262365818024\n",
      "epoch 78, loss 0.1599658578634262\n",
      "epoch 79, loss 0.1581798642873764\n",
      "epoch 80, loss 0.15641339123249054\n",
      "epoch 81, loss 0.15466679632663727\n",
      "epoch 82, loss 0.1529396027326584\n",
      "epoch 83, loss 0.1512317657470703\n",
      "epoch 84, loss 0.1495429128408432\n",
      "epoch 85, loss 0.14787310361862183\n",
      "epoch 86, loss 0.14622193574905396\n",
      "epoch 87, loss 0.14458881318569183\n",
      "epoch 88, loss 0.14297451078891754\n",
      "epoch 89, loss 0.1413777470588684\n",
      "epoch 90, loss 0.13979904353618622\n",
      "epoch 91, loss 0.1382378488779068\n",
      "epoch 92, loss 0.1366942971944809\n",
      "epoch 93, loss 0.13516774773597717\n",
      "epoch 94, loss 0.13365831971168518\n",
      "epoch 95, loss 0.13216598331928253\n",
      "epoch 96, loss 0.13069000840187073\n",
      "epoch 97, loss 0.1292305588722229\n",
      "epoch 98, loss 0.12778745591640472\n",
      "epoch 99, loss 0.1263604313135147\n",
      "epoch 100, loss 0.12494945526123047\n"
     ]
    }
   ],
   "source": [
    "for epoch in range(epochs):\n",
    "    epoch += 1\n",
    "    # convert numpy array to torch Variable\n",
    "    inputs = Variable(torch.from_numpy(x_train))\n",
    "    labels = Variable(torch.from_numpy(y_train))\n",
    "    \n",
    "    # clear gradients w.r.t. parameters\n",
    "    optimizer.zero_grad()\n",
    "    \n",
    "    #Forward to get ouput\n",
    "    outputs = model.forward(inputs)\n",
    "    \n",
    "    # Calculate Loss\n",
    "    loss = criterion(outputs, labels)\n",
    "    \n",
    "    # Getting gradients w.r.t. parameters\n",
    "    loss.backward()\n",
    "    \n",
    "    # Updating parameters\n",
    "    optimizer.step()\n",
    "    \n",
    "    print('epoch {}, loss {}'.format(epoch, loss.data))"
   ]
  },
  {
   "cell_type": "markdown",
   "metadata": {},
   "source": [
    "### Compare Data"
   ]
  },
  {
   "cell_type": "code",
   "execution_count": 14,
   "metadata": {
    "ExecuteTime": {
     "end_time": "2020-06-25T11:37:11.516375Z",
     "start_time": "2020-06-25T11:37:11.507400Z"
    }
   },
   "outputs": [
    {
     "data": {
      "text/plain": [
       "array([[ 0.342452 ],\n",
       "       [ 2.437145 ],\n",
       "       [ 4.531838 ],\n",
       "       [ 6.6265306],\n",
       "       [ 8.721224 ],\n",
       "       [10.815917 ],\n",
       "       [12.910609 ],\n",
       "       [15.005302 ],\n",
       "       [17.099995 ],\n",
       "       [19.194687 ],\n",
       "       [21.289381 ]], dtype=float32)"
      ]
     },
     "execution_count": 14,
     "metadata": {},
     "output_type": "execute_result"
    }
   ],
   "source": [
    "predicted = model.forward(Variable(torch.from_numpy(x_train))).data.numpy()\n",
    "predicted"
   ]
  },
  {
   "cell_type": "code",
   "execution_count": 15,
   "metadata": {
    "ExecuteTime": {
     "end_time": "2020-06-25T11:37:11.529341Z",
     "start_time": "2020-06-25T11:37:11.518371Z"
    }
   },
   "outputs": [
    {
     "data": {
      "text/plain": [
       "array([[ 1.],\n",
       "       [ 3.],\n",
       "       [ 5.],\n",
       "       [ 7.],\n",
       "       [ 9.],\n",
       "       [11.],\n",
       "       [13.],\n",
       "       [15.],\n",
       "       [17.],\n",
       "       [19.],\n",
       "       [21.]], dtype=float32)"
      ]
     },
     "execution_count": 15,
     "metadata": {},
     "output_type": "execute_result"
    }
   ],
   "source": [
    "y_train"
   ]
  },
  {
   "cell_type": "markdown",
   "metadata": {
    "ExecuteTime": {
     "end_time": "2020-06-25T11:20:12.892557Z",
     "start_time": "2020-06-25T11:20:12.888567Z"
    }
   },
   "source": [
    "## 3. Plot Graph로 확인해보기"
   ]
  },
  {
   "cell_type": "code",
   "execution_count": 16,
   "metadata": {
    "ExecuteTime": {
     "end_time": "2020-06-25T11:37:11.964190Z",
     "start_time": "2020-06-25T11:37:11.531336Z"
    }
   },
   "outputs": [],
   "source": [
    "import matplotlib.pyplot as plt"
   ]
  },
  {
   "cell_type": "code",
   "execution_count": 17,
   "metadata": {
    "ExecuteTime": {
     "end_time": "2020-06-25T11:37:12.147696Z",
     "start_time": "2020-06-25T11:37:11.966173Z"
    },
    "scrolled": true
   },
   "outputs": [
    {
     "data": {
      "image/png": "[encoded data removed]",
      "text/plain": [
       "<Figure size 432x288 with 1 Axes>"
      ]
     },
     "metadata": {
      "needs_background": "light"
     },
     "output_type": "display_data"
    }
   ],
   "source": [
    "# Clear figure\n",
    "plt.clf()\n",
    "\n",
    "# Get Predictions\n",
    "predicted = model(torch.from_numpy(x_train)).data.numpy()\n",
    "\n",
    "# Plot true data\n",
    "plt.plot(x_train, y_train, 'go', label='True data', alpha=0.5)\n",
    "plt.plot(x_train, predicted, '--', label='Predictions', alpha=0.5)\n",
    "\n",
    "# Legend and plot\n",
    "plt.legend(loc='best')\n",
    "plt.show()"
   ]
  },
  {
   "cell_type": "markdown",
   "metadata": {
    "ExecuteTime": {
     "end_time": "2020-06-25T11:27:14.199037Z",
     "start_time": "2020-06-25T11:27:14.183081Z"
    }
   },
   "source": [
    "## 4. Save Model"
   ]
  },
  {
   "cell_type": "code",
   "execution_count": 18,
   "metadata": {
    "ExecuteTime": {
     "end_time": "2020-06-25T11:37:12.157670Z",
     "start_time": "2020-06-25T11:37:12.150686Z"
    }
   },
   "outputs": [],
   "source": [
    "save_model = True\n",
    "if save_model is True:\n",
    "    # Saves only parameters (alpha and beta)\n",
    "    torch.save(model.state_dict(), 'awesome_model.pkl')"
   ]
  },
  {
   "cell_type": "markdown",
   "metadata": {
    "ExecuteTime": {
     "end_time": "2020-06-25T11:27:48.983671Z",
     "start_time": "2020-06-25T11:27:48.979684Z"
    }
   },
   "source": [
    "## 5. Load Model"
   ]
  },
  {
   "cell_type": "code",
   "execution_count": 19,
   "metadata": {
    "ExecuteTime": {
     "end_time": "2020-06-25T11:37:12.173625Z",
     "start_time": "2020-06-25T11:37:12.159663Z"
    }
   },
   "outputs": [],
   "source": [
    "load_model = True\n",
    "if load_model is True:\n",
    "    model.load_state_dict(torch.load('awesome_model.pkl'))"
   ]
  }
 ],
 "metadata": {
  "kernelspec": {
   "display_name": "Python 3",
   "language": "python",
   "name": "python3"
  },
  "language_info": {
   "codemirror_mode": {
    "name": "ipython",
    "version": 3
   },
   "file_extension": ".py",
   "mimetype": "text/x-python",
   "name": "python",
   "nbconvert_exporter": "python",
   "pygments_lexer": "ipython3",
   "version": "3.7.6"
  }
 },
 "nbformat": 4,
 "nbformat_minor": 4
}
