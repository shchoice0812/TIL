{
 "cells": [
  {
   "cell_type": "code",
   "execution_count": 0,
   "metadata": {
    "colab": {},
    "colab_type": "code",
    "id": "oxkoAq7zCWtz"
   },
   "outputs": [],
   "source": [
    "import torch\n",
    "import torch.nn as nn\n",
    "from torch.nn import Linear\n",
    "import numpy as np\n",
    "import matplotlib.pyplot as plt"
   ]
  },
  {
   "cell_type": "markdown",
   "metadata": {
    "colab_type": "text",
    "id": "VmWCpJq56RSw"
   },
   "source": [
    "## 1. Linear Regression y = wx + b 구현하기"
   ]
  },
  {
   "cell_type": "code",
   "execution_count": 0,
   "metadata": {
    "colab": {},
    "colab_type": "code",
    "id": "Z9KFoHyACX9z"
   },
   "outputs": [],
   "source": [
    "w = torch.tensor(3.0, requires_grad=True)\n",
    "b = torch.tensor(1.0, requires_grad=True)"
   ]
  },
  {
   "cell_type": "code",
   "execution_count": 0,
   "metadata": {
    "colab": {},
    "colab_type": "code",
    "id": "vyTr_D37DFkr"
   },
   "outputs": [],
   "source": [
    "def forward(x):\n",
    "    y = w*x + b\n",
    "    return y"
   ]
  },
  {
   "cell_type": "code",
   "execution_count": 4,
   "metadata": {
    "colab": {
     "base_uri": "https://localhost:8080/",
     "height": 52
    },
    "colab_type": "code",
    "id": "BAg5XDUmDNEB",
    "outputId": "beb535a0-d8c9-4978-a0a3-ba5d2c822968"
   },
   "outputs": [
    {
     "data": {
      "text/plain": [
       "tensor([[13.],\n",
       "        [22.]], grad_fn=<AddBackward0>)"
      ]
     },
     "execution_count": 4,
     "metadata": {
      "tags": []
     },
     "output_type": "execute_result"
    }
   ],
   "source": [
    "x = torch.tensor([[4], [7]])\n",
    "forward(x)"
   ]
  },
  {
   "cell_type": "markdown",
   "metadata": {
    "colab_type": "text",
    "id": "-2jaKicy6jvN"
   },
   "source": [
    "## 2. 랜덤 시드를 통해 Linear Regression 만들기 및 tensor 배열 값 넣기 "
   ]
  },
  {
   "cell_type": "code",
   "execution_count": 5,
   "metadata": {
    "colab": {
     "base_uri": "https://localhost:8080/",
     "height": 70
    },
    "colab_type": "code",
    "id": "ezI6dfEQqpr_",
    "outputId": "b87e3b15-0c55-49fc-9252-1c91d4a72886"
   },
   "outputs": [
    {
     "name": "stdout",
     "output_type": "stream",
     "text": [
      "Parameter containing:\n",
      "tensor([-0.4414], requires_grad=True) Parameter containing:\n",
      "tensor([[0.5153]], requires_grad=True)\n"
     ]
    }
   ],
   "source": [
    "torch.manual_seed(1)\n",
    "model = Linear(in_features=1, out_features=1)\n",
    "print(model.bias, model.weight)"
   ]
  },
  {
   "cell_type": "code",
   "execution_count": 6,
   "metadata": {
    "colab": {
     "base_uri": "https://localhost:8080/",
     "height": 34
    },
    "colab_type": "code",
    "id": "a6Qq2z2DDScN",
    "outputId": "722feff1-338c-43e7-8fb7-e0adbdb0fafb"
   },
   "outputs": [
    {
     "name": "stdout",
     "output_type": "stream",
     "text": [
      "tensor([0.5891], grad_fn=<AddBackward0>)\n"
     ]
    }
   ],
   "source": [
    "x = torch.tensor([2.0])\n",
    "print(model(x))"
   ]
  },
  {
   "cell_type": "code",
   "execution_count": 7,
   "metadata": {
    "colab": {
     "base_uri": "https://localhost:8080/",
     "height": 70
    },
    "colab_type": "code",
    "id": "ropDRrQ69DCm",
    "outputId": "9a3cd2da-c7de-4ee3-b0eb-6c619c14e25d"
   },
   "outputs": [
    {
     "name": "stdout",
     "output_type": "stream",
     "text": [
      "tensor([[0.5891],\n",
      "        [1.6197],\n",
      "        [2.6502]], grad_fn=<AddmmBackward>)\n"
     ]
    }
   ],
   "source": [
    "x = torch.tensor([[2.0], [4.0], [6.0]])\n",
    "print(model(x))"
   ]
  },
  {
   "cell_type": "markdown",
   "metadata": {
    "colab_type": "text",
    "id": "ZpCHkxcw9vuJ"
   },
   "source": [
    "## 3. 딥러닝을 통한 Linear Regression 구현"
   ]
  },
  {
   "cell_type": "code",
   "execution_count": 22,
   "metadata": {
    "colab": {
     "base_uri": "https://localhost:8080/",
     "height": 738
    },
    "colab_type": "code",
    "id": "7u_ARXdjyLSt",
    "outputId": "a000ef4b-195e-4b3f-a9c3-dc5bf7223d70"
   },
   "outputs": [
    {
     "name": "stdout",
     "output_type": "stream",
     "text": [
      "Epoch    0/4000 W: 0.187, b: 0.080 Cost: 18.666666\n",
      "Epoch  100/4000 W: 1.746, b: 0.578 Cost: 0.048171\n",
      "Epoch  200/4000 W: 1.800, b: 0.454 Cost: 0.029767\n",
      "Epoch  300/4000 W: 1.843, b: 0.357 Cost: 0.018394\n",
      "Epoch  400/4000 W: 1.876, b: 0.281 Cost: 0.011366\n",
      "Epoch  500/4000 W: 1.903, b: 0.221 Cost: 0.007024\n",
      "Epoch  600/4000 W: 1.924, b: 0.174 Cost: 0.004340\n",
      "Epoch  700/4000 W: 1.940, b: 0.136 Cost: 0.002682\n",
      "Epoch  800/4000 W: 1.953, b: 0.107 Cost: 0.001657\n",
      "Epoch  900/4000 W: 1.963, b: 0.084 Cost: 0.001024\n",
      "Epoch 1000/4000 W: 1.971, b: 0.066 Cost: 0.000633\n",
      "Epoch 1100/4000 W: 1.977, b: 0.052 Cost: 0.000391\n",
      "Epoch 1200/4000 W: 1.982, b: 0.041 Cost: 0.000242\n",
      "Epoch 1300/4000 W: 1.986, b: 0.032 Cost: 0.000149\n",
      "Epoch 1400/4000 W: 1.989, b: 0.025 Cost: 0.000092\n",
      "Epoch 1500/4000 W: 1.991, b: 0.020 Cost: 0.000057\n",
      "Epoch 1600/4000 W: 1.993, b: 0.016 Cost: 0.000035\n",
      "Epoch 1700/4000 W: 1.995, b: 0.012 Cost: 0.000022\n",
      "Epoch 1800/4000 W: 1.996, b: 0.010 Cost: 0.000013\n",
      "Epoch 1900/4000 W: 1.997, b: 0.008 Cost: 0.000008\n",
      "Epoch 2000/4000 W: 1.997, b: 0.006 Cost: 0.000005\n",
      "Epoch 2100/4000 W: 1.998, b: 0.005 Cost: 0.000003\n",
      "Epoch 2200/4000 W: 1.998, b: 0.004 Cost: 0.000002\n",
      "Epoch 2300/4000 W: 1.999, b: 0.003 Cost: 0.000001\n",
      "Epoch 2400/4000 W: 1.999, b: 0.002 Cost: 0.000001\n",
      "Epoch 2500/4000 W: 1.999, b: 0.002 Cost: 0.000000\n",
      "Epoch 2600/4000 W: 1.999, b: 0.001 Cost: 0.000000\n",
      "Epoch 2700/4000 W: 2.000, b: 0.001 Cost: 0.000000\n",
      "Epoch 2800/4000 W: 2.000, b: 0.001 Cost: 0.000000\n",
      "Epoch 2900/4000 W: 2.000, b: 0.001 Cost: 0.000000\n",
      "Epoch 3000/4000 W: 2.000, b: 0.001 Cost: 0.000000\n",
      "Epoch 3100/4000 W: 2.000, b: 0.000 Cost: 0.000000\n",
      "Epoch 3200/4000 W: 2.000, b: 0.000 Cost: 0.000000\n",
      "Epoch 3300/4000 W: 2.000, b: 0.000 Cost: 0.000000\n",
      "Epoch 3400/4000 W: 2.000, b: 0.000 Cost: 0.000000\n",
      "Epoch 3500/4000 W: 2.000, b: 0.000 Cost: 0.000000\n",
      "Epoch 3600/4000 W: 2.000, b: 0.000 Cost: 0.000000\n",
      "Epoch 3700/4000 W: 2.000, b: 0.000 Cost: 0.000000\n",
      "Epoch 3800/4000 W: 2.000, b: 0.000 Cost: 0.000000\n",
      "Epoch 3900/4000 W: 2.000, b: 0.000 Cost: 0.000000\n",
      "Epoch 4000/4000 W: 2.000, b: 0.000 Cost: 0.000000\n"
     ]
    }
   ],
   "source": [
    "x_train = torch.FloatTensor([[1], [2], [3]])\n",
    "y_train = torch.FloatTensor([[2], [4], [6]])\n",
    "# 모델 초기화\n",
    "W = torch.zeros(1, requires_grad=True)\n",
    "b = torch.zeros(1, requires_grad=True)\n",
    "# optimizer 설정\n",
    "optimizer = torch.optim.SGD([W, b], lr=0.01)\n",
    "\n",
    "nb_epochs = 4000 # 원하는만큼 경사 하강법을 반복\n",
    "for epoch in range(nb_epochs + 1):\n",
    "\n",
    "    # H(x) 계산\n",
    "    hypothesis = W * x_train + b\n",
    "\n",
    "    # cost 계산\n",
    "    cost = torch.mean((hypothesis - y_train) ** 2)\n",
    "\n",
    "    # gradient를 0으로 초기화\n",
    "    # 미분을 통해 얻은 기울기를 0으로 초기화 -> 새 기울기를 구하기 위함\n",
    "    optimizer.zero_grad()\n",
    "    # 손실함수를 미분하여 gradient 계산\n",
    "    # loss.backward() 함수를 통해 W, b에 대한 기울기가 계산 된다.\n",
    "    cost.backward()\n",
    "    # W와 b를 업데이트 \n",
    "    # 경사 하강법 최적화 함수 optimzer의 step 함수를 호출하여 파라미터로 들어간 W, b에서\n",
    "    # 리턴되는 변수들의 기울기에 학습률 0.01을 곱하여 빼줌으로서 업데이트 수행  \n",
    "    optimizer.step()\n",
    "\n",
    "    # 100번마다 로그 출력\n",
    "    if epoch % 100 == 0:\n",
    "        print('Epoch {:4d}/{} W: {:.3f}, b: {:.3f} Cost: {:.6f}'.format(\n",
    "            epoch, nb_epochs, W.item(), b.item(), cost.item()\n",
    "        ))"
   ]
  },
  {
   "cell_type": "code",
   "execution_count": 0,
   "metadata": {
    "colab": {},
    "colab_type": "code",
    "id": "4ZyTkVDayL3t"
   },
   "outputs": [],
   "source": []
  }
 ],
 "metadata": {
  "colab": {
   "collapsed_sections": [],
   "name": "Linear Regression.ipynb",
   "provenance": []
  },
  "kernelspec": {
   "display_name": "Python 3",
   "language": "python",
   "name": "python3"
  },
  "language_info": {
   "codemirror_mode": {
    "name": "ipython",
    "version": 3
   },
   "file_extension": ".py",
   "mimetype": "text/x-python",
   "name": "python",
   "nbconvert_exporter": "python",
   "pygments_lexer": "ipython3",
   "version": "3.7.6"
  }
 },
 "nbformat": 4,
 "nbformat_minor": 1
}
