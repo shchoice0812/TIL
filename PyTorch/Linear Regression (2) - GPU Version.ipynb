{
 "cells": [
  {
   "cell_type": "markdown",
   "metadata": {},
   "source": [
    "#  Linear Regression Model 만들기(GPU)\n",
    "* Coefficient: a = 2\n",
    "* Bias/Intercept : b = 1\n",
    "* Equation: y = 2x + 1"
   ]
  },
  {
   "cell_type": "code",
   "execution_count": 1,
   "metadata": {
    "ExecuteTime": {
     "end_time": "2020-06-25T11:42:25.414450Z",
     "start_time": "2020-06-25T11:42:25.245903Z"
    }
   },
   "outputs": [],
   "source": [
    "import numpy as np"
   ]
  },
  {
   "cell_type": "markdown",
   "metadata": {},
   "source": [
    "## 1. Simple 데이터셋 만들기"
   ]
  },
  {
   "cell_type": "code",
   "execution_count": 2,
   "metadata": {
    "ExecuteTime": {
     "end_time": "2020-06-25T11:42:25.440380Z",
     "start_time": "2020-06-25T11:42:25.420433Z"
    }
   },
   "outputs": [
    {
     "name": "stdout",
     "output_type": "stream",
     "text": [
      "x_values:  [0, 1, 2, 3, 4, 5, 6, 7, 8, 9, 10]\n",
      "x_train(numpy) shape : (11,)\n",
      "x_train(reshape) shape : (11, 1)\n"
     ]
    }
   ],
   "source": [
    "x_values = [i for i in range(11)]\n",
    "print(\"x_values: \", x_values)\n",
    "\n",
    "# numpy로 변환\n",
    "x_train = np.array(x_values, dtype=np.float32)\n",
    "print(\"x_train(numpy) shape :\", x_train.shape)\n",
    "\n",
    "# 중요: 2차원으로 변환\n",
    "x_train = x_train.reshape(-1, 1)\n",
    "print(\"x_train(reshape) shape :\", x_train.shape)"
   ]
  },
  {
   "cell_type": "markdown",
   "metadata": {},
   "source": [
    "* y = 2x + 1 만들기"
   ]
  },
  {
   "cell_type": "code",
   "execution_count": 3,
   "metadata": {
    "ExecuteTime": {
     "end_time": "2020-06-25T11:42:25.448359Z",
     "start_time": "2020-06-25T11:42:25.442376Z"
    }
   },
   "outputs": [
    {
     "name": "stdout",
     "output_type": "stream",
     "text": [
      "y_values:  [1, 3, 5, 7, 9, 11, 13, 15, 17, 19, 21]\n"
     ]
    }
   ],
   "source": [
    "y_values = [2*i + 1 for i in x_values]\n",
    "\n",
    "print(\"y_values: \", y_values)"
   ]
  },
  {
   "cell_type": "code",
   "execution_count": 4,
   "metadata": {
    "ExecuteTime": {
     "end_time": "2020-06-25T11:42:25.458333Z",
     "start_time": "2020-06-25T11:42:25.451352Z"
    }
   },
   "outputs": [
    {
     "name": "stdout",
     "output_type": "stream",
     "text": [
      "y_values:  [1, 3, 5, 7, 9, 11, 13, 15, 17, 19, 21]\n"
     ]
    }
   ],
   "source": [
    "y_values = []\n",
    "for i in x_values:\n",
    "    result = 2*i + 1\n",
    "    y_values.append(result)\n",
    "    \n",
    "print(\"y_values: \", y_values)"
   ]
  },
  {
   "cell_type": "code",
   "execution_count": 5,
   "metadata": {
    "ExecuteTime": {
     "end_time": "2020-06-25T11:42:25.473293Z",
     "start_time": "2020-06-25T11:42:25.461326Z"
    }
   },
   "outputs": [
    {
     "data": {
      "text/plain": [
       "(11,)"
      ]
     },
     "execution_count": 5,
     "metadata": {},
     "output_type": "execute_result"
    }
   ],
   "source": [
    "y_train = np.array(y_values, dtype=np.float32)\n",
    "y_train.shape"
   ]
  },
  {
   "cell_type": "code",
   "execution_count": 6,
   "metadata": {
    "ExecuteTime": {
     "end_time": "2020-06-25T11:42:25.482269Z",
     "start_time": "2020-06-25T11:42:25.475288Z"
    }
   },
   "outputs": [
    {
     "data": {
      "text/plain": [
       "(11, 1)"
      ]
     },
     "execution_count": 6,
     "metadata": {},
     "output_type": "execute_result"
    }
   ],
   "source": [
    "y_train = y_train.reshape(-1, 1)\n",
    "y_train.shape"
   ]
  },
  {
   "cell_type": "markdown",
   "metadata": {},
   "source": [
    "# 2. Linear Regression 모델 만들기\n",
    "* Linear Model\n",
    "    * True Equation: y = 2x + 1\n",
    "* Forward\n",
    "    * Example\n",
    "        * input x = 1\n",
    "        * output : hat{y} = ?"
   ]
  },
  {
   "cell_type": "code",
   "execution_count": 7,
   "metadata": {
    "ExecuteTime": {
     "end_time": "2020-06-25T11:42:26.146373Z",
     "start_time": "2020-06-25T11:42:25.488254Z"
    }
   },
   "outputs": [],
   "source": [
    "import torch\n",
    "import torch.nn as nn\n",
    "from torch.autograd import Variable"
   ]
  },
  {
   "cell_type": "markdown",
   "metadata": {},
   "source": [
    "### Step1. Create Model Class"
   ]
  },
  {
   "cell_type": "code",
   "execution_count": 8,
   "metadata": {
    "ExecuteTime": {
     "end_time": "2020-06-25T11:42:26.155343Z",
     "start_time": "2020-06-25T11:42:26.148362Z"
    }
   },
   "outputs": [],
   "source": [
    "# Create Class\n",
    "class LinearRegressionModel(nn.Module):\n",
    "    def __init__(self, input_size, output_size):\n",
    "        super(LinearRegressionModel, self).__init__()\n",
    "        self.linear = nn.Linear(input_dim, output_dim)\n",
    "        \n",
    "    def forward(self, x):\n",
    "        out = self.linear(x)\n",
    "        return out"
   ]
  },
  {
   "cell_type": "markdown",
   "metadata": {},
   "source": [
    "* input : [0, 1, 2, 3, 4, 5, 6, 7, 8, 9, 10]\n",
    "* output : [1, 3, 5, 7, 9, 11, 13, 15, 17, 19, 21]"
   ]
  },
  {
   "cell_type": "markdown",
   "metadata": {},
   "source": [
    "### Step2. Instantiate Model Class"
   ]
  },
  {
   "cell_type": "code",
   "execution_count": 9,
   "metadata": {
    "ExecuteTime": {
     "end_time": "2020-06-25T11:42:26.169305Z",
     "start_time": "2020-06-25T11:42:26.158335Z"
    }
   },
   "outputs": [],
   "source": [
    "input_dim = 1\n",
    "output_dim = 1\n",
    "\n",
    "model = LinearRegressionModel(input_dim, output_dim)"
   ]
  },
  {
   "cell_type": "code",
   "execution_count": 10,
   "metadata": {
    "ExecuteTime": {
     "end_time": "2020-06-25T11:42:26.175290Z",
     "start_time": "2020-06-25T11:42:26.171300Z"
    }
   },
   "outputs": [],
   "source": [
    "#######################\n",
    "#  USE GPU FOR MODEL  #\n",
    "#######################\n",
    "\n",
    "model.cuda()"
   ]
  },
  {
   "cell_type": "markdown",
   "metadata": {},
   "source": [
    "### Step3. instantiate Loss Class\n",
    "* MSE(Mean Squared Error) Loss 사용<br>\n",
    "<img src=\"https://user-images.githubusercontent.com/60699771/85705712-7221b380-b71c-11ea-9d60-ef1cb2cd4e1e.png\" align=left>"
   ]
  },
  {
   "cell_type": "code",
   "execution_count": 11,
   "metadata": {
    "ExecuteTime": {
     "end_time": "2020-06-25T11:42:26.183267Z",
     "start_time": "2020-06-25T11:42:26.177284Z"
    }
   },
   "outputs": [],
   "source": [
    "criterion = nn.MSELoss()"
   ]
  },
  {
   "cell_type": "markdown",
   "metadata": {
    "ExecuteTime": {
     "end_time": "2020-06-25T10:50:00.758607Z",
     "start_time": "2020-06-25T10:50:00.751628Z"
    }
   },
   "source": [
    "### Step4. instantiate Optimizer Class\n",
    "<img src=\"https://user-images.githubusercontent.com/60699771/85705722-751ca400-b71c-11ea-8977-8e92cc53c36d.png\" align=left>"
   ]
  },
  {
   "cell_type": "code",
   "execution_count": 12,
   "metadata": {
    "ExecuteTime": {
     "end_time": "2020-06-25T11:42:26.191251Z",
     "start_time": "2020-06-25T11:42:26.186261Z"
    }
   },
   "outputs": [],
   "source": [
    "learning_rate = 0.01\n",
    "optimizer = torch.optim.SGD(model.parameters(), lr=learning_rate)"
   ]
  },
  {
   "cell_type": "markdown",
   "metadata": {},
   "source": [
    "### Step5. Train Model\n",
    "* 1 epoch : going through the whole x_train data once\n",
    "    * 100 epochs : 100 x mapping x)train = [0, 1, 2, 3, ,4, 5, 6, 7 ,8 ,9, 10]\n",
    "    \n",
    "* process\n",
    "    1. Convert inputs/labels to variables\n",
    "    2. Clear gradient buffets\n",
    "    3. Get output given inputs\n",
    "    4. Get loss\n",
    "    5. Get gradients w.r.t parameters\n",
    "    6. Update parameters using gradients\n",
    "        * parameters = parameters - lr * parameters_gradients\n",
    "    7. Repeat"
   ]
  },
  {
   "cell_type": "code",
   "execution_count": 13,
   "metadata": {
    "ExecuteTime": {
     "end_time": "2020-06-25T11:42:26.198228Z",
     "start_time": "2020-06-25T11:42:26.193241Z"
    }
   },
   "outputs": [],
   "source": [
    "epochs = 100"
   ]
  },
  {
   "cell_type": "code",
   "execution_count": 14,
   "metadata": {
    "ExecuteTime": {
     "end_time": "2020-06-25T11:42:26.303946Z",
     "start_time": "2020-06-25T11:42:26.200223Z"
    }
   },
   "outputs": [
    {
     "name": "stdout",
     "output_type": "stream",
     "text": [
      "epoch 1, loss 140.24684143066406\n",
      "epoch 2, loss 11.481297492980957\n",
      "epoch 3, loss 0.9778289198875427\n",
      "epoch 4, loss 0.12063323706388474\n",
      "epoch 5, loss 0.05025792494416237\n",
      "epoch 6, loss 0.04406631365418434\n",
      "epoch 7, loss 0.043114956468343735\n",
      "epoch 8, loss 0.042596038430929184\n",
      "epoch 9, loss 0.042117271572351456\n",
      "epoch 10, loss 0.04164678230881691\n",
      "epoch 11, loss 0.04118170589208603\n",
      "epoch 12, loss 0.04072171822190285\n",
      "epoch 13, loss 0.04026711359620094\n",
      "epoch 14, loss 0.039817456156015396\n",
      "epoch 15, loss 0.03937269002199173\n",
      "epoch 16, loss 0.03893311321735382\n",
      "epoch 17, loss 0.03849842771887779\n",
      "epoch 18, loss 0.03806844353675842\n",
      "epoch 19, loss 0.037643227726221085\n",
      "epoch 20, loss 0.03722298517823219\n",
      "epoch 21, loss 0.03680722042918205\n",
      "epoch 22, loss 0.036396268755197525\n",
      "epoch 23, loss 0.035989902913570404\n",
      "epoch 24, loss 0.035587914288043976\n",
      "epoch 25, loss 0.03519053757190704\n",
      "epoch 26, loss 0.03479751572012901\n",
      "epoch 27, loss 0.03440901264548302\n",
      "epoch 28, loss 0.03402474895119667\n",
      "epoch 29, loss 0.03364476189017296\n",
      "epoch 30, loss 0.033269163221120834\n",
      "epoch 31, loss 0.032897595316171646\n",
      "epoch 32, loss 0.03253018110990524\n",
      "epoch 33, loss 0.03216700628399849\n",
      "epoch 34, loss 0.03180784732103348\n",
      "epoch 35, loss 0.03145262598991394\n",
      "epoch 36, loss 0.031101329252123833\n",
      "epoch 37, loss 0.03075399436056614\n",
      "epoch 38, loss 0.030410585924983025\n",
      "epoch 39, loss 0.030071044340729713\n",
      "epoch 40, loss 0.029735209420323372\n",
      "epoch 41, loss 0.0294031985104084\n",
      "epoch 42, loss 0.02907487563788891\n",
      "epoch 43, loss 0.028750156983733177\n",
      "epoch 44, loss 0.028429055586457253\n",
      "epoch 45, loss 0.028111612424254417\n",
      "epoch 46, loss 0.027797739952802658\n",
      "epoch 47, loss 0.027487391605973244\n",
      "epoch 48, loss 0.027180414646863937\n",
      "epoch 49, loss 0.026876820251345634\n",
      "epoch 50, loss 0.026576830074191093\n",
      "epoch 51, loss 0.02627996727824211\n",
      "epoch 52, loss 0.025986522436141968\n",
      "epoch 53, loss 0.025696301832795143\n",
      "epoch 54, loss 0.02540939301252365\n",
      "epoch 55, loss 0.02512560412287712\n",
      "epoch 56, loss 0.024845028296113014\n",
      "epoch 57, loss 0.02456759847700596\n",
      "epoch 58, loss 0.024293305352330208\n",
      "epoch 59, loss 0.024022085592150688\n",
      "epoch 60, loss 0.02375376783311367\n",
      "epoch 61, loss 0.02348851040005684\n",
      "epoch 62, loss 0.023226218298077583\n",
      "epoch 63, loss 0.022966908290982246\n",
      "epoch 64, loss 0.02271040715277195\n",
      "epoch 65, loss 0.022456707432866096\n",
      "epoch 66, loss 0.022205935791134834\n",
      "epoch 67, loss 0.021958064287900925\n",
      "epoch 68, loss 0.021712765097618103\n",
      "epoch 69, loss 0.02147039957344532\n",
      "epoch 70, loss 0.02123061753809452\n",
      "epoch 71, loss 0.020993448793888092\n",
      "epoch 72, loss 0.020759114995598793\n",
      "epoch 73, loss 0.020527273416519165\n",
      "epoch 74, loss 0.020298078656196594\n",
      "epoch 75, loss 0.02007133513689041\n",
      "epoch 76, loss 0.019847197458148003\n",
      "epoch 77, loss 0.019625620916485786\n",
      "epoch 78, loss 0.019406462088227272\n",
      "epoch 79, loss 0.01918971538543701\n",
      "epoch 80, loss 0.018975473940372467\n",
      "epoch 81, loss 0.01876353658735752\n",
      "epoch 82, loss 0.018554087728261948\n",
      "epoch 83, loss 0.0183468796312809\n",
      "epoch 84, loss 0.018142033368349075\n",
      "epoch 85, loss 0.017939386889338493\n",
      "epoch 86, loss 0.01773909665644169\n",
      "epoch 87, loss 0.017540941014885902\n",
      "epoch 88, loss 0.017345048487186432\n",
      "epoch 89, loss 0.017151428386569023\n",
      "epoch 90, loss 0.0169599037617445\n",
      "epoch 91, loss 0.01677049696445465\n",
      "epoch 92, loss 0.016583215445280075\n",
      "epoch 93, loss 0.016397986561059952\n",
      "epoch 94, loss 0.016214881092309952\n",
      "epoch 95, loss 0.016033830121159554\n",
      "epoch 96, loss 0.01585479825735092\n",
      "epoch 97, loss 0.015677807852625847\n",
      "epoch 98, loss 0.015502676367759705\n",
      "epoch 99, loss 0.015329521149396896\n",
      "epoch 100, loss 0.015158381313085556\n"
     ]
    }
   ],
   "source": [
    "for epoch in range(epochs):\n",
    "    epoch += 1\n",
    "    # convert numpy array to torch Variable\n",
    "    inputs = Variable(torch.from_numpy(x_train))\n",
    "    labels = Variable(torch.from_numpy(y_train))\n",
    "    \n",
    "    #######################\n",
    "    #  USE GPU FOR MODEL  #\n",
    "    #######################\n",
    "    if torch.cuda.is_available():\n",
    "        inputs = Variable(torch.from_numpy(x_train).cuda())\n",
    "        \n",
    "    #######################\n",
    "    #  USE GPU FOR MODEL  #\n",
    "    #######################\n",
    "    if torch.cuda.is_available():\n",
    "        labels = Variable(torch.from_numpy(y_train).cuda())\n",
    "    \n",
    "    # clear gradients w.r.t. parameters\n",
    "    optimizer.zero_grad()\n",
    "    \n",
    "    #Forward to get ouput\n",
    "    outputs = model.forward(inputs)\n",
    "    \n",
    "    # Calculate Loss\n",
    "    loss = criterion(outputs, labels)\n",
    "    \n",
    "    # Getting gradients w.r.t. parameters\n",
    "    loss.backward()\n",
    "    \n",
    "    # Updating parameters\n",
    "    optimizer.step()\n",
    "    \n",
    "    print('epoch {}, loss {}'.format(epoch, loss.data))"
   ]
  },
  {
   "cell_type": "markdown",
   "metadata": {},
   "source": [
    "### Compare Data"
   ]
  },
  {
   "cell_type": "code",
   "execution_count": 15,
   "metadata": {
    "ExecuteTime": {
     "end_time": "2020-06-25T11:42:26.314916Z",
     "start_time": "2020-06-25T11:42:26.306942Z"
    }
   },
   "outputs": [
    {
     "data": {
      "text/plain": [
       "array([[ 0.7709731],\n",
       "       [ 2.803955 ],\n",
       "       [ 4.836937 ],\n",
       "       [ 6.869919 ],\n",
       "       [ 8.902901 ],\n",
       "       [10.935883 ],\n",
       "       [12.968864 ],\n",
       "       [15.001846 ],\n",
       "       [17.034828 ],\n",
       "       [19.06781  ],\n",
       "       [21.100792 ]], dtype=float32)"
      ]
     },
     "execution_count": 15,
     "metadata": {},
     "output_type": "execute_result"
    }
   ],
   "source": [
    "predicted = model.forward(Variable(torch.from_numpy(x_train))).data.numpy()\n",
    "predicted"
   ]
  },
  {
   "cell_type": "code",
   "execution_count": 16,
   "metadata": {
    "ExecuteTime": {
     "end_time": "2020-06-25T11:42:26.338853Z",
     "start_time": "2020-06-25T11:42:26.321898Z"
    }
   },
   "outputs": [
    {
     "data": {
      "text/plain": [
       "array([[ 1.],\n",
       "       [ 3.],\n",
       "       [ 5.],\n",
       "       [ 7.],\n",
       "       [ 9.],\n",
       "       [11.],\n",
       "       [13.],\n",
       "       [15.],\n",
       "       [17.],\n",
       "       [19.],\n",
       "       [21.]], dtype=float32)"
      ]
     },
     "execution_count": 16,
     "metadata": {},
     "output_type": "execute_result"
    }
   ],
   "source": [
    "y_train"
   ]
  },
  {
   "cell_type": "markdown",
   "metadata": {
    "ExecuteTime": {
     "end_time": "2020-06-25T11:20:12.892557Z",
     "start_time": "2020-06-25T11:20:12.888567Z"
    }
   },
   "source": [
    "## 3. Plot Graph로 확인해보기"
   ]
  },
  {
   "cell_type": "code",
   "execution_count": 17,
   "metadata": {
    "ExecuteTime": {
     "end_time": "2020-06-25T11:42:26.782845Z",
     "start_time": "2020-06-25T11:42:26.341845Z"
    }
   },
   "outputs": [],
   "source": [
    "import matplotlib.pyplot as plt"
   ]
  },
  {
   "cell_type": "code",
   "execution_count": 18,
   "metadata": {
    "ExecuteTime": {
     "end_time": "2020-06-25T11:42:26.980213Z",
     "start_time": "2020-06-25T11:42:26.784839Z"
    }
   },
   "outputs": [
    {
     "data": {
      "image/png": "[encoded data removed]",
      "text/plain": [
       "<Figure size 432x288 with 1 Axes>"
      ]
     },
     "metadata": {
      "needs_background": "light"
     },
     "output_type": "display_data"
    }
   ],
   "source": [
    "# Clear figure\n",
    "plt.clf()\n",
    "\n",
    "# Get Predictions\n",
    "predicted = model(torch.from_numpy(x_train)).data.numpy()\n",
    "\n",
    "# Plot true data\n",
    "plt.plot(x_train, y_train, 'go', label='True data', alpha=0.5)\n",
    "plt.plot(x_train, predicted, '--', label='Predictions', alpha=0.5)\n",
    "\n",
    "# Legend and plot\n",
    "plt.legend(loc='best')\n",
    "plt.show()"
   ]
  },
  {
   "cell_type": "markdown",
   "metadata": {
    "ExecuteTime": {
     "end_time": "2020-06-25T11:27:14.199037Z",
     "start_time": "2020-06-25T11:27:14.183081Z"
    }
   },
   "source": [
    "## 4. Save Model"
   ]
  },
  {
   "cell_type": "code",
   "execution_count": 19,
   "metadata": {
    "ExecuteTime": {
     "end_time": "2020-06-25T11:42:26.988191Z",
     "start_time": "2020-06-25T11:42:26.982207Z"
    }
   },
   "outputs": [],
   "source": [
    "save_model = True\n",
    "if save_model is True:\n",
    "    # Saves only parameters (alpha and beta)\n",
    "    torch.save(model.state_dict(), 'awesome_model.pkl')"
   ]
  },
  {
   "cell_type": "markdown",
   "metadata": {
    "ExecuteTime": {
     "end_time": "2020-06-25T11:27:48.983671Z",
     "start_time": "2020-06-25T11:27:48.979684Z"
    }
   },
   "source": [
    "## 5. Load Model"
   ]
  },
  {
   "cell_type": "code",
   "execution_count": 20,
   "metadata": {
    "ExecuteTime": {
     "end_time": "2020-06-25T11:42:27.005145Z",
     "start_time": "2020-06-25T11:42:26.990186Z"
    }
   },
   "outputs": [],
   "source": [
    "load_model = True\n",
    "if load_model is True:\n",
    "    model.load_state_dict(torch.load('awesome_model.pkl'))"
   ]
  }
 ],
 "metadata": {
  "kernelspec": {
   "display_name": "Python 3",
   "language": "python",
   "name": "python3"
  },
  "language_info": {
   "codemirror_mode": {
    "name": "ipython",
    "version": 3
   },
   "file_extension": ".py",
   "mimetype": "text/x-python",
   "name": "python",
   "nbconvert_exporter": "python",
   "pygments_lexer": "ipython3",
   "version": "3.7.6"
  }
 },
 "nbformat": 4,
 "nbformat_minor": 4
}
