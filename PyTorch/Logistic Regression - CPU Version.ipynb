{
 "cells": [
  {
   "cell_type": "markdown",
   "metadata": {
    "ExecuteTime": {
     "end_time": "2020-06-25T12:44:52.806673Z",
     "start_time": "2020-06-25T12:44:52.803678Z"
    }
   },
   "source": [
    "# Logistic Regression"
   ]
  },
  {
   "cell_type": "markdown",
   "metadata": {},
   "source": [
    "## Basic Comparision\n",
    "* Linear regression\n",
    "    * Output : numeric value given inputs\n",
    "* Logistic regression\n",
    "    * Output : probability [0, 1] given input belonging to a class\n",
    "    \n",
    "## Input/Output Comparision\n",
    "* Linear regression : Mulitiplication\n",
    "    * input : [1]\n",
    "        * output : 2\n",
    "    * input : [2]\n",
    "        * output : 4\n",
    "    * Trying to model the relationship y = 2x\n",
    "* Logistic regression : Spam\n",
    "    * Input: \"Sign up toiget 1 million dollars by tonight\"\n",
    "        * output: p = 0.8\n",
    "    *Input : \"This is z receipt for your recent purchase with Amazon\"\n",
    "        * output: p = 0.3\n",
    "    * p : probability of spam"
   ]
  },
  {
   "cell_type": "markdown",
   "metadata": {},
   "source": [
    "## 1.1 Problems of Linear Regression\n",
    "* EXAMPLE\n",
    "    * Fever\n",
    "    * Input: temperature\n",
    "    * Output: fever or no fever\n",
    "* Remember\n",
    "    * Linear Regression: minimize error between points and line"
   ]
  },
  {
   "cell_type": "markdown",
   "metadata": {},
   "source": [
    "#### Problem 1. \n",
    "Fever value can go negative(below 0) and positive(above 1)"
   ]
  },
  {
   "cell_type": "code",
   "execution_count": 1,
   "metadata": {
    "ExecuteTime": {
     "end_time": "2020-06-26T04:49:57.634756Z",
     "start_time": "2020-06-26T04:49:55.832097Z"
    }
   },
   "outputs": [
    {
     "data": {
      "image/png": "[encoded data removed]",
      "text/plain": [
       "<Figure size 432x288 with 1 Axes>"
      ]
     },
     "metadata": {
      "needs_background": "light"
     },
     "output_type": "display_data"
    }
   ],
   "source": [
    "import numpy as np\n",
    "import matplotlib.pyplot as plt\n",
    "\n",
    "x = [1, 5, 10, 10, 25, 50, 70, 75, 100]\n",
    "y =[0, 0, 0, 0, 0, 1, 1, 1, 1]\n",
    "\n",
    "colors = np.random.rand(len(x))\n",
    "plt.plot(np.unique(x), np.poly1d(np.polyfit(x, y, 1))(np.unique(x)))\n",
    "plt.ylabel(\"Fever\")\n",
    "plt.xlabel(\"Temperature\")\n",
    "\n",
    "plt.scatter(x, y, c=colors, alpha=0.5)\n",
    "\n",
    "plt.show()"
   ]
  },
  {
   "cell_type": "markdown",
   "metadata": {},
   "source": [
    "#### Problem 2.\n",
    "Fever points not predicted with outliers"
   ]
  },
  {
   "cell_type": "code",
   "execution_count": 2,
   "metadata": {
    "ExecuteTime": {
     "end_time": "2020-06-26T04:49:57.821772Z",
     "start_time": "2020-06-26T04:49:57.636752Z"
    }
   },
   "outputs": [
    {
     "data": {
      "image/png": "[encoded data removed]",
      "text/plain": [
       "<Figure size 432x288 with 1 Axes>"
      ]
     },
     "metadata": {
      "needs_background": "light"
     },
     "output_type": "display_data"
    }
   ],
   "source": [
    "x = [1, 5, 10, 10, 25, 50, 70, 75, 300]\n",
    "y =[0, 0, 0, 0, 0, 1, 1, 1, 1]\n",
    "\n",
    "colors = np.random.rand(len(x))\n",
    "plt.plot(np.unique(x), np.poly1d(np.polyfit(x, y, 1))(np.unique(x)))\n",
    "plt.ylabel(\"Fever\")\n",
    "plt.xlabel(\"Temperature\")\n",
    "\n",
    "plt.scatter(x, y, c=colors, alpha=0.5)\n",
    "\n",
    "plt.show()"
   ]
  },
  {
   "cell_type": "markdown",
   "metadata": {},
   "source": [
    "## 2 Logistic Regression 이란\n",
    "### Predicting Probability\n",
    "* Linear regression does not work\n",
    "* Instead of predicting direct values: predict probability"
   ]
  },
  {
   "cell_type": "markdown",
   "metadata": {},
   "source": [
    "<img src=\"https://user-images.githubusercontent.com/60699771/85735864-faae4d00-b738-11ea-85a7-08460795c804.png\" align=left>\n",
    "<img src=\"https://user-images.githubusercontent.com/60699771/85735873-fc781080-b738-11ea-9cf6-cf3028b61bcc.png\" align=left>\n",
    "<img src=\"https://user-images.githubusercontent.com/60699771/85735879-fda93d80-b738-11ea-8f1c-baef40ac9796.png\" align=left>"
   ]
  },
  {
   "cell_type": "markdown",
   "metadata": {},
   "source": [
    "#### Cross entropy 이해하기"
   ]
  },
  {
   "cell_type": "code",
   "execution_count": 3,
   "metadata": {
    "ExecuteTime": {
     "end_time": "2020-06-26T04:49:57.833735Z",
     "start_time": "2020-06-26T04:49:57.823760Z"
    }
   },
   "outputs": [
    {
     "name": "stdout",
     "output_type": "stream",
     "text": [
      "1.0000050000287824e-05\n",
      "11.51292546497478\n",
      "-1.0000050000287824e-05\n",
      "-11.51292546497478\n"
     ]
    }
   ],
   "source": [
    "import math\n",
    "print(-math.log(1 - 0.00001)) # L = 0, S = 0 일때로 정확한 예측한 것\n",
    "print(-math.log(1 - 0.99999))\n",
    "print(math.log(1 - 0.00001)) # L = 1, S = 1 일때로 정확한 예측한 것\n",
    "print(math.log(1 - 0.99999))"
   ]
  },
  {
   "cell_type": "markdown",
   "metadata": {},
   "source": [
    "<img src=\"https://user-images.githubusercontent.com/60699771/85768100-a19fe280-b753-11ea-9d32-943717ec462f.png\" align=left>"
   ]
  },
  {
   "cell_type": "markdown",
   "metadata": {},
   "source": [
    "## 3. Logistic Regression Model 구축"
   ]
  },
  {
   "cell_type": "markdown",
   "metadata": {},
   "source": [
    "<img src=\"https://user-images.githubusercontent.com/60699771/85768951-82ee1b80-b754-11ea-89a8-63af13522585.png\" align=left>"
   ]
  },
  {
   "cell_type": "markdown",
   "metadata": {},
   "source": [
    "### Steps\n",
    "* Step 1 : Load Dataset\n",
    "* Step 2 : Make Dataset Iterable\n",
    "* Step 3 : Create Model Class\n",
    "* Step 4 : Instantiate Model Class\n",
    "* Step 5 : Instantiate Loss Class\n",
    "* Step 6 : Instantiate Optimizer Class\n",
    "* Step 7 : Train Model"
   ]
  },
  {
   "cell_type": "markdown",
   "metadata": {},
   "source": [
    "### Step 1.1  Loading MNIST Train Dataset"
   ]
  },
  {
   "cell_type": "code",
   "execution_count": 4,
   "metadata": {
    "ExecuteTime": {
     "end_time": "2020-06-26T04:50:00.746180Z",
     "start_time": "2020-06-26T04:49:57.835728Z"
    }
   },
   "outputs": [],
   "source": [
    "import torch\n",
    "import torch.nn as nn\n",
    "import torchvision.transforms as transforms\n",
    "import torchvision.datasets as dsets\n",
    "from torch.autograd import Variable"
   ]
  },
  {
   "cell_type": "code",
   "execution_count": 5,
   "metadata": {
    "ExecuteTime": {
     "end_time": "2020-06-26T04:50:01.021961Z",
     "start_time": "2020-06-26T04:50:00.749174Z"
    }
   },
   "outputs": [],
   "source": [
    "train_dataset = dsets.MNIST(root='./data',\n",
    "                           train= True,\n",
    "                           transform= transforms.ToTensor(),\n",
    "                           download=True)"
   ]
  },
  {
   "cell_type": "code",
   "execution_count": 6,
   "metadata": {
    "ExecuteTime": {
     "end_time": "2020-06-26T04:50:01.039909Z",
     "start_time": "2020-06-26T04:50:01.028940Z"
    }
   },
   "outputs": [
    {
     "data": {
      "text/plain": [
       "60000"
      ]
     },
     "execution_count": 6,
     "metadata": {},
     "output_type": "execute_result"
    }
   ],
   "source": [
    "len(train_dataset)"
   ]
  },
  {
   "cell_type": "code",
   "execution_count": 7,
   "metadata": {
    "ExecuteTime": {
     "end_time": "2020-06-26T04:50:01.060851Z",
     "start_time": "2020-06-26T04:50:01.044894Z"
    }
   },
   "outputs": [
    {
     "data": {
      "text/plain": [
       "(tensor([[[0.0000, 0.0000, 0.0000, 0.0000, 0.0000, 0.0000, 0.0000, 0.0000,\n",
       "           0.0000, 0.0000, 0.0000, 0.0000, 0.0000, 0.0000, 0.0000, 0.0000,\n",
       "           0.0000, 0.0000, 0.0000, 0.0000, 0.0000, 0.0000, 0.0000, 0.0000,\n",
       "           0.0000, 0.0000, 0.0000, 0.0000],\n",
       "          [0.0000, 0.0000, 0.0000, 0.0000, 0.0000, 0.0000, 0.0000, 0.0000,\n",
       "           0.0000, 0.0000, 0.0000, 0.0000, 0.0000, 0.0000, 0.0000, 0.0000,\n",
       "           0.0000, 0.0000, 0.0000, 0.0000, 0.0000, 0.0000, 0.0000, 0.0000,\n",
       "           0.0000, 0.0000, 0.0000, 0.0000],\n",
       "          [0.0000, 0.0000, 0.0000, 0.0000, 0.0000, 0.0000, 0.0000, 0.0000,\n",
       "           0.0000, 0.0000, 0.0000, 0.0000, 0.0000, 0.0000, 0.0000, 0.0000,\n",
       "           0.0000, 0.0000, 0.0000, 0.0000, 0.0000, 0.0000, 0.0000, 0.0000,\n",
       "           0.0000, 0.0000, 0.0000, 0.0000],\n",
       "          [0.0000, 0.0000, 0.0000, 0.0000, 0.0000, 0.0000, 0.0000, 0.0000,\n",
       "           0.0000, 0.0000, 0.0000, 0.0000, 0.0000, 0.0000, 0.0000, 0.0000,\n",
       "           0.0000, 0.0000, 0.0000, 0.0000, 0.0000, 0.0000, 0.0000, 0.0000,\n",
       "           0.0000, 0.0000, 0.0000, 0.0000],\n",
       "          [0.0000, 0.0000, 0.0000, 0.0000, 0.0000, 0.0000, 0.0000, 0.0000,\n",
       "           0.0000, 0.0000, 0.0000, 0.0000, 0.0000, 0.0000, 0.0000, 0.0000,\n",
       "           0.0000, 0.0000, 0.0000, 0.0000, 0.0000, 0.0000, 0.0000, 0.0000,\n",
       "           0.0000, 0.0000, 0.0000, 0.0000],\n",
       "          [0.0000, 0.0000, 0.0000, 0.0000, 0.0000, 0.0000, 0.0000, 0.0000,\n",
       "           0.0000, 0.0000, 0.0000, 0.0000, 0.0118, 0.0706, 0.0706, 0.0706,\n",
       "           0.4941, 0.5333, 0.6863, 0.1020, 0.6510, 1.0000, 0.9686, 0.4980,\n",
       "           0.0000, 0.0000, 0.0000, 0.0000],\n",
       "          [0.0000, 0.0000, 0.0000, 0.0000, 0.0000, 0.0000, 0.0000, 0.0000,\n",
       "           0.1176, 0.1412, 0.3686, 0.6039, 0.6667, 0.9922, 0.9922, 0.9922,\n",
       "           0.9922, 0.9922, 0.8824, 0.6745, 0.9922, 0.9490, 0.7647, 0.2510,\n",
       "           0.0000, 0.0000, 0.0000, 0.0000],\n",
       "          [0.0000, 0.0000, 0.0000, 0.0000, 0.0000, 0.0000, 0.0000, 0.1922,\n",
       "           0.9333, 0.9922, 0.9922, 0.9922, 0.9922, 0.9922, 0.9922, 0.9922,\n",
       "           0.9922, 0.9843, 0.3647, 0.3216, 0.3216, 0.2196, 0.1529, 0.0000,\n",
       "           0.0000, 0.0000, 0.0000, 0.0000],\n",
       "          [0.0000, 0.0000, 0.0000, 0.0000, 0.0000, 0.0000, 0.0000, 0.0706,\n",
       "           0.8588, 0.9922, 0.9922, 0.9922, 0.9922, 0.9922, 0.7765, 0.7137,\n",
       "           0.9686, 0.9451, 0.0000, 0.0000, 0.0000, 0.0000, 0.0000, 0.0000,\n",
       "           0.0000, 0.0000, 0.0000, 0.0000],\n",
       "          [0.0000, 0.0000, 0.0000, 0.0000, 0.0000, 0.0000, 0.0000, 0.0000,\n",
       "           0.3137, 0.6118, 0.4196, 0.9922, 0.9922, 0.8039, 0.0431, 0.0000,\n",
       "           0.1686, 0.6039, 0.0000, 0.0000, 0.0000, 0.0000, 0.0000, 0.0000,\n",
       "           0.0000, 0.0000, 0.0000, 0.0000],\n",
       "          [0.0000, 0.0000, 0.0000, 0.0000, 0.0000, 0.0000, 0.0000, 0.0000,\n",
       "           0.0000, 0.0549, 0.0039, 0.6039, 0.9922, 0.3529, 0.0000, 0.0000,\n",
       "           0.0000, 0.0000, 0.0000, 0.0000, 0.0000, 0.0000, 0.0000, 0.0000,\n",
       "           0.0000, 0.0000, 0.0000, 0.0000],\n",
       "          [0.0000, 0.0000, 0.0000, 0.0000, 0.0000, 0.0000, 0.0000, 0.0000,\n",
       "           0.0000, 0.0000, 0.0000, 0.5451, 0.9922, 0.7451, 0.0078, 0.0000,\n",
       "           0.0000, 0.0000, 0.0000, 0.0000, 0.0000, 0.0000, 0.0000, 0.0000,\n",
       "           0.0000, 0.0000, 0.0000, 0.0000],\n",
       "          [0.0000, 0.0000, 0.0000, 0.0000, 0.0000, 0.0000, 0.0000, 0.0000,\n",
       "           0.0000, 0.0000, 0.0000, 0.0431, 0.7451, 0.9922, 0.2745, 0.0000,\n",
       "           0.0000, 0.0000, 0.0000, 0.0000, 0.0000, 0.0000, 0.0000, 0.0000,\n",
       "           0.0000, 0.0000, 0.0000, 0.0000],\n",
       "          [0.0000, 0.0000, 0.0000, 0.0000, 0.0000, 0.0000, 0.0000, 0.0000,\n",
       "           0.0000, 0.0000, 0.0000, 0.0000, 0.1373, 0.9451, 0.8824, 0.6275,\n",
       "           0.4235, 0.0039, 0.0000, 0.0000, 0.0000, 0.0000, 0.0000, 0.0000,\n",
       "           0.0000, 0.0000, 0.0000, 0.0000],\n",
       "          [0.0000, 0.0000, 0.0000, 0.0000, 0.0000, 0.0000, 0.0000, 0.0000,\n",
       "           0.0000, 0.0000, 0.0000, 0.0000, 0.0000, 0.3176, 0.9412, 0.9922,\n",
       "           0.9922, 0.4667, 0.0980, 0.0000, 0.0000, 0.0000, 0.0000, 0.0000,\n",
       "           0.0000, 0.0000, 0.0000, 0.0000],\n",
       "          [0.0000, 0.0000, 0.0000, 0.0000, 0.0000, 0.0000, 0.0000, 0.0000,\n",
       "           0.0000, 0.0000, 0.0000, 0.0000, 0.0000, 0.0000, 0.1765, 0.7294,\n",
       "           0.9922, 0.9922, 0.5882, 0.1059, 0.0000, 0.0000, 0.0000, 0.0000,\n",
       "           0.0000, 0.0000, 0.0000, 0.0000],\n",
       "          [0.0000, 0.0000, 0.0000, 0.0000, 0.0000, 0.0000, 0.0000, 0.0000,\n",
       "           0.0000, 0.0000, 0.0000, 0.0000, 0.0000, 0.0000, 0.0000, 0.0627,\n",
       "           0.3647, 0.9882, 0.9922, 0.7333, 0.0000, 0.0000, 0.0000, 0.0000,\n",
       "           0.0000, 0.0000, 0.0000, 0.0000],\n",
       "          [0.0000, 0.0000, 0.0000, 0.0000, 0.0000, 0.0000, 0.0000, 0.0000,\n",
       "           0.0000, 0.0000, 0.0000, 0.0000, 0.0000, 0.0000, 0.0000, 0.0000,\n",
       "           0.0000, 0.9765, 0.9922, 0.9765, 0.2510, 0.0000, 0.0000, 0.0000,\n",
       "           0.0000, 0.0000, 0.0000, 0.0000],\n",
       "          [0.0000, 0.0000, 0.0000, 0.0000, 0.0000, 0.0000, 0.0000, 0.0000,\n",
       "           0.0000, 0.0000, 0.0000, 0.0000, 0.0000, 0.0000, 0.1804, 0.5098,\n",
       "           0.7176, 0.9922, 0.9922, 0.8118, 0.0078, 0.0000, 0.0000, 0.0000,\n",
       "           0.0000, 0.0000, 0.0000, 0.0000],\n",
       "          [0.0000, 0.0000, 0.0000, 0.0000, 0.0000, 0.0000, 0.0000, 0.0000,\n",
       "           0.0000, 0.0000, 0.0000, 0.0000, 0.1529, 0.5804, 0.8980, 0.9922,\n",
       "           0.9922, 0.9922, 0.9804, 0.7137, 0.0000, 0.0000, 0.0000, 0.0000,\n",
       "           0.0000, 0.0000, 0.0000, 0.0000],\n",
       "          [0.0000, 0.0000, 0.0000, 0.0000, 0.0000, 0.0000, 0.0000, 0.0000,\n",
       "           0.0000, 0.0000, 0.0941, 0.4471, 0.8667, 0.9922, 0.9922, 0.9922,\n",
       "           0.9922, 0.7882, 0.3059, 0.0000, 0.0000, 0.0000, 0.0000, 0.0000,\n",
       "           0.0000, 0.0000, 0.0000, 0.0000],\n",
       "          [0.0000, 0.0000, 0.0000, 0.0000, 0.0000, 0.0000, 0.0000, 0.0000,\n",
       "           0.0902, 0.2588, 0.8353, 0.9922, 0.9922, 0.9922, 0.9922, 0.7765,\n",
       "           0.3176, 0.0078, 0.0000, 0.0000, 0.0000, 0.0000, 0.0000, 0.0000,\n",
       "           0.0000, 0.0000, 0.0000, 0.0000],\n",
       "          [0.0000, 0.0000, 0.0000, 0.0000, 0.0000, 0.0000, 0.0706, 0.6706,\n",
       "           0.8588, 0.9922, 0.9922, 0.9922, 0.9922, 0.7647, 0.3137, 0.0353,\n",
       "           0.0000, 0.0000, 0.0000, 0.0000, 0.0000, 0.0000, 0.0000, 0.0000,\n",
       "           0.0000, 0.0000, 0.0000, 0.0000],\n",
       "          [0.0000, 0.0000, 0.0000, 0.0000, 0.2157, 0.6745, 0.8863, 0.9922,\n",
       "           0.9922, 0.9922, 0.9922, 0.9569, 0.5216, 0.0431, 0.0000, 0.0000,\n",
       "           0.0000, 0.0000, 0.0000, 0.0000, 0.0000, 0.0000, 0.0000, 0.0000,\n",
       "           0.0000, 0.0000, 0.0000, 0.0000],\n",
       "          [0.0000, 0.0000, 0.0000, 0.0000, 0.5333, 0.9922, 0.9922, 0.9922,\n",
       "           0.8314, 0.5294, 0.5176, 0.0627, 0.0000, 0.0000, 0.0000, 0.0000,\n",
       "           0.0000, 0.0000, 0.0000, 0.0000, 0.0000, 0.0000, 0.0000, 0.0000,\n",
       "           0.0000, 0.0000, 0.0000, 0.0000],\n",
       "          [0.0000, 0.0000, 0.0000, 0.0000, 0.0000, 0.0000, 0.0000, 0.0000,\n",
       "           0.0000, 0.0000, 0.0000, 0.0000, 0.0000, 0.0000, 0.0000, 0.0000,\n",
       "           0.0000, 0.0000, 0.0000, 0.0000, 0.0000, 0.0000, 0.0000, 0.0000,\n",
       "           0.0000, 0.0000, 0.0000, 0.0000],\n",
       "          [0.0000, 0.0000, 0.0000, 0.0000, 0.0000, 0.0000, 0.0000, 0.0000,\n",
       "           0.0000, 0.0000, 0.0000, 0.0000, 0.0000, 0.0000, 0.0000, 0.0000,\n",
       "           0.0000, 0.0000, 0.0000, 0.0000, 0.0000, 0.0000, 0.0000, 0.0000,\n",
       "           0.0000, 0.0000, 0.0000, 0.0000],\n",
       "          [0.0000, 0.0000, 0.0000, 0.0000, 0.0000, 0.0000, 0.0000, 0.0000,\n",
       "           0.0000, 0.0000, 0.0000, 0.0000, 0.0000, 0.0000, 0.0000, 0.0000,\n",
       "           0.0000, 0.0000, 0.0000, 0.0000, 0.0000, 0.0000, 0.0000, 0.0000,\n",
       "           0.0000, 0.0000, 0.0000, 0.0000]]]),\n",
       " 5)"
      ]
     },
     "execution_count": 7,
     "metadata": {},
     "output_type": "execute_result"
    }
   ],
   "source": [
    "train_dataset[0]"
   ]
  },
  {
   "cell_type": "code",
   "execution_count": 8,
   "metadata": {
    "ExecuteTime": {
     "end_time": "2020-06-26T04:50:01.072819Z",
     "start_time": "2020-06-26T04:50:01.064843Z"
    }
   },
   "outputs": [
    {
     "data": {
      "text/plain": [
       "tuple"
      ]
     },
     "execution_count": 8,
     "metadata": {},
     "output_type": "execute_result"
    }
   ],
   "source": [
    "type(train_dataset[0])"
   ]
  },
  {
   "cell_type": "code",
   "execution_count": 9,
   "metadata": {
    "ExecuteTime": {
     "end_time": "2020-06-26T04:50:01.085784Z",
     "start_time": "2020-06-26T04:50:01.077806Z"
    }
   },
   "outputs": [
    {
     "data": {
      "text/plain": [
       "torch.Tensor"
      ]
     },
     "execution_count": 9,
     "metadata": {},
     "output_type": "execute_result"
    }
   ],
   "source": [
    "type(train_dataset[0][0])"
   ]
  },
  {
   "cell_type": "code",
   "execution_count": 10,
   "metadata": {
    "ExecuteTime": {
     "end_time": "2020-06-26T04:50:01.095758Z",
     "start_time": "2020-06-26T04:50:01.088776Z"
    }
   },
   "outputs": [
    {
     "data": {
      "text/plain": [
       "torch.Size([1, 28, 28])"
      ]
     },
     "execution_count": 10,
     "metadata": {},
     "output_type": "execute_result"
    }
   ],
   "source": [
    "# Input Matrix\n",
    "train_dataset[0][0].size()"
   ]
  },
  {
   "cell_type": "code",
   "execution_count": 11,
   "metadata": {
    "ExecuteTime": {
     "end_time": "2020-06-26T04:50:01.106728Z",
     "start_time": "2020-06-26T04:50:01.098752Z"
    }
   },
   "outputs": [
    {
     "data": {
      "text/plain": [
       "5"
      ]
     },
     "execution_count": 11,
     "metadata": {},
     "output_type": "execute_result"
    }
   ],
   "source": [
    "# Label\n",
    "train_dataset[0][1]"
   ]
  },
  {
   "cell_type": "markdown",
   "metadata": {},
   "source": [
    "#### Displaying MNIST"
   ]
  },
  {
   "cell_type": "code",
   "execution_count": 12,
   "metadata": {
    "ExecuteTime": {
     "end_time": "2020-06-26T04:50:01.123698Z",
     "start_time": "2020-06-26T04:50:01.110718Z"
    }
   },
   "outputs": [],
   "source": [
    "import matplotlib.pyplot as plt\n",
    "%matplotlib inline\n",
    "import numpy as np"
   ]
  },
  {
   "cell_type": "code",
   "execution_count": 13,
   "metadata": {
    "ExecuteTime": {
     "end_time": "2020-06-26T04:50:01.137646Z",
     "start_time": "2020-06-26T04:50:01.129668Z"
    }
   },
   "outputs": [
    {
     "data": {
      "text/plain": [
       "(1, 28, 28)"
      ]
     },
     "execution_count": 13,
     "metadata": {},
     "output_type": "execute_result"
    }
   ],
   "source": [
    "train_dataset[0][0].numpy().shape"
   ]
  },
  {
   "cell_type": "code",
   "execution_count": 14,
   "metadata": {
    "ExecuteTime": {
     "end_time": "2020-06-26T04:50:01.147619Z",
     "start_time": "2020-06-26T04:50:01.140639Z"
    }
   },
   "outputs": [],
   "source": [
    "show_img = train_dataset[0][0].numpy().reshape(28, 28)"
   ]
  },
  {
   "cell_type": "code",
   "execution_count": 15,
   "metadata": {
    "ExecuteTime": {
     "end_time": "2020-06-26T04:50:01.468415Z",
     "start_time": "2020-06-26T04:50:01.150612Z"
    }
   },
   "outputs": [
    {
     "data": {
      "text/plain": [
       "<matplotlib.image.AxesImage at 0x2a896eb3f88>"
      ]
     },
     "execution_count": 15,
     "metadata": {},
     "output_type": "execute_result"
    },
    {
     "data": {
      "image/png": "[encoded data removed]",
      "text/plain": [
       "<Figure size 432x288 with 1 Axes>"
      ]
     },
     "metadata": {
      "needs_background": "light"
     },
     "output_type": "display_data"
    }
   ],
   "source": [
    "plt.imshow(show_img, cmap=\"gray\")"
   ]
  },
  {
   "cell_type": "code",
   "execution_count": 16,
   "metadata": {
    "ExecuteTime": {
     "end_time": "2020-06-26T04:50:01.671088Z",
     "start_time": "2020-06-26T04:50:01.470409Z"
    }
   },
   "outputs": [
    {
     "name": "stdout",
     "output_type": "stream",
     "text": [
      "0\n"
     ]
    },
    {
     "data": {
      "image/png": "[encoded data removed]",
      "text/plain": [
       "<Figure size 432x288 with 1 Axes>"
      ]
     },
     "metadata": {
      "needs_background": "light"
     },
     "output_type": "display_data"
    }
   ],
   "source": [
    "show_img = train_dataset[1][0].numpy().reshape(28, 28)\n",
    "plt.imshow(show_img, cmap=\"gray\")\n",
    "print(train_dataset[1][1])"
   ]
  },
  {
   "cell_type": "markdown",
   "metadata": {},
   "source": [
    "### Step 1.2  Loading MNIST Test Dataset"
   ]
  },
  {
   "cell_type": "code",
   "execution_count": 17,
   "metadata": {
    "ExecuteTime": {
     "end_time": "2020-06-26T04:50:01.728443Z",
     "start_time": "2020-06-26T04:50:01.673082Z"
    }
   },
   "outputs": [],
   "source": [
    "test_dataset = dsets.MNIST(root='./data',\n",
    "                          train=False,\n",
    "                          transform = transforms.ToTensor())"
   ]
  },
  {
   "cell_type": "code",
   "execution_count": 18,
   "metadata": {
    "ExecuteTime": {
     "end_time": "2020-06-26T04:50:01.735425Z",
     "start_time": "2020-06-26T04:50:01.730439Z"
    }
   },
   "outputs": [
    {
     "data": {
      "text/plain": [
       "10000"
      ]
     },
     "execution_count": 18,
     "metadata": {},
     "output_type": "execute_result"
    }
   ],
   "source": [
    "len(test_dataset)"
   ]
  },
  {
   "cell_type": "code",
   "execution_count": 19,
   "metadata": {
    "ExecuteTime": {
     "end_time": "2020-06-26T04:50:01.745399Z",
     "start_time": "2020-06-26T04:50:01.737420Z"
    }
   },
   "outputs": [
    {
     "data": {
      "text/plain": [
       "tuple"
      ]
     },
     "execution_count": 19,
     "metadata": {},
     "output_type": "execute_result"
    }
   ],
   "source": [
    "type(test_dataset[0])"
   ]
  },
  {
   "cell_type": "code",
   "execution_count": 20,
   "metadata": {
    "ExecuteTime": {
     "end_time": "2020-06-26T04:50:01.757367Z",
     "start_time": "2020-06-26T04:50:01.748391Z"
    }
   },
   "outputs": [
    {
     "data": {
      "text/plain": [
       "torch.Size([1, 28, 28])"
      ]
     },
     "execution_count": 20,
     "metadata": {},
     "output_type": "execute_result"
    }
   ],
   "source": [
    "# Image matrix\n",
    "test_dataset[0][0].size()"
   ]
  },
  {
   "cell_type": "code",
   "execution_count": 21,
   "metadata": {
    "ExecuteTime": {
     "end_time": "2020-06-26T04:50:02.002358Z",
     "start_time": "2020-06-26T04:50:01.760358Z"
    }
   },
   "outputs": [
    {
     "data": {
      "text/plain": [
       "<matplotlib.image.AxesImage at 0x2a896f23748>"
      ]
     },
     "execution_count": 21,
     "metadata": {},
     "output_type": "execute_result"
    },
    {
     "data": {
      "image/png": "[encoded data removed]",
      "text/plain": [
       "<Figure size 432x288 with 1 Axes>"
      ]
     },
     "metadata": {
      "needs_background": "light"
     },
     "output_type": "display_data"
    }
   ],
   "source": [
    "show_img = test_dataset[0][0].numpy().reshape(28, 28)\n",
    "plt.imshow(show_img, cmap='gray')"
   ]
  },
  {
   "cell_type": "code",
   "execution_count": 22,
   "metadata": {
    "ExecuteTime": {
     "end_time": "2020-06-26T04:50:02.012849Z",
     "start_time": "2020-06-26T04:50:02.004353Z"
    }
   },
   "outputs": [
    {
     "data": {
      "text/plain": [
       "7"
      ]
     },
     "execution_count": 22,
     "metadata": {},
     "output_type": "execute_result"
    }
   ],
   "source": [
    "# label\n",
    "test_dataset[0][1]"
   ]
  },
  {
   "cell_type": "markdown",
   "metadata": {},
   "source": [
    "### Step 2. Make Dataset Iterable\n",
    "* Aim: Make the datset iterable\n",
    "* total data: 60000\n",
    "* minibatch: 100\n",
    "    * Number of examples in 1 iteration\n",
    "* tierations: 3000\n",
    "    * 1 iteration: one mini-batch forward & backward pass\n",
    "* epochs\n",
    "    * 1 epoch: running through the whole dataset once\n",
    "    * epoch : iterations / totaldata * minibatch = 3000 / 60000 * 100 = 5"
   ]
  },
  {
   "cell_type": "code",
   "execution_count": 23,
   "metadata": {
    "ExecuteTime": {
     "end_time": "2020-06-26T04:50:02.026811Z",
     "start_time": "2020-06-26T04:50:02.017835Z"
    }
   },
   "outputs": [
    {
     "data": {
      "text/plain": [
       "60000"
      ]
     },
     "execution_count": 23,
     "metadata": {},
     "output_type": "execute_result"
    }
   ],
   "source": [
    "len(train_dataset)"
   ]
  },
  {
   "cell_type": "code",
   "execution_count": 24,
   "metadata": {
    "ExecuteTime": {
     "end_time": "2020-06-26T04:50:02.034790Z",
     "start_time": "2020-06-26T04:50:02.029804Z"
    }
   },
   "outputs": [],
   "source": [
    "batch_size = 100"
   ]
  },
  {
   "cell_type": "code",
   "execution_count": 25,
   "metadata": {
    "ExecuteTime": {
     "end_time": "2020-06-26T04:50:02.041771Z",
     "start_time": "2020-06-26T04:50:02.036784Z"
    }
   },
   "outputs": [],
   "source": [
    "n_iters= 3000"
   ]
  },
  {
   "cell_type": "code",
   "execution_count": 26,
   "metadata": {
    "ExecuteTime": {
     "end_time": "2020-06-26T04:50:02.055734Z",
     "start_time": "2020-06-26T04:50:02.043766Z"
    }
   },
   "outputs": [
    {
     "data": {
      "text/plain": [
       "5"
      ]
     },
     "execution_count": 26,
     "metadata": {},
     "output_type": "execute_result"
    }
   ],
   "source": [
    "num_epochs = n_iters / (len(train_dataset) / batch_size)\n",
    "num_epochs = int(num_epochs)\n",
    "num_epochs"
   ]
  },
  {
   "cell_type": "markdown",
   "metadata": {},
   "source": [
    "#### Create Iterable Object: Training Dataset"
   ]
  },
  {
   "cell_type": "code",
   "execution_count": 27,
   "metadata": {
    "ExecuteTime": {
     "end_time": "2020-06-26T04:50:02.066703Z",
     "start_time": "2020-06-26T04:50:02.058726Z"
    }
   },
   "outputs": [],
   "source": [
    "train_loader = torch.utils.data.DataLoader(dataset=train_dataset, \n",
    "                                           batch_size=batch_size, \n",
    "                                           shuffle=True)"
   ]
  },
  {
   "cell_type": "markdown",
   "metadata": {},
   "source": [
    "#### Check Iterability"
   ]
  },
  {
   "cell_type": "code",
   "execution_count": 28,
   "metadata": {
    "ExecuteTime": {
     "end_time": "2020-06-26T04:50:02.088646Z",
     "start_time": "2020-06-26T04:50:02.069701Z"
    }
   },
   "outputs": [
    {
     "name": "stderr",
     "output_type": "stream",
     "text": [
      "C:\\Users\\seohwan\\Anaconda3\\lib\\site-packages\\ipykernel_launcher.py:2: DeprecationWarning: Using or importing the ABCs from 'collections' instead of from 'collections.abc' is deprecated since Python 3.3,and in 3.9 it will stop working\n",
      "  \n"
     ]
    },
    {
     "data": {
      "text/plain": [
       "True"
      ]
     },
     "execution_count": 28,
     "metadata": {},
     "output_type": "execute_result"
    }
   ],
   "source": [
    "import collections\n",
    "isinstance(train_loader, collections.Iterable)"
   ]
  },
  {
   "cell_type": "markdown",
   "metadata": {},
   "source": [
    "#### Create Iterable Object: Testing Dataset"
   ]
  },
  {
   "cell_type": "code",
   "execution_count": 29,
   "metadata": {
    "ExecuteTime": {
     "end_time": "2020-06-26T04:50:02.104606Z",
     "start_time": "2020-06-26T04:50:02.092635Z"
    }
   },
   "outputs": [],
   "source": [
    "test_loader = torch.utils.data.DataLoader(dataset=test_dataset, \n",
    "                                           batch_size=batch_size, \n",
    "                                           shuffle=True)"
   ]
  },
  {
   "cell_type": "markdown",
   "metadata": {},
   "source": [
    "#### Check Iterability"
   ]
  },
  {
   "cell_type": "code",
   "execution_count": 30,
   "metadata": {
    "ExecuteTime": {
     "end_time": "2020-06-26T04:50:02.116085Z",
     "start_time": "2020-06-26T04:50:02.107596Z"
    }
   },
   "outputs": [
    {
     "data": {
      "text/plain": [
       "True"
      ]
     },
     "execution_count": 30,
     "metadata": {},
     "output_type": "execute_result"
    }
   ],
   "source": [
    "import collections\n",
    "isinstance(test_loader, collections.Iterable)"
   ]
  },
  {
   "cell_type": "markdown",
   "metadata": {},
   "source": [
    "#### Main Aim: Iterate Through Dataset"
   ]
  },
  {
   "cell_type": "code",
   "execution_count": 31,
   "metadata": {
    "ExecuteTime": {
     "end_time": "2020-06-26T04:50:02.129051Z",
     "start_time": "2020-06-26T04:50:02.123065Z"
    }
   },
   "outputs": [],
   "source": [
    "img1 = np.ones((28, 28))\n",
    "img2 = np.ones((28, 28))\n",
    "lst = [img1, img2]"
   ]
  },
  {
   "cell_type": "code",
   "execution_count": 32,
   "metadata": {
    "ExecuteTime": {
     "end_time": "2020-06-26T04:50:02.138027Z",
     "start_time": "2020-06-26T04:50:02.132042Z"
    }
   },
   "outputs": [
    {
     "name": "stdout",
     "output_type": "stream",
     "text": [
      "(28, 28)\n",
      "(28, 28)\n"
     ]
    }
   ],
   "source": [
    "# Need to iterate\n",
    "# Think of numbers as the images\n",
    "for i in lst:\n",
    "    print(i.shape)"
   ]
  },
  {
   "cell_type": "markdown",
   "metadata": {
    "ExecuteTime": {
     "end_time": "2020-06-26T01:54:52.031945Z",
     "start_time": "2020-06-26T01:54:52.027957Z"
    }
   },
   "source": [
    "### Step 3. Building a Model"
   ]
  },
  {
   "cell_type": "code",
   "execution_count": 33,
   "metadata": {
    "ExecuteTime": {
     "end_time": "2020-06-26T04:50:02.151988Z",
     "start_time": "2020-06-26T04:50:02.141019Z"
    }
   },
   "outputs": [],
   "source": [
    "class LogisticRegressionModel(nn.Module):\n",
    "    def __init__(self, input_dim, output_dim):\n",
    "        super(LogisticRegressionModel, self).__init__()\n",
    "        self.linear = nn.Linear(input_dim, output_dim)\n",
    "    \n",
    "    def forward(self, x):\n",
    "        out = self.linear(x)\n",
    "        return out"
   ]
  },
  {
   "cell_type": "markdown",
   "metadata": {},
   "source": [
    "### Step 4. Instantiate Model Class\n",
    "* Input dimension: 784\n",
    "    * size of image : 2 x 28 =784\n",
    "* Output dimension: 10\n",
    "    * 0,1,2,3,4,5,6,7,8,9"
   ]
  },
  {
   "cell_type": "code",
   "execution_count": 34,
   "metadata": {
    "ExecuteTime": {
     "end_time": "2020-06-26T04:50:02.159969Z",
     "start_time": "2020-06-26T04:50:02.153983Z"
    }
   },
   "outputs": [],
   "source": [
    "input_dim = 28*28\n",
    "output_dim = 10\n",
    "\n",
    "model = LogisticRegressionModel(input_dim, output_dim)"
   ]
  },
  {
   "cell_type": "markdown",
   "metadata": {
    "ExecuteTime": {
     "end_time": "2020-06-26T02:38:25.625276Z",
     "start_time": "2020-06-26T02:38:25.620287Z"
    }
   },
   "source": [
    "### Step 5. Instantiate Loss Class\n",
    "* Logsitic Regression : Cross Entropy Loss\n",
    "    * cf : Linear Regression: MSE\n",
    "    \n",
    "* What happens in nn.CrossEntropyLoss()?\n",
    "    * Computes softmax (logistic/softmax function)\n",
    "    * Computes corss entropy<br>\n",
    "<img src=\"https://user-images.githubusercontent.com/60699771/85735864-faae4d00-b738-11ea-85a7-08460795c804.png\" align=left>"
   ]
  },
  {
   "cell_type": "code",
   "execution_count": 35,
   "metadata": {
    "ExecuteTime": {
     "end_time": "2020-06-26T04:50:02.167946Z",
     "start_time": "2020-06-26T04:50:02.161962Z"
    }
   },
   "outputs": [],
   "source": [
    "criterion = nn.CrossEntropyLoss()"
   ]
  },
  {
   "cell_type": "markdown",
   "metadata": {},
   "source": [
    "### Step4. instantiate Optimizer Class\n",
    "<img src=\"https://user-images.githubusercontent.com/60699771/85815174-b8215a80-b7a2-11ea-917f-de5c35eb9ea9.png\" align=left>"
   ]
  },
  {
   "cell_type": "code",
   "execution_count": 36,
   "metadata": {
    "ExecuteTime": {
     "end_time": "2020-06-26T04:50:02.175927Z",
     "start_time": "2020-06-26T04:50:02.169941Z"
    }
   },
   "outputs": [],
   "source": [
    "learning_rate = 0.001\n",
    "\n",
    "optimizer = torch.optim.SGD(model.parameters(), lr=learning_rate)"
   ]
  },
  {
   "cell_type": "markdown",
   "metadata": {},
   "source": [
    "#### Parameters In-Depth"
   ]
  },
  {
   "cell_type": "code",
   "execution_count": 37,
   "metadata": {
    "ExecuteTime": {
     "end_time": "2020-06-26T04:50:02.189888Z",
     "start_time": "2020-06-26T04:50:02.179914Z"
    },
    "scrolled": true
   },
   "outputs": [
    {
     "name": "stdout",
     "output_type": "stream",
     "text": [
      "<generator object Module.parameters at 0x000002A896E761C8>\n",
      "2\n",
      "torch.Size([10, 784])\n",
      "torch.Size([10])\n"
     ]
    }
   ],
   "source": [
    "print(model.parameters())\n",
    "\n",
    "print(len(list(model.parameters())))\n",
    "\n",
    "# FC 1 Parameters\n",
    "print(list(model.parameters())[0].size()) # y = ax + b 의 a를 나타낸다(10개의 label과 28x28 pixel)\n",
    "\n",
    "# FC 2 Bias Parameters\n",
    "print(list(model.parameters())[1].size()) # y = ax + b 의 b를 나타낸다(10개의 label)"
   ]
  },
  {
   "cell_type": "markdown",
   "metadata": {},
   "source": [
    "<img src=\"https://user-images.githubusercontent.com/60699771/85815951-df792700-b7a4-11ea-9a13-5777429ad902.png\" align=left>"
   ]
  },
  {
   "cell_type": "markdown",
   "metadata": {},
   "source": [
    "<img src=\"https://user-images.githubusercontent.com/60699771/85818788-8614f600-b7ac-11ea-82bf-724eafd660f2.png\" align=left>"
   ]
  },
  {
   "cell_type": "markdown",
   "metadata": {},
   "source": [
    "### Step7: Train a Model\n",
    "* process\n",
    "    1. Convert inputs/labels to variables\n",
    "    2. Clear gradient buffets\n",
    "    3. Get output given inputs\n",
    "    4. Get loss\n",
    "    5. Get gradients w.r.t parameters\n",
    "    6. Update parameters using gradients\n",
    "        * parameters = parameters - lr * parameters_gradients\n",
    "    7. Repeat"
   ]
  },
  {
   "cell_type": "code",
   "execution_count": 38,
   "metadata": {
    "ExecuteTime": {
     "end_time": "2020-06-26T04:51:00.928087Z",
     "start_time": "2020-06-26T04:50:02.191883Z"
    }
   },
   "outputs": [
    {
     "name": "stderr",
     "output_type": "stream",
     "text": [
      "..\\aten\\src\\ATen\\native\\BinaryOps.cpp:81: UserWarning: Integer division of tensors using div or / is deprecated, and in a future release div will perform true division as in Python 3. Use true_divide or floor_divide (// in Python) instead.\n"
     ]
    },
    {
     "name": "stdout",
     "output_type": "stream",
     "text": [
      "Iteration: 500. Loss: 1.8184772729873657. Accuracy: 69\n",
      "Iteration: 1000. Loss: 1.5051782131195068. Accuracy: 76\n",
      "Iteration: 1500. Loss: 1.3049179315567017. Accuracy: 79\n",
      "Iteration: 2000. Loss: 1.1729992628097534. Accuracy: 81\n",
      "Iteration: 2500. Loss: 1.0673575401306152. Accuracy: 81\n",
      "Iteration: 3000. Loss: 1.012159824371338. Accuracy: 82\n"
     ]
    }
   ],
   "source": [
    "iter = 0\n",
    "for epoch in range(num_epochs):\n",
    "    for i, (images, labels) in enumerate(train_loader):\n",
    "        # Load Images as Variable\n",
    "        images = Variable(images.view(-1, 28*28))\n",
    "        labels = Variable(labels)\n",
    "        \n",
    "        # Clear gradients w.r.t parameters\n",
    "        optimizer.zero_grad()\n",
    "        \n",
    "        # Forward pass to get output/logits\n",
    "        outputs = model.forward(images)\n",
    "        \n",
    "        # Calculate Loss: softmax -> cross entropy loss\n",
    "        loss = criterion(outputs, labels)\n",
    "        \n",
    "        # Getting Gradients w.r.t parameters\n",
    "        loss.backward()\n",
    "        \n",
    "        #Updating parameters\n",
    "        optimizer.step()\n",
    "        \n",
    "        iter += 1\n",
    "        \n",
    "        if iter % 500 == 0:\n",
    "            # Calculate Accuracy\n",
    "            correct = 0\n",
    "            total = 0\n",
    "            # Iterate through test dataset\n",
    "            for images, labels in test_loader:\n",
    "                # Load images to a Torch Variable\n",
    "                images = Variable(images.view(-1, 28*28))\n",
    "                \n",
    "                # Forward pass only to get logits/output\n",
    "                outputs = model(images)\n",
    "                \n",
    "                # Get predictions from the maximum value\n",
    "                _, predicted = torch.max(outputs.data, 1)\n",
    "                \n",
    "                # Total number of labels\n",
    "                total += labels.size(0)\n",
    "#                 print(total)\n",
    "#                 print(predicted)\n",
    "#                 print(labels)\n",
    "                # Total correct predictions\n",
    "                correct += (predicted == labels).sum()\n",
    "                \n",
    "            accuracy = 100 * correct /total\n",
    "            \n",
    "            # Print Loss\n",
    "            print('Iteration: {}. Loss: {}. Accuracy: {}'.format(iter, loss.data, accuracy))"
   ]
  },
  {
   "cell_type": "markdown",
   "metadata": {},
   "source": [
    "#### Break Down Accuracy Calculation"
   ]
  },
  {
   "cell_type": "code",
   "execution_count": 39,
   "metadata": {
    "ExecuteTime": {
     "end_time": "2020-06-26T04:51:02.216172Z",
     "start_time": "2020-06-26T04:51:00.932077Z"
    }
   },
   "outputs": [
    {
     "name": "stdout",
     "output_type": "stream",
     "text": [
      "Outputs\n",
      "tensor([[-1.7988e+00, -1.1102e-01, -1.1295e+00,  2.8129e-01,  3.3204e-01,\n",
      "         -5.5493e-02, -7.8170e-01,  2.4027e+00,  3.1097e-02,  1.0742e+00],\n",
      "        [-7.5272e-01, -1.7931e+00, -6.5636e-01, -1.1657e-02,  1.8484e-01,\n",
      "         -3.9509e-01, -1.2633e+00,  3.6706e+00, -3.2288e-01,  1.1789e+00],\n",
      "        [ 9.9005e-01, -1.2661e+00,  1.0409e+00, -2.1761e+00, -4.7016e-02,\n",
      "         -5.7940e-01,  3.6514e+00, -1.6184e+00,  2.9453e-01, -1.1624e-01],\n",
      "        [ 7.5409e-01, -3.1524e+00,  1.1327e+00, -1.0300e+00,  7.3251e-01,\n",
      "          8.0036e-03,  2.9110e+00, -1.1526e+00, -7.6327e-01, -3.8438e-01],\n",
      "        [-5.7435e-01, -1.5137e+00, -5.8235e-01,  6.5765e-01,  3.3675e-01,\n",
      "         -6.3509e-02, -1.0203e+00,  1.6730e+00, -3.2704e-01,  1.2470e+00],\n",
      "        [ 4.6114e-01, -5.3788e-01, -4.3199e-02,  2.2022e+00, -1.4012e+00,\n",
      "          8.0426e-01, -1.1935e-01, -6.8572e-01,  1.8273e-01, -1.2145e+00],\n",
      "        [-1.3312e+00,  2.4153e+00, -1.3500e-01,  3.1984e-01, -9.5408e-01,\n",
      "         -2.8131e-01, -8.4830e-01,  1.6838e-01,  1.3946e-01,  5.8567e-02],\n",
      "        [ 7.4687e-02, -2.9668e-01, -2.2555e-01,  2.0400e+00, -1.0788e+00,\n",
      "          2.9123e-01, -4.9781e-01, -1.3147e-01,  8.5608e-02, -9.3519e-01],\n",
      "        [ 3.4551e+00, -2.4257e+00,  2.2643e-01, -3.0645e-01, -4.8283e-01,\n",
      "          9.5887e-01,  1.8846e-01, -1.0976e+00,  3.8841e-01, -1.5278e+00],\n",
      "        [ 2.4329e+00, -1.9255e+00, -6.9457e-01,  3.6399e-01, -9.4445e-01,\n",
      "          1.2970e+00, -4.7218e-01, -5.9044e-01,  5.7424e-01, -7.3153e-01],\n",
      "        [ 6.3396e-01, -9.0162e-01, -1.7483e+00, -4.5557e-01, -1.2128e-01,\n",
      "          1.3503e+00, -1.0328e+00,  7.7881e-01,  5.5147e-01,  7.7485e-01],\n",
      "        [ 1.4272e-01, -1.5057e+00, -3.0896e-01,  6.7727e-01, -3.9414e-01,\n",
      "          3.4975e-01, -2.6142e-01,  5.0932e-01, -1.7076e-01,  6.3265e-01],\n",
      "        [-6.4669e-01, -1.8696e-02, -6.7390e-01,  6.9480e-02,  6.7665e-01,\n",
      "          2.7555e-01, -1.7035e-01,  6.2408e-01,  4.8749e-02,  2.2885e-01],\n",
      "        [-8.4586e-01, -7.3196e-01, -1.0111e+00,  1.5986e-01,  5.6339e-01,\n",
      "          5.4046e-01, -2.2773e-01,  1.7919e-01,  2.4408e-01,  1.5431e+00],\n",
      "        [-1.2666e+00,  2.8669e+00, -4.1805e-02,  4.4158e-02, -1.2352e+00,\n",
      "         -1.9706e-01, -3.6431e-01, -2.2523e-01,  4.1950e-01, -3.1131e-01],\n",
      "        [ 1.2504e+00, -2.4085e+00, -6.9544e-01, -3.4705e-01,  9.0836e-02,\n",
      "          2.2367e+00, -1.2293e+00, -1.3038e+00,  1.3755e+00,  4.1126e-01],\n",
      "        [-4.4673e-02, -8.8412e-01, -1.0237e+00, -4.4097e-02,  4.4414e-01,\n",
      "          1.1145e+00,  6.6567e-01, -9.2165e-01,  4.9978e-02,  3.0393e-01],\n",
      "        [ 2.7270e+00, -1.5728e+00,  2.4617e-04,  8.2800e-02, -4.3295e-01,\n",
      "          1.1442e+00,  3.0024e-01, -1.1117e+00, -2.9115e-01, -1.4472e+00],\n",
      "        [-4.7266e-02, -1.9651e+00,  2.1786e+00, -1.2972e+00,  3.3990e-01,\n",
      "         -1.1251e+00,  4.7274e-01, -1.2751e-01, -6.3069e-02,  4.2154e-01],\n",
      "        [ 2.6462e+00, -3.3203e+00, -2.7677e-01,  3.0685e-01, -7.0772e-01,\n",
      "          6.1647e-01,  5.9291e-02, -1.8699e-01,  1.3014e-01, -1.3194e-01],\n",
      "        [-1.6566e+00,  4.1318e-01, -8.3214e-01,  5.4441e-02,  4.8639e-01,\n",
      "          6.0214e-03, -8.1952e-01,  1.1818e+00,  2.2451e-01,  7.1785e-01],\n",
      "        [-1.7487e+00,  4.9705e-01, -1.1994e+00,  1.0088e-01,  3.0913e-01,\n",
      "          1.4338e-01, -5.5090e-01,  2.3720e-01,  5.1877e-01,  1.4184e+00],\n",
      "        [-1.3996e+00,  2.5255e+00,  1.1157e+00, -6.2141e-02, -7.8083e-01,\n",
      "         -5.6234e-01, -4.7926e-01, -7.2087e-01,  8.9169e-01, -8.0643e-01],\n",
      "        [ 1.8103e-01,  6.0271e-01, -4.2686e-01,  6.0671e-01, -1.7524e+00,\n",
      "          1.5505e+00, -1.5024e+00, -5.4815e-01,  1.2961e+00, -5.9536e-01],\n",
      "        [-3.8413e-01, -1.3824e+00, -1.2170e+00, -2.2791e-01,  7.3256e-01,\n",
      "          7.2600e-01, -4.4944e-01,  5.7211e-01,  2.2001e-01,  1.2485e+00],\n",
      "        [ 1.5495e+00, -1.3442e+00, -5.5478e-01,  4.6499e-02, -2.6799e-01,\n",
      "          1.4134e+00, -7.3811e-02, -7.0066e-01,  2.8285e-01, -7.6406e-01],\n",
      "        [-8.9379e-01, -9.2762e-01, -4.6037e-01,  5.1465e-01, -2.0701e-02,\n",
      "         -7.4125e-02, -7.5884e-01,  1.8920e+00, -1.2291e-01,  1.0122e+00],\n",
      "        [-1.4475e+00, -1.5614e+00, -2.9435e-01,  4.7023e-01,  6.2977e-01,\n",
      "          6.5300e-01, -7.8756e-01, -1.5709e-01,  1.6468e+00,  3.1362e-01],\n",
      "        [-1.4287e+00,  4.1255e-01,  5.1635e-01, -3.7843e-01, -1.4456e-01,\n",
      "         -1.0523e-01,  2.2165e+00, -1.1874e+00,  2.1035e-01, -3.6503e-01],\n",
      "        [-6.1109e-01, -5.4247e-01, -8.1288e-01,  2.5597e+00, -6.5044e-01,\n",
      "          1.0128e+00,  1.6237e-01, -5.3906e-01,  4.0276e-02, -8.4912e-01],\n",
      "        [-9.9879e-01, -7.8315e-02,  4.7862e-01,  5.6161e-01, -7.6982e-01,\n",
      "          4.3268e-01, -4.2792e-01, -1.3417e+00,  1.9577e+00, -5.8384e-01],\n",
      "        [-1.0532e+00,  2.6428e+00, -1.6501e-01,  8.7891e-02, -1.4651e+00,\n",
      "         -8.0220e-02, -3.4715e-01, -8.3882e-02,  3.6465e-01, -1.9448e-01],\n",
      "        [-1.4475e+00, -1.7029e+00, -1.0260e+00, -6.1039e-01,  1.9344e+00,\n",
      "          3.3355e-01, -4.8576e-01,  9.4968e-01,  4.6597e-01,  1.5413e+00],\n",
      "        [-2.0232e+00,  2.3901e+00, -2.0178e-01,  4.6836e-01, -8.7402e-01,\n",
      "         -2.0920e-01, -1.2626e-01, -1.8414e-01,  2.5448e-01,  2.6106e-02],\n",
      "        [-9.3828e-01, -5.2565e-01, -5.6647e-01, -3.6296e-01,  5.3077e-01,\n",
      "          3.6995e-01, -3.2162e-01,  1.1491e-01,  8.3250e-01,  8.7350e-01],\n",
      "        [-5.9800e-01, -1.6809e+00, -1.4245e-01, -1.8318e+00,  2.2970e+00,\n",
      "         -6.4447e-01,  2.2181e-02,  1.0998e+00,  1.2147e-01,  1.1687e+00],\n",
      "        [-1.6057e+00, -2.3671e+00, -3.1370e-02, -7.6852e-02,  2.1732e+00,\n",
      "         -3.6226e-01,  2.4996e-01, -1.7914e-01,  1.4780e-01,  1.2144e+00],\n",
      "        [ 1.2124e+00, -1.3917e+00, -1.3367e-02,  3.2327e-01, -9.2350e-01,\n",
      "          8.6502e-01,  1.0623e+00, -1.1543e+00,  5.0741e-01, -8.8440e-01],\n",
      "        [-8.3045e-01,  1.0248e+00,  8.2863e-01,  8.6938e-01, -1.3106e+00,\n",
      "          1.6589e-01, -1.5336e-01, -1.7077e+00,  1.2274e+00, -9.3184e-01],\n",
      "        [-5.3641e-01, -2.5710e-01, -5.0287e-01,  2.6662e+00, -9.1233e-01,\n",
      "          1.1524e+00, -3.4122e-01, -1.0645e+00,  2.0050e-01, -7.4539e-01],\n",
      "        [-6.1082e-01, -2.1859e+00, -1.4267e+00, -7.3591e-01,  1.7339e+00,\n",
      "          2.2864e-01, -1.8944e-01,  5.7939e-01,  1.7444e-03,  1.9288e+00],\n",
      "        [-8.0535e-03, -1.5712e+00,  2.4687e+00,  6.4674e-01,  5.2447e-01,\n",
      "         -4.9777e-01,  4.0525e-01, -5.4879e-01, -5.3266e-01, -1.0367e+00],\n",
      "        [-1.3189e+00, -1.0369e+00, -4.3341e-01, -3.1503e-01,  2.3440e-01,\n",
      "         -6.1564e-01, -1.2877e+00,  3.0583e+00, -1.5157e-01,  1.4070e+00],\n",
      "        [ 2.9752e+00, -2.4138e+00, -1.1005e+00,  2.0451e-02, -5.1849e-01,\n",
      "          1.4402e+00, -4.3078e-01, -2.0586e-01, -4.3376e-01, -4.4295e-01],\n",
      "        [ 4.7465e-01,  6.1381e-01, -1.3306e-01, -5.6160e-01, -1.0116e+00,\n",
      "          1.2812e+00, -4.2140e-01, -2.3670e-01,  3.9895e-01, -5.2070e-01],\n",
      "        [ 7.2440e-01, -1.1832e-01,  5.9129e-01,  2.4598e+00, -2.3177e+00,\n",
      "          1.1942e+00, -4.1848e-01, -9.4681e-01,  3.8087e-01, -1.9549e+00],\n",
      "        [ 1.2252e+00, -1.1519e+00,  2.7861e-01, -4.5202e-01,  7.2468e-01,\n",
      "          6.4339e-01,  1.2795e+00, -8.4947e-01, -6.6652e-01, -5.6518e-01],\n",
      "        [-8.5996e-01, -8.3668e-01,  2.6061e-01, -6.1858e-01,  1.7921e+00,\n",
      "         -1.1468e+00,  5.5029e-01,  1.6325e-01, -4.3724e-01,  7.0388e-01],\n",
      "        [-9.3488e-02, -4.8708e-01,  3.6645e-01,  1.5869e+00, -1.3274e+00,\n",
      "          8.2615e-01, -4.0298e-01, -8.1813e-01,  6.6789e-01, -5.7626e-01],\n",
      "        [-8.1454e-01, -2.6451e-01, -3.9487e-01,  3.1022e+00, -1.1853e+00,\n",
      "          4.3026e-01, -1.2596e+00, -5.8976e-02,  7.2383e-02, -5.1803e-01],\n",
      "        [ 1.0244e+00, -2.0719e+00, -1.2982e-01,  3.3979e-01, -7.7875e-01,\n",
      "          5.9899e-01,  1.1228e+00, -4.3259e-01,  2.6752e-01, -1.1111e-01],\n",
      "        [-7.5365e-02, -7.4690e-01, -5.1274e-01,  9.8608e-01, -3.9657e-01,\n",
      "          1.1178e+00, -6.3785e-01, -7.7977e-01,  3.4490e-01, -2.5178e-01],\n",
      "        [-1.7168e-01, -9.7716e-01, -8.1431e-01, -5.6490e-02,  2.9652e-01,\n",
      "          7.4063e-02, -4.4299e-01,  1.4271e+00, -1.5650e-01,  6.3105e-01],\n",
      "        [-4.8103e-02, -1.8781e+00,  7.5046e-01,  3.3965e-01, -4.7982e-01,\n",
      "          5.5292e-01,  1.1711e+00, -2.1061e+00,  1.8999e+00, -7.1640e-01],\n",
      "        [-1.0675e+00, -1.3204e+00, -5.3847e-01, -1.2615e-02,  4.4712e-01,\n",
      "         -4.1259e-01, -9.9984e-01,  3.0332e+00, -2.1529e-01,  1.0844e+00],\n",
      "        [-9.4233e-01, -7.9688e-01, -2.5486e-01, -2.2888e-01, -4.5773e-02,\n",
      "          1.2871e-01, -1.4298e+00,  6.0307e-01,  1.3240e+00,  7.7929e-01],\n",
      "        [-9.2198e-01, -1.1939e+00,  1.2765e+00,  2.5896e+00, -3.3110e-01,\n",
      "          3.5836e-01, -1.1976e+00, -1.5172e+00,  1.5569e+00, -9.4730e-01],\n",
      "        [ 8.3978e-01,  1.7956e-02,  3.6375e-01,  1.9769e+00, -1.4793e+00,\n",
      "          5.8169e-01, -1.7991e-01, -8.0321e-01,  5.1651e-01, -1.5539e+00],\n",
      "        [ 3.6413e+00, -2.9642e+00,  3.7564e-01, -2.2236e+00, -5.6798e-01,\n",
      "         -4.0434e-01,  1.6347e+00,  3.2243e-01, -6.3940e-01,  4.1057e-02],\n",
      "        [-2.0015e-01,  2.9440e-01,  1.5798e+00,  8.0507e-01, -1.2490e+00,\n",
      "          9.0141e-02,  4.8305e-01, -1.2725e+00,  4.8833e-01, -1.3845e+00],\n",
      "        [-1.4339e+00,  6.9803e-02, -1.6405e-01,  5.5359e-01, -2.5906e-01,\n",
      "         -3.5662e-01, -9.4498e-01,  1.5494e+00,  6.3177e-02,  5.7672e-01],\n",
      "        [ 6.7746e-01, -2.1969e+00, -9.0069e-01,  6.0749e-01, -6.5129e-01,\n",
      "          2.2780e+00, -4.5300e-01, -6.3004e-01,  7.7774e-01,  1.2508e-01],\n",
      "        [ 5.9407e-01,  7.1677e-01,  3.4201e-01,  1.5936e-01, -1.5138e+00,\n",
      "          1.3438e+00, -3.6612e-01, -1.1060e+00,  1.0011e+00, -1.3344e+00],\n",
      "        [-6.2240e-01,  1.0453e+00,  6.5716e-01, -1.9974e-03, -2.6623e-01,\n",
      "         -9.6322e-02, -4.1578e-01, -7.1306e-01,  6.6142e-01, -2.7735e-01],\n",
      "        [ 2.7104e-01, -1.2836e+00, -3.5224e-01,  1.3919e+00, -7.0387e-01,\n",
      "          8.2580e-01, -6.5174e-02, -1.4940e+00,  7.6924e-01,  3.9715e-02],\n",
      "        [ 6.5709e-01, -2.8713e-01,  1.4635e+00,  2.1688e+00, -2.0411e+00,\n",
      "          6.5681e-01, -3.7778e-01, -1.5421e+00,  7.2964e-01, -1.8464e+00],\n",
      "        [ 1.5207e+00, -2.4026e+00,  7.3083e-01,  1.0198e-01, -1.5252e+00,\n",
      "          6.2311e-01,  6.6014e-01, -7.9480e-01,  7.1785e-01, -4.1684e-01],\n",
      "        [ 2.2005e+00, -2.4959e+00,  2.2472e-01,  2.7825e-01, -1.1431e+00,\n",
      "          6.8897e-01,  7.1457e-01, -1.3257e+00,  8.2708e-01, -6.3743e-01],\n",
      "        [-3.9000e-01, -2.9876e-01, -8.8027e-01,  1.6928e+00, -9.9424e-01,\n",
      "          9.8126e-01, -3.2958e-01, -9.7987e-02,  3.6675e-01, -4.7919e-01],\n",
      "        [ 1.0865e+00, -1.2350e+00,  1.5789e+00, -1.1210e+00, -1.0406e+00,\n",
      "          3.4145e-02,  4.2458e-01,  3.3198e-02,  1.8161e-01, -2.8732e-01],\n",
      "        [-8.0777e-01,  1.3316e+00,  9.1881e-01, -1.2718e-01, -2.5635e-01,\n",
      "         -2.3608e-01, -4.0482e-01, -9.8034e-01,  8.7261e-01, -4.4200e-01],\n",
      "        [ 1.3683e+00, -1.6446e+00,  1.2435e+00, -1.0417e+00,  2.7030e-01,\n",
      "         -1.3612e+00,  1.4590e+00, -1.7697e-01, -7.1767e-01, -4.0468e-01],\n",
      "        [ 1.5069e-02, -1.0908e+00,  4.3761e-01, -1.1996e+00, -1.5525e-01,\n",
      "         -7.2083e-01, -7.9291e-01,  2.5724e+00,  2.6804e-01,  5.2610e-01],\n",
      "        [ 2.7315e-01, -2.9931e-01,  8.7277e-01, -1.5823e-01,  1.3687e-01,\n",
      "         -6.4065e-01,  4.0366e-01,  2.3706e-01, -3.2273e-01, -6.4052e-01],\n",
      "        [ 4.0999e+00, -3.3838e+00,  1.2283e+00, -1.1151e+00, -1.0821e+00,\n",
      "          5.7544e-01,  1.0102e+00, -1.0821e+00, -1.4131e-01, -1.3643e+00],\n",
      "        [-1.3439e+00,  3.2206e-01, -1.0238e+00, -1.4065e-01, -7.7310e-02,\n",
      "         -1.9854e-01, -1.0694e+00,  2.1403e+00, -1.3115e-01,  1.2076e+00],\n",
      "        [ 4.2429e+00, -2.5473e+00, -5.6556e-01, -1.1788e+00, -8.0160e-01,\n",
      "          9.3478e-01,  6.6832e-01, -5.2818e-02, -6.2318e-01, -6.9432e-01],\n",
      "        [-2.2064e-01,  5.2759e-01,  2.4260e-01,  1.5686e+00, -1.0291e+00,\n",
      "          5.2498e-01, -1.2546e+00, -6.2540e-01,  6.5384e-01, -9.8365e-01],\n",
      "        [ 3.1541e+00, -3.0734e+00,  8.9560e-01,  8.8206e-02, -1.1022e+00,\n",
      "          3.0549e-01,  7.2321e-01, -1.2326e+00,  3.0401e-01, -1.1014e+00],\n",
      "        [-9.6450e-02, -1.9691e-01,  7.8998e-01, -1.3799e+00, -2.5269e-01,\n",
      "          3.4848e-01, -3.5775e-01, -6.8813e-01,  1.5428e+00, -1.1295e-01],\n",
      "        [ 1.1576e-01, -1.3334e-01,  4.1832e-02,  1.9067e+00, -1.1136e+00,\n",
      "          7.9750e-01, -3.2196e-01, -6.4736e-01,  4.9281e-02, -9.4482e-01],\n",
      "        [-2.0199e+00, -8.1563e-01, -1.3766e+00,  3.1903e-01,  1.8856e+00,\n",
      "          1.7680e-01, -2.5875e-01,  1.8292e-01,  8.2619e-02,  1.5957e+00],\n",
      "        [-3.4408e-01, -3.8530e-01, -7.7460e-01,  2.4365e+00, -6.9293e-01,\n",
      "          1.0419e+00, -1.3308e+00, -4.0335e-01,  8.1857e-01, -3.9842e-01],\n",
      "        [-7.5247e-01,  1.9201e+00,  2.2227e-01,  1.7101e-01, -7.2800e-01,\n",
      "         -2.3121e-01, -2.7162e-01, -1.6102e-01,  5.9981e-02, -2.8224e-01],\n",
      "        [-1.7382e+00,  2.9299e+00,  1.4162e-02,  2.2916e-01, -1.2690e+00,\n",
      "         -1.5291e-01, -1.1388e-01, -7.4363e-01,  5.0343e-01, -2.7073e-01],\n",
      "        [-3.9197e-02, -7.5228e-01,  1.3981e+00, -1.3160e+00,  4.5671e-01,\n",
      "         -9.7892e-01,  2.1111e+00, -9.6502e-01,  5.9455e-02, -3.5941e-01],\n",
      "        [ 1.8140e+00, -1.1839e+00,  6.7389e-01,  7.5951e-01, -9.0117e-01,\n",
      "          9.3949e-01, -1.3615e+00, -8.9283e-01,  8.2770e-01, -1.1449e+00],\n",
      "        [ 2.2507e+00, -2.1721e+00, -4.9144e-01,  3.2424e-01, -8.0972e-01,\n",
      "          7.7182e-01, -1.3437e-01, -9.9976e-01,  5.4857e-01, -8.4609e-03],\n",
      "        [-1.2979e+00,  3.0739e+00,  2.1214e-01,  2.5900e-01, -1.5202e+00,\n",
      "         -2.5663e-01, -5.2182e-01, -5.9777e-01,  8.7247e-01, -5.1476e-01],\n",
      "        [-1.2860e+00,  1.2738e+00,  6.9803e-02, -2.9618e-01, -5.7546e-01,\n",
      "         -7.7287e-01, -1.3880e+00,  1.5136e+00,  5.4123e-01,  6.5637e-01],\n",
      "        [-6.7051e-01, -9.9359e-01,  1.8272e-01,  1.3844e+00, -3.6173e-02,\n",
      "         -6.1782e-02, -1.4845e+00, -4.9804e-01,  9.2691e-01,  7.1298e-01],\n",
      "        [-3.3590e-01, -2.4696e+00,  8.5703e-01, -7.0294e-01,  1.1873e+00,\n",
      "         -3.6148e-01,  2.3810e+00, -2.3818e-01, -8.2302e-01,  1.4202e-01],\n",
      "        [-1.8514e+00, -2.6081e-01,  1.7329e-01,  3.5757e-01, -8.6321e-02,\n",
      "          3.6429e-02, -9.5104e-01, -1.5048e-01,  2.1167e+00,  2.1742e-03],\n",
      "        [-6.7054e-01, -1.2411e+00, -8.3469e-01, -1.0966e+00,  1.9895e+00,\n",
      "          2.7866e-01,  1.7501e-02,  6.4108e-01,  2.8255e-01,  9.2709e-01],\n",
      "        [-1.1634e+00,  6.5725e-02,  3.1833e+00, -4.6389e-01,  1.2402e-01,\n",
      "         -1.3641e+00,  6.7154e-01, -1.6505e+00,  2.3147e-01, -6.4010e-01],\n",
      "        [-1.4421e+00, -1.6032e+00, -1.0090e+00,  4.0282e-01,  1.0732e+00,\n",
      "          2.9198e-01, -5.5011e-01, -1.4221e-01,  5.7607e-01,  1.9662e+00],\n",
      "        [-2.5003e+00,  5.3592e-01,  1.6013e+00,  1.9258e-01,  1.0233e-01,\n",
      "         -1.0116e+00,  6.6054e-01,  5.4770e-01, -5.3078e-01, -1.1915e-01],\n",
      "        [ 4.1105e-01, -9.2284e-01,  2.5837e+00, -6.4446e-01, -4.7272e-01,\n",
      "         -6.0223e-01,  3.0402e-01, -1.2120e+00,  4.8926e-01, -5.8377e-01],\n",
      "        [-1.4509e+00,  7.3493e-01,  3.3331e-01, -5.3949e-01,  2.6353e-01,\n",
      "         -6.0884e-01, -9.7952e-01,  5.0298e-01,  6.0471e-01,  8.3751e-01],\n",
      "        [-1.1301e+00,  3.0547e-01,  1.7040e+00,  9.4910e-01, -7.2627e-01,\n",
      "         -3.4181e-01, -9.9832e-01, -6.8297e-01,  1.6194e+00, -1.2356e+00]],\n",
      "       grad_fn=<AddmmBackward>)\n",
      "torch.Size([100, 10])\n"
     ]
    }
   ],
   "source": [
    "iter_test = 0\n",
    "for images, labels in test_loader:\n",
    "    iter_test += 1\n",
    "    images = Variable(images.view(-1, 28*28))\n",
    "    outputs = model.forward(images)\n",
    "    if iter_test == 1:\n",
    "        print(\"Outputs\")\n",
    "        print(outputs)\n",
    "        print(outputs.size()) #mini_barch가 100이기에 100,10으로 나온다. 100개의 이미지가 10개의 label을 예측\n",
    "    _, predicted = torch.max(outputs.data, 1)"
   ]
  },
  {
   "cell_type": "code",
   "execution_count": 40,
   "metadata": {
    "ExecuteTime": {
     "end_time": "2020-06-26T04:51:03.704212Z",
     "start_time": "2020-06-26T04:51:02.218167Z"
    }
   },
   "outputs": [
    {
     "name": "stdout",
     "output_type": "stream",
     "text": [
      "Outputs\n",
      "tensor([ 2.9971, -1.6100, -0.2586, -1.2217, -0.7300,  0.4560,  0.2920,  0.7110,\n",
      "        -0.2625, -0.0081], grad_fn=<SliceBackward>)\n"
     ]
    }
   ],
   "source": [
    "iter_test = 0\n",
    "for images, labels in test_loader:\n",
    "    iter_test += 1\n",
    "    images = Variable(images.view(-1, 28*28))\n",
    "    outputs = model.forward(images)\n",
    "    if iter_test == 1:\n",
    "        print(\"Outputs\")\n",
    "        print(outputs[0, :]) # 7이 가장 높으므로 7이라고 예측한다.\n",
    "    _, predicted = torch.max(outputs.data, 1)"
   ]
  },
  {
   "cell_type": "code",
   "execution_count": 42,
   "metadata": {
    "ExecuteTime": {
     "end_time": "2020-06-26T04:53:21.056058Z",
     "start_time": "2020-06-26T04:53:19.268300Z"
    }
   },
   "outputs": [
    {
     "name": "stdout",
     "output_type": "stream",
     "text": [
      "PREDICTION\n",
      "Label Size\n",
      "torch.Size([100])\n",
      "Label for image 0\n",
      "tensor(2)\n"
     ]
    }
   ],
   "source": [
    "iter_test = 0\n",
    "for images, labels in test_loader:\n",
    "    iter_test += 1\n",
    "    images = Variable(images.view(-1, 28*28))\n",
    "    outputs = model.forward(images)\n",
    "    _, predicted = torch.max(outputs.data, 1)\n",
    "    if iter_test == 1:\n",
    "        print(\"PREDICTION\")\n",
    "#         print(predicted[0,:])\n",
    "        \n",
    "        print(\"Label Size\")\n",
    "        print(predicted.size())\n",
    "        \n",
    "        print('Label for image 0')\n",
    "        print(labels[0])"
   ]
  },
  {
   "cell_type": "code",
   "execution_count": 43,
   "metadata": {
    "ExecuteTime": {
     "end_time": "2020-06-26T04:56:34.129089Z",
     "start_time": "2020-06-26T04:56:34.121110Z"
    }
   },
   "outputs": [
    {
     "name": "stdout",
     "output_type": "stream",
     "text": [
      "[1. 1. 1. 1. 1. 1. 1. 1. 1. 1.]\n",
      "[1. 1. 1. 1. 1. 1. 1. 1. 1. 1.]\n",
      "[ True  True  True  True  True  True  True  True  True  True]\n",
      "10\n"
     ]
    }
   ],
   "source": [
    "import numpy as np\n",
    "a = np.ones((10))\n",
    "print(a)\n",
    "b = np.ones((10))\n",
    "print(b)\n",
    "\n",
    "print(a == b)\n",
    "print((a == b).sum())"
   ]
  },
  {
   "cell_type": "markdown",
   "metadata": {},
   "source": [
    "## 4. Saving Model"
   ]
  },
  {
   "cell_type": "code",
   "execution_count": 44,
   "metadata": {
    "ExecuteTime": {
     "end_time": "2020-06-26T04:58:04.389684Z",
     "start_time": "2020-06-26T04:58:04.373728Z"
    }
   },
   "outputs": [],
   "source": [
    "save_model = True\n",
    "if save_model == True:\n",
    "    # Saves only parameters\n",
    "    torch.save(model.state_dict(), 'logsitic_regression_model.pkl')"
   ]
  }
 ],
 "metadata": {
  "kernelspec": {
   "display_name": "Python 3",
   "language": "python",
   "name": "python3"
  },
  "language_info": {
   "codemirror_mode": {
    "name": "ipython",
    "version": 3
   },
   "file_extension": ".py",
   "mimetype": "text/x-python",
   "name": "python",
   "nbconvert_exporter": "python",
   "pygments_lexer": "ipython3",
   "version": "3.7.6"
  }
 },
 "nbformat": 4,
 "nbformat_minor": 4
}
