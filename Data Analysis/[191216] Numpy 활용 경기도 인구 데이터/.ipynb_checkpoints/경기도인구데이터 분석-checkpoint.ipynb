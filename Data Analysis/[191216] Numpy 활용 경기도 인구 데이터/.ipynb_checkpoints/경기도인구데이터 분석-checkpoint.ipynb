{
 "cells": [
  {
   "cell_type": "code",
   "execution_count": 368,
   "metadata": {
    "scrolled": false
   },
   "outputs": [
    {
     "data": {
      "text/plain": [
       "array([('수원시장안구', 287474, 285803, 290798, 293692, 290999, 291757, 300908, 301196, 299016, 296479, 293828),\n",
       "       ('수원시권선구', 310553, 308177, 304097, 306783, 321176, 332633, 331773, 339835, 351053, 358393, 365653),\n",
       "       ('수원시팔달구', 216945, 213235, 219833, 216503, 209772, 206794, 204805, 203479, 199180, 198515, 193311),\n",
       "       ('수원시영통구', 252730, 260210, 258421, 260557, 266542, 289074, 310671, 329718, 335375, 340654, 349836),\n",
       "       ('성남시수정구', 256744, 248452, 242161, 241070, 236123, 233997, 228167, 223539, 219531, 232841, 236932)],\n",
       "      dtype=[('구분', 'O'), ('year_2007', '<i4'), ('year_2008', '<i4'), ('year_2009', '<i4'), ('year_2010', '<i4'), ('year_2011', '<i4'), ('year_2012', '<i4'), ('year_2013', '<i4'), ('year_2014', '<i4'), ('year_2015', '<i4'), ('year_2016', '<i4'), ('year_2017', '<i4')])"
      ]
     },
     "execution_count": 368,
     "metadata": {},
     "output_type": "execute_result"
    }
   ],
   "source": [
    "import numpy as np\n",
    "\n",
    "data = np.loadtxt(\"경기도인구데이터.csv\", delimiter=\",\", skiprows=1, dtype={'names': (\n",
    "    \"구분\", \"year_2007\", \"year_2008\", \"year_2009\", \"year_2010\", \"year_2011\", \"year_2012\", \"year_2013\", \"year_2014\", \"year_2015\", \"year_2016\", \"year_2017\"),\n",
    "    'formats' : (object ,np.int, np.int, np.int, np.int, np.int, np.int, np.int, np.int, np.int, np.int, np.int)\n",
    "})\n",
    "data[:5]"
   ]
  },
  {
   "cell_type": "code",
   "execution_count": 386,
   "metadata": {},
   "outputs": [
    {
     "name": "stdout",
     "output_type": "stream",
     "text": [
      "상위 5개 데이터 :\n",
      " [('수원시장안구', 287474, 285803, 290798, 293692, 290999, 291757, 300908, 301196, 299016, 296479, 293828)\n",
      " ('수원시권선구', 310553, 308177, 304097, 306783, 321176, 332633, 331773, 339835, 351053, 358393, 365653)\n",
      " ('수원시팔달구', 216945, 213235, 219833, 216503, 209772, 206794, 204805, 203479, 199180, 198515, 193311)\n",
      " ('수원시영통구', 252730, 260210, 258421, 260557, 266542, 289074, 310671, 329718, 335375, 340654, 349836)\n",
      " ('성남시수정구', 256744, 248452, 242161, 241070, 236123, 233997, 228167, 223539, 219531, 232841, 236932)]\n"
     ]
    }
   ],
   "source": [
    "# 1. 파일 내용을 읽은 후 상위 5개 데이터 확인\n",
    "print(\"상위 5개 데이터 :\\n\", data[:5])"
   ]
  },
  {
   "cell_type": "code",
   "execution_count": 387,
   "metadata": {},
   "outputs": [
    {
     "name": "stdout",
     "output_type": "stream",
     "text": [
      "입력된 배열 객체의 크기 : (44,)\n"
     ]
    }
   ],
   "source": [
    "# 2. 배열 객체의 크기 확인\n",
    "print(\"입력된 배열 객체의 크기 :\", data.shape)"
   ]
  },
  {
   "cell_type": "code",
   "execution_count": 371,
   "metadata": {},
   "outputs": [
    {
     "name": "stdout",
     "output_type": "stream",
     "text": [
      "중복지역 없음\n"
     ]
    },
    {
     "name": "stderr",
     "output_type": "stream",
     "text": [
      "C:\\Users\\student\\Anaconda3\\lib\\site-packages\\ipykernel_launcher.py:5: DeprecationWarning: The truth value of an empty array is ambiguous. Returning False, but in future this will result in an error. Use `array.size > 0` to check that an array is not empty.\n",
      "  \"\"\"\n"
     ]
    }
   ],
   "source": [
    "# 3. 중복 지역 존재 여부 확인\n",
    "dup_region = data['구분']\n",
    "\n",
    "u, indices = np.unique(dup_region, return_inverse=True)\n",
    "if u[np.bincount(indices) > 1]:\n",
    "    print(\"중복지역 발생\")\n",
    "else:\n",
    "    print(\"중복지역 없음\")"
   ]
  },
  {
   "cell_type": "code",
   "execution_count": 372,
   "metadata": {},
   "outputs": [
    {
     "name": "stdout",
     "output_type": "stream",
     "text": [
      "2017년 수원시 인구의 합 : 1202628\n"
     ]
    }
   ],
   "source": [
    "# 4. 2017년 수원시 인구의 합\n",
    "import re\n",
    "\n",
    "total_population_suwon_2017 = 0\n",
    "pattern = r\"수원시\"\n",
    "for i in range(data.size):\n",
    "    if re.match(pattern, data['구분'][i]):\n",
    "        total_population_suwon_2017 = total_population_suwon_2017 + data['year_2017'][i]\n",
    "\n",
    "print(\"2017년 수원시 인구의 합 :\", total_population_suwon_2017)"
   ]
  },
  {
   "cell_type": "code",
   "execution_count": 388,
   "metadata": {},
   "outputs": [
    {
     "name": "stdout",
     "output_type": "stream",
     "text": [
      "2017년 인구 50만 이상 지역 : ['성남시분당구', '남양주시', '화성시']\n"
     ]
    }
   ],
   "source": [
    "# 5. 2017년 인구가 50만이상이 지역 출력\n",
    "fifethousand_region_2017 = []\n",
    "for i in range(data.size):\n",
    "    if data[\"year_2017\"][i] > 500000:\n",
    "        fifethousand_region_2017.append(data[\"구분\"][i])\n",
    "print(\"2017년 인구 50만 이상 지역 :\", fifethousand_region_2017)"
   ]
  },
  {
   "cell_type": "markdown",
   "metadata": {},
   "source": [
    "import re\n",
    "pattern = r\"ca\"\n",
    "text = \"caabsacasca\"\n",
    "repatter = re.compile(pattern)\n",
    "matchOB = repatter.match(text)\n",
    "print(matchOB.group())"
   ]
  },
  {
   "cell_type": "code",
   "execution_count": 384,
   "metadata": {},
   "outputs": [
    {
     "name": "stdout",
     "output_type": "stream",
     "text": [
      "경기도 지역별 평균 인구수 : 292558.0227272727\n"
     ]
    }
   ],
   "source": [
    "# 6. 2017년 경기도 전체 인구의 시별 인구 평균\n",
    "total_popuation_gyeongi_2017 = data['year_2017'].sum() / data.size\n",
    "\n",
    "print(\"경기도 지역별 평균 인구수 :\", total_popuation_gyeongi_2017)"
   ]
  },
  {
   "cell_type": "code",
   "execution_count": 379,
   "metadata": {
    "scrolled": true
   },
   "outputs": [
    {
     "name": "stdout",
     "output_type": "stream",
     "text": [
      "['고양시', '과천시', '광명시', '광주시', '구리시', '군포시', '김포시', '남양주시', '동두천시', '부천시', '성남시', '수원시', '시흥시', '안산시', '안성시', '안양시', '양주시', '여주시', '오산시', '용인시', '의왕시', '의정부시', '이천시', '파주시', '평택시', '포천시', '하남시', '화성시']\n"
     ]
    },
    {
     "ename": "IndexError",
     "evalue": "list index out of range",
     "output_type": "error",
     "traceback": [
      "\u001b[1;31m---------------------------------------------------------------------------\u001b[0m",
      "\u001b[1;31mIndexError\u001b[0m                                Traceback (most recent call last)",
      "\u001b[1;32m<ipython-input-379-d5167b67b39d>\u001b[0m in \u001b[0;36m<module>\u001b[1;34m\u001b[0m\n\u001b[0;32m     22\u001b[0m     \u001b[1;32mfor\u001b[0m \u001b[0mj\u001b[0m \u001b[1;32min\u001b[0m \u001b[0mrange\u001b[0m\u001b[1;33m(\u001b[0m\u001b[0mcity_length\u001b[0m\u001b[1;33m)\u001b[0m\u001b[1;33m:\u001b[0m\u001b[1;33m\u001b[0m\u001b[1;33m\u001b[0m\u001b[0m\n\u001b[0;32m     23\u001b[0m         \u001b[1;32mif\u001b[0m \u001b[0mcity\u001b[0m\u001b[1;33m[\u001b[0m\u001b[0mj\u001b[0m\u001b[1;33m]\u001b[0m \u001b[1;32min\u001b[0m \u001b[0mdata\u001b[0m\u001b[1;33m[\u001b[0m\u001b[1;34m'구분'\u001b[0m\u001b[1;33m]\u001b[0m\u001b[1;33m[\u001b[0m\u001b[0mi\u001b[0m\u001b[1;33m]\u001b[0m\u001b[1;33m:\u001b[0m\u001b[1;33m\u001b[0m\u001b[1;33m\u001b[0m\u001b[0m\n\u001b[1;32m---> 24\u001b[1;33m             \u001b[0mcity_population\u001b[0m\u001b[1;33m[\u001b[0m\u001b[0mj\u001b[0m\u001b[1;33m]\u001b[0m\u001b[1;33m[\u001b[0m\u001b[0mi\u001b[0m\u001b[1;33m]\u001b[0m \u001b[1;33m=\u001b[0m \u001b[0mcity_population\u001b[0m\u001b[1;33m[\u001b[0m\u001b[0mj\u001b[0m\u001b[1;33m]\u001b[0m\u001b[1;33m[\u001b[0m\u001b[0mi\u001b[0m\u001b[1;33m]\u001b[0m \u001b[1;33m+\u001b[0m \u001b[0mdata\u001b[0m\u001b[1;33m[\u001b[0m\u001b[0myear_2017\u001b[0m\u001b[1;33m]\u001b[0m\u001b[1;33m[\u001b[0m\u001b[0mi\u001b[0m\u001b[1;33m]\u001b[0m\u001b[1;33m\u001b[0m\u001b[1;33m\u001b[0m\u001b[0m\n\u001b[0m\u001b[0;32m     25\u001b[0m \u001b[1;33m\u001b[0m\u001b[0m\n\u001b[0;32m     26\u001b[0m \u001b[1;31m#    if data[]\u001b[0m\u001b[1;33m\u001b[0m\u001b[1;33m\u001b[0m\u001b[1;33m\u001b[0m\u001b[0m\n",
      "\u001b[1;31mIndexError\u001b[0m: list index out of range"
     ]
    }
   ],
   "source": [
    "# 6. 2017년 경기도 전체 인구의 시별 인구 평균\n",
    "total_popuation_gyeongi_2017 = []\n",
    "pattern = re.compile(r\"(\\w+[시]\\s*)\")\n",
    "city = []\n",
    "city_population= []\n",
    "\n",
    "for i in range(data.size):\n",
    "    m = pattern.match(data['구분'][i])\n",
    "    #print(m)\n",
    "    #print(m.group())\n",
    "    if m == None:\n",
    "        continue\n",
    "    city.append(m.group())\n",
    "\n",
    "city = list(set(city))\n",
    "city_length = len(city)\n",
    "city.sort()\n",
    "\n",
    "print(city)\n",
    "\n",
    "for i in range(data.size):\n",
    "    for j in range(city_length):\n",
    "        if city[j] in data['구분'][i]:\n",
    "            city_population[j][i] = city_population[j][i] + data[year_2017][i]\n",
    "\n",
    "#    if data[]\n",
    "#for i in range(data.size):\n",
    "#    if re.match(city[i], data['구분'][i]):\n",
    "#        total_population_suwon_2017 = total_population_suwon_2017 + data['year_2017'][i]\n",
    "\n",
    "    #city.append(match.group(i))"
   ]
  },
  {
   "cell_type": "code",
   "execution_count": 335,
   "metadata": {},
   "outputs": [
    {
     "name": "stdout",
     "output_type": "stream",
     "text": [
      "dd\n"
     ]
    }
   ],
   "source": [
    "a = \"수원시장안구\"\n",
    "b = \"수원시\"\n",
    "\n",
    "if b in a:\n",
    "    print(\"dd\")"
   ]
  },
  {
   "cell_type": "code",
   "execution_count": null,
   "metadata": {},
   "outputs": [],
   "source": []
  },
  {
   "cell_type": "code",
   "execution_count": 235,
   "metadata": {},
   "outputs": [
    {
     "name": "stdout",
     "output_type": "stream",
     "text": [
      "1 ['수원시장안구' '수원시권선구' '수원시팔달구' '수원시영통구' '성남시수정구' '성남시중원구' '성남시분당구' '의정부시'\n",
      " '안양시만안구' '안양시동안구' '부천시원미구' '부천시소사구' '부천시오정구' '광명시' '평택시' '동두천시' '안산시상록구'\n",
      " '안산시단원구' '고양시덕양구' '고양시일산동구' '고양시일산서구' '과천시' '구리시' '남양주시' '오산시' '시흥시'\n",
      " '군포시' '의왕시' '하남시' '용인시처인구' '용인시기흥구' '용인시수지구' '파주시' '이천시' '안성시' '김포시'\n",
      " '화성시' '광주시' '양주시' '포천시' '여주시' '연천군' '가평군' '양평군']\n",
      "1\n",
      "(44, 12)\n"
     ]
    }
   ],
   "source": [
    "import numpy as np\n",
    "\n",
    "fname = \"경기도인구데이터.csv\"\n",
    "\n",
    "# csv파일을 통한 지역명 문자열 데이터 읽기\n",
    "region = np.loadtxt(fname, delimiter=\",\", skiprows=1, usecols=(0), dtype=str)\n",
    "print(region.ndim, region)\n",
    "# csv파일을 통한 숫자 데이터 읽기\n",
    "data = np.loadtxt(fname, delimiter=\",\", skiprows=1, usecols=(1,2,3,4,5,6,7,8,9,10,11), dtype='i')\n",
    "print(region.ndim)\n",
    "\n",
    "#위의 두 작업을 merge\n",
    "gyeongido_data = np.c_[region, data]\n",
    "print(gyeongido_data.shape)\n",
    "#np.concatenate((region, data), axis=None)"
   ]
  },
  {
   "cell_type": "code",
   "execution_count": 236,
   "metadata": {},
   "outputs": [
    {
     "data": {
      "text/plain": [
       "array([['수원시장안구', '287474', '285803', '290798', '293692', '290999',\n",
       "        '291757', '300908', '301196', '299016', '296479', '293828'],\n",
       "       ['수원시권선구', '310553', '308177', '304097', '306783', '321176',\n",
       "        '332633', '331773', '339835', '351053', '358393', '365653'],\n",
       "       ['수원시팔달구', '216945', '213235', '219833', '216503', '209772',\n",
       "        '206794', '204805', '203479', '199180', '198515', '193311'],\n",
       "       ['수원시영통구', '252730', '260210', '258421', '260557', '266542',\n",
       "        '289074', '310671', '329718', '335375', '340654', '349836'],\n",
       "       ['성남시수정구', '256744', '248452', '242161', '241070', '236123',\n",
       "        '233997', '228167', '223539', '219531', '232841', '236932']],\n",
       "      dtype='<U11')"
      ]
     },
     "execution_count": 236,
     "metadata": {},
     "output_type": "execute_result"
    }
   ],
   "source": [
    "# 1. 파일 내용을 읽은 후 상위 5개 데이터 확인\n",
    "gyeongido_data[0:5]"
   ]
  },
  {
   "cell_type": "code",
   "execution_count": 237,
   "metadata": {},
   "outputs": [
    {
     "data": {
      "text/plain": [
       "(44, 12)"
      ]
     },
     "execution_count": 237,
     "metadata": {},
     "output_type": "execute_result"
    }
   ],
   "source": [
    "# 2. 배열 객체의 크기 확인\n",
    "gyeongido_data.shape"
   ]
  },
  {
   "cell_type": "code",
   "execution_count": 238,
   "metadata": {},
   "outputs": [
    {
     "name": "stdout",
     "output_type": "stream",
     "text": [
      "중복지역 없음\n"
     ]
    },
    {
     "name": "stderr",
     "output_type": "stream",
     "text": [
      "C:\\Users\\student\\Anaconda3\\lib\\site-packages\\ipykernel_launcher.py:5: DeprecationWarning: The truth value of an empty array is ambiguous. Returning False, but in future this will result in an error. Use `array.size > 0` to check that an array is not empty.\n",
      "  \"\"\"\n"
     ]
    }
   ],
   "source": [
    "# 3. 중복 지역 존재 여부 확인\n",
    "dup_region = gyeongido_data[:,0]\n",
    "\n",
    "u, indices = np.unique(dup_region, return_inverse=True)\n",
    "if u[np.bincount(indices) > 1]:\n",
    "    print(\"중복지역 발생\")\n",
    "else:\n",
    "    print(\"중복지역 없음\")"
   ]
  },
  {
   "cell_type": "code",
   "execution_count": 239,
   "metadata": {
    "scrolled": true
   },
   "outputs": [
    {
     "name": "stdout",
     "output_type": "stream",
     "text": [
      "['293828' '365653' '193311' '349836' '236932' '230366' '500212' '441584'\n",
      " '254977' '332787' '442898' '222016' '184073' '332790' '481530' '97071'\n",
      " '370744' '306966' '448684' '293673' '299626' '57527' '200042' '665321'\n",
      " '213437' '419664' '281205' '155767' '232487' '231553' '419429' '353099'\n",
      " '437848' '213142' '182786' '392092' '691086' '345947' '212146' '152925'\n",
      " '111984' '45431' '62973' '115105']\n",
      "<built-in method sum of numpy.ndarray object at 0x000001F4BFADC4E0>\n"
     ]
    }
   ],
   "source": [
    "# 4. 2017년 수원시 인구의 합\n",
    "suwon_2017_data = gyeongido_data[:,11]\n",
    "print(suwon_2017_data)\n",
    "print(sum_suwon_2017)"
   ]
  },
  {
   "cell_type": "code",
   "execution_count": 21,
   "metadata": {},
   "outputs": [
    {
     "name": "stdout",
     "output_type": "stream",
     "text": [
      "[[ 1  2  3  4]\n",
      " [ 5  6  7  8]\n",
      " [ 9 10 11 12]\n",
      " [13 14 15 16]]\n",
      "[[1 2 3 4]\n",
      " [5 6 7 8]]\n",
      "[[ 9 10 11 12]\n",
      " [13 14 15 16]]\n"
     ]
    }
   ],
   "source": [
    "A = np.array([[1, 2, 3, 4], [5, 6, 7, 8], [9, 10, 11, 12], [13 ,14 ,15, 16]])\n",
    "print(A)\n",
    "slice_Y_equal_size = np.split(A, 2, axis = 0)\n",
    "print(slice_Y_equal_size[0])\n",
    "print(slice_Y_equal_size[1])"
   ]
  },
  {
   "cell_type": "code",
   "execution_count": 23,
   "metadata": {},
   "outputs": [
    {
     "name": "stdout",
     "output_type": "stream",
     "text": [
      "[[ 1  2]\n",
      " [ 5  6]\n",
      " [ 9 10]\n",
      " [13 14]]\n",
      "[[ 3]\n",
      " [ 7]\n",
      " [11]\n",
      " [15]]\n",
      "[[ 4]\n",
      " [ 8]\n",
      " [12]\n",
      " [16]]\n"
     ]
    }
   ],
   "source": [
    "slice_X_different_sizes = np.split(A, [2, 3], axis = 1)\n",
    "print(slice_X_different_sizes[0])\n",
    "print(slice_X_different_sizes[1])\n",
    "print(slice_X_different_sizes[2])"
   ]
  },
  {
   "cell_type": "code",
   "execution_count": 3,
   "metadata": {},
   "outputs": [
    {
     "data": {
      "text/plain": [
       "array([('수원시장안구', 287474., 285803., 290798., 293692., 290999., 291757., 300908., 301196., 299016., 296479., 293828.),\n",
       "       ('수원시권선구', 310553., 308177., 304097., 306783., 321176., 332633., 331773., 339835., 351053., 358393., 365653.),\n",
       "       ('수원시팔달구', 216945., 213235., 219833., 216503., 209772., 206794., 204805., 203479., 199180., 198515., 193311.),\n",
       "       ('수원시영통구', 252730., 260210., 258421., 260557., 266542., 289074., 310671., 329718., 335375., 340654., 349836.),\n",
       "       ('성남시수정구', 256744., 248452., 242161., 241070., 236123., 233997., 228167., 223539., 219531., 232841., 236932.)],\n",
       "      dtype=[('구분', 'O'), ('year_2007', '<f8'), ('year_2008', '<f8'), ('year_2009', '<f8'), ('year_2010', '<f8'), ('year_2011', '<f8'), ('year_2012', '<f8'), ('year_2013', '<f8'), ('year_2014', '<f8'), ('year_2015', '<f8'), ('year_2016', '<f8'), ('year_2017', '<f8')])"
      ]
     },
     "execution_count": 3,
     "metadata": {},
     "output_type": "execute_result"
    }
   ],
   "source": [
    "# 1. 파일 내용을 읽은 후 상위 5개 데이터 확인\n",
    "data[:5]"
   ]
  },
  {
   "cell_type": "code",
   "execution_count": 4,
   "metadata": {},
   "outputs": [
    {
     "data": {
      "text/plain": [
       "(44,)"
      ]
     },
     "execution_count": 4,
     "metadata": {},
     "output_type": "execute_result"
    }
   ],
   "source": [
    "# 2. 배열 객체의 크기 확인\n",
    "data.shape"
   ]
  },
  {
   "cell_type": "code",
   "execution_count": 6,
   "metadata": {},
   "outputs": [
    {
     "data": {
      "text/plain": [
       "array(['수원시장안구', '수원시권선구', '수원시팔달구', '수원시영통구', '성남시수정구', '성남시중원구',\n",
       "       '성남시분당구', '의정부시', '안양시만안구', '안양시동안구', '부천시원미구', '부천시소사구', '부천시오정구',\n",
       "       '광명시', '평택시', '동두천시', '안산시상록구', '안산시단원구', '고양시덕양구', '고양시일산동구',\n",
       "       '고양시일산서구', '과천시', '구리시', '남양주시', '오산시', '시흥시', '군포시', '의왕시', '하남시',\n",
       "       '용인시처인구', '용인시기흥구', '용인시수지구', '파주시', '이천시', '안성시', '김포시', '화성시',\n",
       "       '광주시', '양주시', '포천시', '여주시', '연천군', '가평군', '양평군'], dtype=object)"
      ]
     },
     "execution_count": 6,
     "metadata": {},
     "output_type": "execute_result"
    }
   ],
   "source": [
    "# 3. 중복 지역 존재 여부 확인\n",
    "dup_region = gyeongido_data[:,0]\n",
    "\n",
    "u, indices = np.unique(dup_region, return_inverse=True)\n",
    "if u[np.bincount(indices) > 1]:\n",
    "    print(\"중복지역 발생\")\n",
    "else:\n",
    "    print(\"중복지역 없음\")\n",
    "#https://stackoverflow.com/questions/11528078/determining-duplicate-values-in-an-array 참조"
   ]
  }
 ],
 "metadata": {
  "kernelspec": {
   "display_name": "Python 3",
   "language": "python",
   "name": "python3"
  },
  "language_info": {
   "codemirror_mode": {
    "name": "ipython",
    "version": 3
   },
   "file_extension": ".py",
   "mimetype": "text/x-python",
   "name": "python",
   "nbconvert_exporter": "python",
   "pygments_lexer": "ipython3",
   "version": "3.7.6"
  }
 },
 "nbformat": 4,
 "nbformat_minor": 2
}
