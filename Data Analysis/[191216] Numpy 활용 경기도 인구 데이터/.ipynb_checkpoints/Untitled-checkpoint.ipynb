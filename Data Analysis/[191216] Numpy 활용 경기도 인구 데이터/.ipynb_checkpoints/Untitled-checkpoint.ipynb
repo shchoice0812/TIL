{
 "cells": [
  {
   "cell_type": "code",
   "execution_count": 134,
   "metadata": {},
   "outputs": [],
   "source": [
    "import numpy as np\n",
    "\n",
    "data = np.loadtxt(\"./datas/datas/경기도인구데이터.csv\", delimiter=\",\", skiprows=1, dtype={'names': (\n",
    "    \"구분\", \"year_2007\", \"year_2008\", \"year_2009\", \"year_2010\", \"year_2011\", \"year_2012\", \"year_2013\", \"year_2014\", \"year_2015\", \"year_2016\", \"year_2017\"),\n",
    "    'formats' : (np.chararray ,np.float, np.float, np.float, np.float, np.float, np.float, np.float, np.float, np.float, np.float, np.float)\n",
    "})"
   ]
  },
  {
   "cell_type": "markdown",
   "metadata": {},
   "source": [
    "import numpy as np\n",
    "\n",
    "fname = \"./datas/datas/경기도인구데이터.csv\"\n",
    "dtype1 = np.dtype([(\"구분\", np.chararray), (\"year_2008\", np.float),  (\"year_2009\", np.float)])\n",
    "                   \n",
    "data = np.loadtxt(fname, delimiter=\",\", skiprows=1, dtype= dtype1)"
   ]
  },
  {
   "cell_type": "code",
   "execution_count": 135,
   "metadata": {},
   "outputs": [
    {
     "data": {
      "text/plain": [
       "array([('수원시장안구', 287474., 285803., 290798., 293692., 290999., 291757., 300908., 301196., 299016., 296479., 293828.),\n",
       "       ('수원시권선구', 310553., 308177., 304097., 306783., 321176., 332633., 331773., 339835., 351053., 358393., 365653.),\n",
       "       ('수원시팔달구', 216945., 213235., 219833., 216503., 209772., 206794., 204805., 203479., 199180., 198515., 193311.),\n",
       "       ('수원시영통구', 252730., 260210., 258421., 260557., 266542., 289074., 310671., 329718., 335375., 340654., 349836.),\n",
       "       ('성남시수정구', 256744., 248452., 242161., 241070., 236123., 233997., 228167., 223539., 219531., 232841., 236932.)],\n",
       "      dtype=[('구분', 'O'), ('year_2007', '<f8'), ('year_2008', '<f8'), ('year_2009', '<f8'), ('year_2010', '<f8'), ('year_2011', '<f8'), ('year_2012', '<f8'), ('year_2013', '<f8'), ('year_2014', '<f8'), ('year_2015', '<f8'), ('year_2016', '<f8'), ('year_2017', '<f8')])"
      ]
     },
     "execution_count": 135,
     "metadata": {},
     "output_type": "execute_result"
    }
   ],
   "source": [
    "# 1. 파일 내용을 읽은 후 상위 5개 데이터 확인\n",
    "data[:5]"
   ]
  },
  {
   "cell_type": "code",
   "execution_count": 136,
   "metadata": {},
   "outputs": [
    {
     "data": {
      "text/plain": [
       "(44,)"
      ]
     },
     "execution_count": 136,
     "metadata": {},
     "output_type": "execute_result"
    }
   ],
   "source": [
    "# 2. 배열 객체의 크기 확인\n",
    "data.shape"
   ]
  },
  {
   "cell_type": "code",
   "execution_count": 137,
   "metadata": {},
   "outputs": [
    {
     "data": {
      "text/plain": [
       "array(['수원시장안구', '수원시권선구', '수원시팔달구', '수원시영통구', '성남시수정구', '성남시중원구',\n",
       "       '성남시분당구', '의정부시', '안양시만안구', '안양시동안구', '부천시원미구', '부천시소사구', '부천시오정구',\n",
       "       '광명시', '평택시', '동두천시', '안산시상록구', '안산시단원구', '고양시덕양구', '고양시일산동구',\n",
       "       '고양시일산서구', '과천시', '구리시', '남양주시', '오산시', '시흥시', '군포시', '의왕시', '하남시',\n",
       "       '용인시처인구', '용인시기흥구', '용인시수지구', '파주시', '이천시', '안성시', '김포시', '화성시',\n",
       "       '광주시', '양주시', '포천시', '여주시', '연천군', '가평군', '양평군'], dtype=object)"
      ]
     },
     "execution_count": 137,
     "metadata": {},
     "output_type": "execute_result"
    }
   ],
   "source": [
    "# 3. 중복 지역 존재 여부 확인\n",
    "region = data['구분']\n",
    "region"
   ]
  },
  {
   "cell_type": "code",
   "execution_count": 139,
   "metadata": {},
   "outputs": [],
   "source": [
    "# 4. 2017년 수원시 인구의 합\n",
    "import re\n",
    "m = region.max\n",
    "if p in region:\n",
    "    print(\"dd\")"
   ]
  },
  {
   "cell_type": "code",
   "execution_count": 145,
   "metadata": {},
   "outputs": [
    {
     "data": {
      "text/plain": [
       "array([False, False, False, False, False, False,  True, False, False,\n",
       "       False, False, False, False, False, False, False, False, False,\n",
       "       False, False, False, False, False,  True, False, False, False,\n",
       "       False, False, False, False, False, False, False, False, False,\n",
       "        True, False, False, False, False, False, False, False])"
      ]
     },
     "execution_count": 145,
     "metadata": {},
     "output_type": "execute_result"
    }
   ],
   "source": [
    "# 5. 2017년 인구가 50만이상이 지역 출력\n",
    "region = data['year_2017'] > 500000\n",
    "region"
   ]
  },
  {
   "cell_type": "code",
   "execution_count": null,
   "metadata": {},
   "outputs": [],
   "source": [
    "# 6. 2017년 경기도 전체 인구의 시별 인구 평균"
   ]
  }
 ],
 "metadata": {
  "kernelspec": {
   "display_name": "Python 3",
   "language": "python",
   "name": "python3"
  },
  "language_info": {
   "codemirror_mode": {
    "name": "ipython",
    "version": 3
   },
   "file_extension": ".py",
   "mimetype": "text/x-python",
   "name": "python",
   "nbconvert_exporter": "python",
   "pygments_lexer": "ipython3",
   "version": "3.7.6"
  }
 },
 "nbformat": 4,
 "nbformat_minor": 2
}
