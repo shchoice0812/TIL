{
 "cells": [
  {
   "cell_type": "markdown",
   "metadata": {
    "ExecuteTime": {
     "end_time": "2020-03-07T19:04:29.982304Z",
     "start_time": "2020-03-07T19:04:29.977319Z"
    },
    "scrolled": true
   },
   "source": [
    "## 대표적인 데이터 구조4: 큐 (Queue)\n",
    "\n",
    "### 1. 큐 구조\n",
    "* 가장 먼저 넣은 데이터를 가장 먼저 꺼낼 수 있는 구조\n",
    "  - 음식점에서 가장 먼저 줄을 선 사람이 제일 먼저 음식점에 입장하는 것과 동일\n",
    "  - FIFO(First-In, First-Out) 또는 LILO(Last-In, Last-Out) 방식으로 스택과 꺼내는 순서가 반대\n",
    "  \n",
    "<img src=\"https://www.fun-coding.org/00_Images/queue.png\" />\n",
    "* 출처: http://www.stoimen.com/blog/2012/06/05/computer-algorithms-stack-and-queue-data-structure/"
   ]
  },
  {
   "cell_type": "markdown",
   "metadata": {
    "ExecuteTime": {
     "end_time": "2020-03-07T20:31:05.561776Z",
     "start_time": "2020-03-07T20:31:05.555051Z"
    }
   },
   "source": [
    "### 2. 알아둘 용어\n",
    "* Enqueue: 큐에 데이터를 넣는 기능\n",
    "* Dequeue: 큐에서 데이터를 꺼내는 기능"
   ]
  },
  {
   "cell_type": "markdown",
   "metadata": {},
   "source": [
    "## 3. Queue 자료구조 원리"
   ]
  },
  {
   "cell_type": "code",
   "execution_count": 2,
   "metadata": {
    "ExecuteTime": {
     "end_time": "2020-03-08T04:53:34.180342Z",
     "start_time": "2020-03-08T04:53:34.169410Z"
    }
   },
   "outputs": [
    {
     "name": "stdout",
     "output_type": "stream",
     "text": [
      "['두번째 삽입 큐입니다.']\n"
     ]
    }
   ],
   "source": [
    "queue_list = []\n",
    "def enqueue(data):\n",
    "    queue_list.append(data)\n",
    "\n",
    "def dequeue():\n",
    "    data = queue_list[0]\n",
    "    del queue_list[0]\n",
    "    return data\n",
    "\n",
    "enqueue(\"첫번째 삽입 큐입니다.\")\n",
    "enqueue(\"두번째 삽입 큐입니다.\")\n",
    "dequeue()\n",
    "print(queue_list)"
   ]
  },
  {
   "cell_type": "markdown",
   "metadata": {},
   "source": [
    "## 4. queue 모듈 활용 예제"
   ]
  },
  {
   "cell_type": "markdown",
   "metadata": {},
   "source": [
    "#### 4-1 FIFO queue"
   ]
  },
  {
   "cell_type": "code",
   "execution_count": 3,
   "metadata": {
    "ExecuteTime": {
     "end_time": "2020-03-08T04:53:35.955973Z",
     "start_time": "2020-03-08T04:53:35.947000Z"
    }
   },
   "outputs": [
    {
     "name": "stdout",
     "output_type": "stream",
     "text": [
      "0번째 enqueue 입니다\n",
      "1번째 enqueue 입니다\n",
      "2번째 enqueue 입니다\n",
      "3번째 enqueue 입니다\n",
      "4번째 enqueue 입니다\n",
      "deque 수행 :  0번째 enqueue\n",
      "deque 수행 :  1번째 enqueue\n",
      "deque 수행 :  2번째 enqueue\n",
      "확인 : deque(['3번째 enqueue', '4번째 enqueue'])\n",
      "큐 객체에 저장된 개수 : 2\n"
     ]
    }
   ],
   "source": [
    "import queue\n",
    "\n",
    "my_queue = queue.Queue()\n",
    "\n",
    "enqueue = 5\n",
    "dequeue = 3\n",
    "\n",
    "for i in range(enqueue):\n",
    "    print(f\"{i}번째 enqueue 입니다\")\n",
    "    my_queue.put(str(i)+\"번째 enqueue\")\n",
    "    \n",
    "for i in range(dequeue):\n",
    "    print(\"deque 수행 : \", my_queue.get())\n",
    "\n",
    "print(\"확인 :\", my_queue.queue)\n",
    "print(\"큐 객체에 저장된 개수 :\", my_queue.qsize())"
   ]
  },
  {
   "cell_type": "markdown",
   "metadata": {},
   "source": [
    "#### 4-2 Priority Queue(우선순위 큐)"
   ]
  },
  {
   "cell_type": "code",
   "execution_count": 4,
   "metadata": {
    "ExecuteTime": {
     "end_time": "2020-03-08T04:53:36.986651Z",
     "start_time": "2020-03-08T04:53:36.976680Z"
    }
   },
   "outputs": [
    {
     "name": "stdout",
     "output_type": "stream",
     "text": [
      "확인 : [(9, 'Node.js'), (14, 'Vue.js'), (13, 'React.js')]\n",
      "큐 객체에 저장된 개수 : (9, 'Node.js')\n"
     ]
    }
   ],
   "source": [
    "import queue\n",
    "\n",
    "priority_queue = queue.PriorityQueue()\n",
    "priority_queue.put((14, \"Vue.js\"))\n",
    "priority_queue.put((9, \"Node.js\"))\n",
    "priority_queue.put((13, \"React.js\"))\n",
    "\n",
    "print(\"확인 :\", priority_queue.queue)\n",
    "print(\"큐 객체에 저장된 개수 :\", priority_queue.get())"
   ]
  },
  {
   "cell_type": "markdown",
   "metadata": {},
   "source": [
    "#### 4-3 LIFO queue"
   ]
  },
  {
   "cell_type": "code",
   "execution_count": 5,
   "metadata": {
    "ExecuteTime": {
     "end_time": "2020-03-08T04:53:37.993413Z",
     "start_time": "2020-03-08T04:53:37.984470Z"
    }
   },
   "outputs": [
    {
     "name": "stdout",
     "output_type": "stream",
     "text": [
      "0번째 enqueue 입니다\n",
      "1번째 enqueue 입니다\n",
      "2번째 enqueue 입니다\n",
      "3번째 enqueue 입니다\n",
      "4번째 enqueue 입니다\n",
      "deque 수행 :  4번째 enqueue\n",
      "deque 수행 :  3번째 enqueue\n",
      "deque 수행 :  2번째 enqueue\n",
      "확인 : ['0번째 enqueue', '1번째 enqueue']\n",
      "큐 객체에 저장된 개수 : 2\n"
     ]
    }
   ],
   "source": [
    "import queue\n",
    "lifo_queue = queue.LifoQueue()\n",
    "\n",
    "enqueue = 5\n",
    "dequeue = 3\n",
    "\n",
    "for i in range(enqueue):\n",
    "    print(f\"{i}번째 enqueue 입니다\")\n",
    "    lifo_queue.put(str(i)+\"번째 enqueue\")\n",
    "    \n",
    "for i in range(dequeue):\n",
    "    print(\"deque 수행 : \", lifo_queue.get())\n",
    "\n",
    "print(\"확인 :\", lifo_queue.queue)\n",
    "print(\"큐 객체에 저장된 개수 :\", lifo_queue.qsize())"
   ]
  },
  {
   "cell_type": "code",
   "execution_count": null,
   "metadata": {},
   "outputs": [],
   "source": []
  }
 ],
 "metadata": {
  "kernelspec": {
   "display_name": "Python 3",
   "language": "python",
   "name": "python3"
  },
  "language_info": {
   "codemirror_mode": {
    "name": "ipython",
    "version": 3
   },
   "file_extension": ".py",
   "mimetype": "text/x-python",
   "name": "python",
   "nbconvert_exporter": "python",
   "pygments_lexer": "ipython3",
   "version": "3.7.6"
  }
 },
 "nbformat": 4,
 "nbformat_minor": 4
}
