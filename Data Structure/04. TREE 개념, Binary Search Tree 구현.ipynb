{
 "cells": [
  {
   "cell_type": "markdown",
   "metadata": {},
   "source": [
    "# TREE 개념, Binary Search Tree 구현"
   ]
  },
  {
   "cell_type": "markdown",
   "metadata": {},
   "source": [
    "### 1. 트리 구조 : \n",
    "* 그래프의 특수한 형태로, 노드(Node)와 선분(Branch)을 이용해 사이클을 이루지 않도록 구성한 자료구조\n",
    "* 자료 사이의 관계성이 계층 형식으로 나타나는 구조\n",
    "* 1:n 구조이며 역으로는 1:1 대응 구조\n",
    "\n",
    "* 트리의 용어\n",
    "    * Node : 트리에서 데이터를 저장하는 기본 요소(데이터와 다른 연결된 노드에 대한 Branch 정보 포함)\n",
    "    * Root Node : 트리의 뿌리가(맨 위) 되는 노드\n",
    "    * Parent Node : 각 노드의 바로 상위 레벨에 있는 노드\n",
    "    * Child Node : 각 노드에 연결되어 있는 다음 레벨의 노드\n",
    "    * Leaf Node : 단노드(Teminate Node)라고도 하며 노드의 차수가 0인 노드 또는 자식이 없는 노드를 말한다.\n",
    "    * sibling Node : 동일한 Parent Node를 가진 노드\n",
    "    * Level : 최상위 노드를 Level 0으로 했을 때, 하위 Branch로 연결된 노드의 깊이를 나타냄\n",
    "    * Degree(차수) : 각 노드가 가지고 있는 자식 노드의 수를 말한다.\n",
    "    * Depth : 트리에서 노드가 가질 수 있는 최대 Level\n",
    " <img src=\"http://www.fun-coding.org/00_Images/tree.png\"/>"
   ]
  },
  {
   "cell_type": "markdown",
   "metadata": {},
   "source": [
    "### 2 이진 트리와 이진 탐색 트리\n",
    "* 이진 트리 : 노드의 최대 Branch가 2인 트리\n",
    "* 이진 탐색 트리(Binary Search Tree, BST) : 이진 트리에 다음과 같은 추가적인 조건이 있는 트리\n",
    "    * 왼쪽 노드는 해당 노드보다 작은 값, 오른쪽 노드는 해당 노드보다 큰 값을 가지고 있음\n",
    "<img src=\"https://www.mathwarehouse.com/programming/images/binary-search-tree/binary-search-tree-insertion-animation.gif\" />"
   ]
  },
  {
   "cell_type": "markdown",
   "metadata": {
    "ExecuteTime": {
     "end_time": "2020-03-16T11:04:16.417403Z",
     "start_time": "2020-03-16T11:04:16.408390Z"
    }
   },
   "source": [
    "### 3. 이진 탐색 트리의 장점과 주요용도\n",
    "* 주요 용도 : 데이터 검색(탐색)\n",
    "* 장점 : 탐색 속도를 개선할 수 있음\n",
    "<br><br>\n",
    "\n",
    "### 이진트리와 정렬된 배열간의 탐색 비교\n",
    "<img src=\"https://www.mathwarehouse.com/programming/images/binary-search-tree/binary-search-tree-sorted-array-animation.gif\" />"
   ]
  },
  {
   "cell_type": "markdown",
   "metadata": {},
   "source": [
    "## 5. 이진 탐색 트리(Binary Search Tree) 구현하기\n",
    "* 최종 형태"
   ]
  },
  {
   "cell_type": "code",
   "execution_count": 1,
   "metadata": {
    "ExecuteTime": {
     "end_time": "2020-04-04T10:21:40.595485Z",
     "start_time": "2020-04-04T10:21:40.548611Z"
    }
   },
   "outputs": [
    {
     "name": "stdout",
     "output_type": "stream",
     "text": [
      "True\n",
      "False\n",
      "True\n",
      "False\n",
      "True\n"
     ]
    }
   ],
   "source": [
    "class Node():\n",
    "    def __init__(self, value):\n",
    "        self.value = value\n",
    "        self.left = None\n",
    "        self.right = None\n",
    "    \n",
    "class BSTree():\n",
    "    def __init__(self, head):\n",
    "        self.head = head\n",
    "        \n",
    "    def insert(self, value):\n",
    "        self.current_node = self.head\n",
    "        while True:\n",
    "            # 1. 새로 들어온 값이 중앙값보다 작을 경우(왼쪽)\n",
    "            if value < self.current_node.value:\n",
    "                # 1-1.자식 노드가 없을 경우\n",
    "                if self.current_node.left == None:\n",
    "                    self.current_node.left = Node(value)\n",
    "                    break\n",
    "                else:\n",
    "                    # 1-2 자식 노드가 있을 경우 -> 순환\n",
    "                    self.current_node = self.current_node.left\n",
    "            # 2. 새로 들어온 값이 중앙값보다 크거나 같을 경우(오른쪽)\n",
    "            else:\n",
    "                # 2.1 자식 노드가 없을 경우\n",
    "                if self.current_node.right == None:\n",
    "                    self.current_node.right = Node(value)\n",
    "                    break\n",
    "                # 2.2 자식 노드가 있을 경우 -> 순환\n",
    "                else:\n",
    "                    self.current_node = self.current_node.right\n",
    "                    \n",
    "    def search(self, value):\n",
    "        self.current_node = self.head\n",
    "        while self.current_node:\n",
    "            if value == self.current_node.value:\n",
    "                return True\n",
    "            elif value < self.current_node.value:\n",
    "                self.current_node = self.current_node.left\n",
    "            else:\n",
    "                self.current_node = self.current_node.right\n",
    "        return False\n",
    "    \n",
    "    def delete(self, value):\n",
    "        ## 1. 삭제할 노드까지 찾아가기\n",
    "        searched = False\n",
    "        self.current_node = self.head\n",
    "        self.parent = self.head\n",
    "        while self.current_node:\n",
    "            if value == self.current_node.value:\n",
    "                searched = True\n",
    "                break\n",
    "            elif value < self.current_node.value:\n",
    "                self.parent = self.current_node\n",
    "                self.current_node = self.current_node.left\n",
    "            else:\n",
    "                self.parent = self.current_node\n",
    "                self.current_node = self.current_node.right\n",
    "              \n",
    "        ## 원하는 삭제 노드가 트리에 없음\n",
    "        if searched == False:\n",
    "            return False\n",
    "        \n",
    "        \n",
    "        ## 2. 노드 삭제\n",
    "        ## 2-1. 삭제할 노드가 Leaf Node일 경우\n",
    "        if self.current_node.left == None and self.current_node.right == None:\n",
    "            ## 삭제 대상 노드의 부모 노드 left edge 끊어버리기\n",
    "            if value < self.parent.value:\n",
    "                self.parent.left = None\n",
    "            ## 삭제 대상 노드의 부모 노드 right edge 끊어버리기\n",
    "            else:\n",
    "                self.parent.right = None\n",
    "            ## 자식 노드 삭제\n",
    "            del self.current_node\n",
    "            \n",
    "        ## 2-2 삭제할 노드가 자식 노드 하나를 갖고 있는 경우\n",
    "        if self.current_node.left != None and self.current_node.right == None:\n",
    "            if value < self.parent.value:\n",
    "                self.parent.left = self.current_node.left\n",
    "            else:\n",
    "                self.parent.right = self.current_node.left\n",
    "        elif self.current_node.left == None and self.current_node.right != None:\n",
    "            if value < self.parent.value:\n",
    "                self.parent.left = self.current_node.right\n",
    "            else:\n",
    "                self.parent.right = self.current_node.right\n",
    "                \n",
    "        ## 2-3 삭제할 노드가 자식 노드 두개를 갖고 있는 경우\n",
    "        if self.current_node.left != None and self.current_node.right != None: # case3\n",
    "            ## 2-3-1 삭제할 노드가 부모의 왼쪽에 있을 경우\n",
    "            if value < self.parent.value:\n",
    "                # 삭제 노드를 삭제노드의 오른쪽 자식 중에 가장 작은 값으로 대체하기 위한 설정\n",
    "                self.change_node = self.current_node.right\n",
    "                self.change_node_parent = self.current_node.right\n",
    "                # 가장 작은 값으로 내려가자\n",
    "                while self.change_node.left != None:\n",
    "                    self.change_node_parent = self.change_node\n",
    "                    self.change_node = self.change_node.left\n",
    "                \n",
    "                # 2-3-1-1 가장 작은 값의 노드에 오른쪽 자식이 없을 경우\n",
    "                if self.change_node.right == None:\n",
    "                    self.change_node_parent = None\n",
    "                # 2-3-1-2 가장 작은 값의 노드에 오른쪽 자식이 있을 경우\n",
    "                else:\n",
    "                    self.change_node.parent.left = self.change_node.right\n",
    "                self.parent.left = self.change_node\n",
    "                self.change_node.left = self.current_node.left\n",
    "                self.change_node.right = self.current_node.right                    \n",
    "                    \n",
    "            ## 2-3-2 삭제할 노드가 부모의 오른쪽에 있을 경우\n",
    "            else:\n",
    "                # 삭제 노드를 삭제노드의 오른쪽 자식 중에 가장 작은 값으로 대체하기 위한 설\n",
    "                self.change_node = self.current_node.right\n",
    "                self.change_node_parent = self.current_node.right\n",
    "                # 가장 작은 값으로 내려가자\n",
    "                while self.change_node.left != None:\n",
    "                    self.change_node_parent = self.change_node\n",
    "                    self.change_node = self.change_node.left\n",
    "                    \n",
    "                # 2-3-2-1 가장 작은 값의 노드에 오른쪽 자식이 없을 경우\n",
    "                if self.change_node.right == None:\n",
    "                    self.change_node_parent.left = None\n",
    "                # 2-3-2-2 가장 작은 값의 노드에 오른쪽 자식이 있을 경우\n",
    "                else:\n",
    "                    self.change_node_parent.left = self.change_node.right\n",
    "                self.parent.right = self.change_node\n",
    "                self.change_node.left = self.current_node.left\n",
    "                self.change_node.right = self.current_node.right\n",
    "        \n",
    "        return True\n",
    "                    \n",
    "head = Node(10)\n",
    "bst = BSTree(head)\n",
    "bst.insert(5)\n",
    "bst.insert(15)\n",
    "bst.insert(6)\n",
    "bst.insert(19)\n",
    "\n",
    "bst.delete(5)\n",
    "print(bst.search(6))\n",
    "print(bst.search(5))\n",
    "\n",
    "print(bst.search(15))\n",
    "bst.delete(15)\n",
    "print(bst.search(15))\n",
    "print(bst.search(19))\n",
    "\n",
    "            "
   ]
  },
  {
   "cell_type": "markdown",
   "metadata": {},
   "source": [
    "### 구현 결과 확인을 위한 코드"
   ]
  },
  {
   "cell_type": "code",
   "execution_count": 2,
   "metadata": {
    "ExecuteTime": {
     "end_time": "2020-04-04T10:21:41.998988Z",
     "start_time": "2020-04-04T10:21:41.982034Z"
    }
   },
   "outputs": [],
   "source": [
    "# 0 ~ 999 숫자 중에서 임의로 100개를 추출해서, 이진 탐색 트리에 입력, 검색, 삭제\n",
    "import random\n",
    "\n",
    "# 0 ~ 999 중, 100 개의 숫자 랜덤 선택\n",
    "bst_nums = set()\n",
    "while len(bst_nums) != 100:\n",
    "    bst_nums.add(random.randint(0, 999))\n",
    "# print (bst_nums)\n",
    "\n",
    "# 선택된 100개의 숫자를 이진 탐색 트리에 입력, 임의로 루트노드는 500을 넣기로 함\n",
    "head = Node(500)\n",
    "binary_tree = BSTree(head)\n",
    "for num in bst_nums:\n",
    "    binary_tree.insert(num)\n",
    "    \n",
    "# 입력한 100개의 숫자 검색 (검색 기능 확인)\n",
    "for num in bst_nums:\n",
    "    if binary_tree.search(num) == False:\n",
    "        print ('search failed', num)\n",
    "\n",
    "# 입력한 100개의 숫자 중 10개의 숫자를 랜덤 선택\n",
    "delete_nums = set()\n",
    "bst_nums = list(bst_nums)\n",
    "while len(delete_nums) != 10:\n",
    "    delete_nums.add(bst_nums[random.randint(0, 99)])\n",
    "\n",
    "# 선택한 10개의 숫자를 삭제 (삭제 기능 확인)\n",
    "for del_num in delete_nums:\n",
    "    if binary_tree.delete(del_num) == False:\n",
    "        print('delete failed', del_num)"
   ]
  },
  {
   "cell_type": "markdown",
   "metadata": {},
   "source": [
    "## 6. 코드 분석"
   ]
  },
  {
   "cell_type": "markdown",
   "metadata": {
    "ExecuteTime": {
     "end_time": "2020-04-04T10:04:31.544746Z",
     "start_time": "2020-04-04T10:04:31.506293Z"
    }
   },
   "source": [
    "### 6.1. 노드 클래스 만들기"
   ]
  },
  {
   "cell_type": "code",
   "execution_count": null,
   "metadata": {
    "ExecuteTime": {
     "end_time": "2020-04-04T10:18:30.204320Z",
     "start_time": "2020-04-04T10:18:30.086637Z"
    }
   },
   "outputs": [],
   "source": [
    "class Node():\n",
    "    def __init__(self, value):\n",
    "        self.value = value\n",
    "        self.left = None\n",
    "        self.right = None\n",
    "    "
   ]
  },
  {
   "cell_type": "markdown",
   "metadata": {},
   "source": [
    "### 6.2 이진 탐색 트리에 데이터 넣기"
   ]
  },
  {
   "cell_type": "code",
   "execution_count": null,
   "metadata": {
    "ExecuteTime": {
     "end_time": "2020-04-04T10:18:30.326424Z",
     "start_time": "2020-04-04T10:18:30.206316Z"
    }
   },
   "outputs": [],
   "source": [
    "class BSTree():\n",
    "    def __init__(self, head):\n",
    "        self.head = head\n",
    "        \n",
    "    def insert(self, value):\n",
    "        self.current_node = self.head\n",
    "        while True:\n",
    "            # 1. 새로 들어온 값이 중앙값보다 작을 경우(왼쪽)\n",
    "            if value < self.current_node.value:\n",
    "                # 1-1.자식 노드가 없을 경우\n",
    "                if self.current_node.left == None:\n",
    "                    self.current_node.left = Node(value)\n",
    "                    break\n",
    "                else:\n",
    "                    # 1-2 자식 노드가 있을 경우 -> 순환\n",
    "                    self.current_node = self.current_node.left\n",
    "            # 2. 새로 들어온 값이 중앙값보다 크거나 같을 경우(오른쪽)\n",
    "            else:\n",
    "                # 2.1 자식 노드가 없을 경우\n",
    "                if self.current_node.right == None:\n",
    "                    self.current_node.right = Node(value)\n",
    "                    break\n",
    "                # 2.2 자식 노드가 있을 경우 -> 순환\n",
    "                else:\n",
    "                    self.current_node = self.current_node.right\n",
    "                    "
   ]
  },
  {
   "cell_type": "markdown",
   "metadata": {},
   "source": [
    "### 6.3 이진 탐색 트리 내 데이터 검색"
   ]
  },
  {
   "cell_type": "code",
   "execution_count": null,
   "metadata": {
    "ExecuteTime": {
     "end_time": "2020-04-04T10:18:30.445647Z",
     "start_time": "2020-04-04T10:18:30.328418Z"
    }
   },
   "outputs": [],
   "source": [
    "    def search(self, value):\n",
    "        self.current_node = self.head\n",
    "        while self.current_node:\n",
    "            if value == self.current_node.value:\n",
    "                return True\n",
    "            elif value < self.current_node.value:\n",
    "                self.current_node = self.current_node.left\n",
    "            else:\n",
    "                self.current_node = self.current_node.right\n",
    "        return False\n",
    "    "
   ]
  },
  {
   "cell_type": "markdown",
   "metadata": {},
   "source": [
    "### 6.4 이진 탐색 트리 내 데이터 삭제\n",
    "#### 삭제를 위한 다양한 경우의 수 고려 필요\n",
    "* 6.4.1 Leaf Node 삭제 \n",
    "* 6.4.2 Child Node 가 하나인 Node 삭제\n",
    "* 6.4.3 Child Node 가 두 개인 Node 삭제"
   ]
  },
  {
   "cell_type": "markdown",
   "metadata": {},
   "source": [
    "#### 6.4.0 삭제할 Node 탐색\n",
    "- 삭제할 Node가 없는 경우도 처리해야 함\n",
    "  - 이를 위해 삭제할 Node가 없는 경우는 False를 리턴하고, 함수를 종료 시킴"
   ]
  },
  {
   "cell_type": "code",
   "execution_count": null,
   "metadata": {
    "ExecuteTime": {
     "end_time": "2020-04-04T10:18:30.566592Z",
     "start_time": "2020-04-04T10:18:30.448639Z"
    }
   },
   "outputs": [],
   "source": [
    "    def delete(self, value):\n",
    "        ## 1. 삭제할 노드까지 찾아가기\n",
    "        searched = False\n",
    "        self.current_node = self.head\n",
    "        self.parent = self.head\n",
    "        while self.current_node:\n",
    "            if value == self.current_node.value:\n",
    "                searched = True\n",
    "                break\n",
    "            elif value < self.current_node.value:\n",
    "                self.parent = self.current_node\n",
    "                self.current_node = self.current_node.left\n",
    "            else:\n",
    "                self.parent = self.current_node\n",
    "                self.current_node = self.current_node.right\n",
    "              \n",
    "        ## 원하는 삭제 노드가 트리에 없음\n",
    "        if searched == False:\n",
    "            return False"
   ]
  },
  {
   "cell_type": "markdown",
   "metadata": {
    "ExecuteTime": {
     "end_time": "2020-04-04T10:13:48.720420Z",
     "start_time": "2020-04-04T10:13:48.714437Z"
    }
   },
   "source": [
    "#### 6.4.1. Case1: 삭제할 Node가 Leaf Node인 경우\n",
    "<img src=\"http://www.fun-coding.org/00_Images/tree_remove_leaf_code.png\" width=\"600\" />"
   ]
  },
  {
   "cell_type": "code",
   "execution_count": null,
   "metadata": {
    "ExecuteTime": {
     "end_time": "2020-04-04T10:18:30.771539Z",
     "start_time": "2020-04-04T10:18:30.568587Z"
    }
   },
   "outputs": [],
   "source": [
    "        ## 2. 노드 삭제\n",
    "        ## 2-1. 삭제할 노드가 Leaf Node일 경우\n",
    "        if self.current_node.left == None and self.current_node.right == None:\n",
    "            ## 삭제 대상 노드의 부모 노드 left edge 끊어버리기\n",
    "            if value < self.parent.value:\n",
    "                self.parent.left = None\n",
    "            ## 삭제 대상 노드의 부모 노드 right edge 끊어버리기\n",
    "            else:\n",
    "                self.parent.right = None\n",
    "            ## 자식 노드 삭제\n",
    "            del self.current_node\n",
    " "
   ]
  },
  {
   "cell_type": "markdown",
   "metadata": {},
   "source": [
    "#### 6.4.2. Case2: 삭제할 Node가 Child Node를 한 개 가지고 있을 경우\n",
    "<img src=\"http://www.fun-coding.org/00_Images/tree_remove_1child_code.png\" width=\"400\" />"
   ]
  },
  {
   "cell_type": "code",
   "execution_count": null,
   "metadata": {
    "ExecuteTime": {
     "end_time": "2020-04-04T10:19:11.320718Z",
     "start_time": "2020-04-04T10:19:11.306756Z"
    }
   },
   "outputs": [],
   "source": [
    "        ## 2-2 삭제할 노드가 자식 노드 하나를 갖고 있는 경우\n",
    "        if self.current_node.left != None and self.current_node.right == None:\n",
    "            if value < self.parent.value:\n",
    "                self.parent.left = self.current_node.left\n",
    "            else:\n",
    "                self.parent.right = self.current_node.left\n",
    "        elif self.current_node.left == None and self.current_node.right != None:\n",
    "            if value < self.parent.value:\n",
    "                self.parent.left = self.current_node.right\n",
    "            else:\n",
    "                self.parent.right = self.current_node.right"
   ]
  },
  {
   "cell_type": "markdown",
   "metadata": {},
   "source": [
    "#### 6.4.3. Case3-1: 삭제할 Node가 Child Node를 두 개 가지고 있을 경우 (삭제할 Node가 Parent Node 왼쪽에 있을 때)\n",
    "* 기본 사용 가능 전략\n",
    "  1. **삭제할 Node의 오른쪽 자식 중, 가장 작은 값을 삭제할 Node의 Parent Node가 가리키도록 한다.**\n",
    "  2. 삭제할 Node의 왼쪽 자식 중, 가장 큰 값을 삭제할 Node의 Parent Node가 가리키도록 한다.\n",
    "* 기본 사용 가능 전략 중, 1번 전략을 사용하여 코드를 구현하기로 함\n",
    "  - 경우의 수가 또다시 두가지가 있음\n",
    "    - **Case3-1-1:** 삭제할 Node가 Parent Node의 왼쪽에 있고, 삭제할 Node의 오른쪽 자식 중, 가장 작은 값을 가진 Node의 Child Node가 없을 때\n",
    "    - **Case3-1-2:** 삭제할 Node가 Parent Node의 왼쪽에 있고, 삭제할 Node의 오른쪽 자식 중, 가장 작은 값을 가진 Node의 오른쪽에 Child Node가 있을 때\n",
    "       - 가장 작은 값을 가진 Node의 Child Node가 왼쪽에 있을 경우는 없음, 왜냐하면 왼쪽 Node가 있다는 것은 해당 Node보다 더 작은 값을 가진 Node가 있다는 뜻이기 때문임\n",
    "\n",
    "\n",
    "<img src=\"http://www.fun-coding.org/00_Images/tree_remove_2child_code_left.png\" width=\"600\" />"
   ]
  },
  {
   "cell_type": "code",
   "execution_count": null,
   "metadata": {
    "ExecuteTime": {
     "end_time": "2020-04-04T10:18:30.777516Z",
     "start_time": "2020-04-04T10:18:29.888Z"
    }
   },
   "outputs": [],
   "source": [
    "        ## 2-3 삭제할 노드가 자식 노드 두개를 갖고 있는 경우\n",
    "        if self.current_node.left != None and self.current_node.right != None: # case3\n",
    "            ## 2-3-1 삭제할 노드가 부모의 왼쪽에 있을 경우\n",
    "            if value < self.parent.value:\n",
    "                # 삭제 노드를 삭제노드의 오른쪽 자식 중에 가장 작은 값으로 대체하기 위한 설정\n",
    "                self.change_node = self.current_node.right\n",
    "                self.change_node_parent = self.current_node.right\n",
    "                # 가장 작은 값으로 내려가자\n",
    "                while self.change_node.left != None:\n",
    "                    self.change_node_parent = self.change_node\n",
    "                    self.change_node = self.change_node.left\n",
    "                \n",
    "                # 2-3-1-1 가장 작은 값의 노드에 오른쪽 자식이 없을 경우\n",
    "                if self.change_node.right == None:\n",
    "                    self.change_node_parent = None\n",
    "                # 2-3-1-2 가장 작은 값의 노드에 오른쪽 자식이 있을 경우\n",
    "                else:\n",
    "                    self.change_node.parent.left = self.change_node.right\n",
    "                self.parent.left = self.change_node\n",
    "                self.change_node.left = self.current_node.left\n",
    "                self.change_node.right = self.current_node.right                    \n",
    "            "
   ]
  },
  {
   "cell_type": "markdown",
   "metadata": {},
   "source": [
    "#### 6.4.3. Case3-2: 삭제할 Node가 Child Node를 두 개 가지고 있을 경우 (삭제할 Node가 Parent Node 오른쪽에 있을 때)\n",
    "* 기본 사용 가능 전략\n",
    "  1. **삭제할 Node의 오른쪽 자식 중, 가장 작은 값을 삭제할 Node의 Parent Node가 가리키도록 한다.**\n",
    "  2. 삭제할 Node의 왼쪽 자식 중, 가장 큰 값을 삭제할 Node의 Parent Node가 가리키도록 한다.\n",
    "* 기본 사용 가능 전략 중, 1번 전략을 사용하여 코드를 구현하기로 함\n",
    "  - 경우의 수가 또다시 두가지가 있음\n",
    "    - **Case3-2-1:** 삭제할 Node가 Parent Node의 오른쪽에 있고, 삭제할 Node의 오른쪽 자식 중, 가장 작은 값을 가진 Node의 Child Node가 없을 때\n",
    "    - **Case3-2-2:** 삭제할 Node가 Parent Node의 오른쪽에 있고, 삭제할 Node의 오른쪽 자식 중, 가장 작은 값을 가진 Node의 오른쪽에 Child Node가 있을 때\n",
    "       - 가장 작은 값을 가진 Node의 Child Node가 왼쪽에 있을 경우는 없음, 왜냐하면 왼쪽 Node가 있다는 것은 해당 Node보다 더 작은 값을 가진 Node가 있다는 뜻이기 때문임\n",
    "\n",
    "\n",
    "<img src=\"http://www.fun-coding.org/00_Images/tree_remove_2child_code_right.png\" width=\"600\" />"
   ]
  },
  {
   "cell_type": "code",
   "execution_count": null,
   "metadata": {
    "ExecuteTime": {
     "end_time": "2020-04-04T10:18:30.779512Z",
     "start_time": "2020-04-04T10:18:29.890Z"
    }
   },
   "outputs": [],
   "source": [
    "            ## 2-3-2 삭제할 노드가 부모의 오른쪽에 있을 경우\n",
    "            else:\n",
    "                # 삭제 노드를 삭제노드의 오른쪽 자식 중에 가장 작은 값으로 대체하기 위한 설\n",
    "                self.change_node = self.current_node.right\n",
    "                self.change_node_parent = self.current_node.right\n",
    "                # 가장 작은 값으로 내려가자\n",
    "                while self.change_node.left != None:\n",
    "                    self.change_node_parent = self.change_node\n",
    "                    self.change_node = self.change_node.left\n",
    "                    \n",
    "                # 2-3-2-1 가장 작은 값의 노드에 오른쪽 자식이 없을 경우\n",
    "                if self.change_node.right == None:\n",
    "                    self.change_node_parent.left = None\n",
    "                # 2-3-2-2 가장 작은 값의 노드에 오른쪽 자식이 있을 경우\n",
    "                else:\n",
    "                    self.change_node_parent.left = self.change_node.right\n",
    "                self.parent.right = self.change_node\n",
    "                self.change_node.left = self.current_node.left\n",
    "                self.change_node.right = self.current_node.right\n",
    "        \n",
    "        return True"
   ]
  }
 ],
 "metadata": {
  "kernelspec": {
   "display_name": "Python 3",
   "language": "python",
   "name": "python3"
  },
  "language_info": {
   "codemirror_mode": {
    "name": "ipython",
    "version": 3
   },
   "file_extension": ".py",
   "mimetype": "text/x-python",
   "name": "python",
   "nbconvert_exporter": "python",
   "pygments_lexer": "ipython3",
   "version": "3.7.6"
  }
 },
 "nbformat": 4,
 "nbformat_minor": 4
}
