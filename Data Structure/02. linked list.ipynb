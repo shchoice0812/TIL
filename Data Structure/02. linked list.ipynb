{
 "cells": [
  {
   "cell_type": "markdown",
   "metadata": {},
   "source": [
    "## Linked List(연결리스트)"
   ]
  },
  {
   "cell_type": "markdown",
   "metadata": {},
   "source": [
    "### 1. Linked List의 구조\n",
    "* 배열은 순차적으로 연결된 공간에 데이터를 나열하는 구조\n",
    "* 링크드 리스트는 메모리 내에서 흩어져 있는 데이터가 포인터로 연결해서 관리하는 자료구조이다.\n",
    "* Linked List의 기본 주조와 용어\n",
    "    * 노드(Node) : 데이터의 저장 단위(데이터값, 포인터) 로 구성된다.\n",
    "    * 포인터(Pointer) : 각 노드 안에서, 다음이나 이전의 노드와의 연결정보를 가지고 있는 공간\n",
    "* 일반적인 Linked List의 형태\n",
    "<br>\n",
    "<img src=\"https://www.fun-coding.org/00_Images/linkedlist.png\" />\n",
    "<br>\n",
    "(출처: wikipedia, https://en.wikipedia.org/wiki/Linked_list)"
   ]
  },
  {
   "cell_type": "markdown",
   "metadata": {},
   "source": [
    "### 2. Linked List의 장단점\n",
    "* 장점 : \n",
    "    1. Linked List의 길이를 동적으로 조절이 가능(데이터 공간 미리 할당 않아도 됨)\n",
    "    2. 데이터의 삽입과 삭제가 쉬움\n",
    "* 단점 : \n",
    "    1. 임의의 노드에 바로 접근할 수가 없어 접근 속도가 느림\n",
    "    2. 다음 노드의 위치를 저장하기 위한 추가 공간이 필요하여 저장 효율이 높지 않음\n",
    "    3. Cache Loyality를 활용해 근접 데이터를 사전에 캐시에 저장하기 어려움\n",
    "    4. 거꾸로 탐색하기 어려움\n",
    "    5. 중간 데이터 Update(추가, 삭제) 시 데이터의 연결을 재구성해야하는 부가적 코딩 필요\n",
    "    \n",
    "    cf) cache loyality : 대부분 프로그램은 한번 사용한 데이터를 다시 사용할 가능성이 높고, 그 주변의 데이터도 곧 사용할 가능성이 높은 데이터 지역성을 가지고 있다. 데이터 지역성을 활용하여 메인 메모리에 있는 데이터를 캐시 메모리에 불러와 두고 CPU가 필요한 데이터를 캐시에서 먼저 찾도록 하면 시스템 성능을 향상시킬 수 있다.\n",
    "    "
   ]
  },
  {
   "cell_type": "markdown",
   "metadata": {},
   "source": [
    "## 3. Simple Linked_list - Node 가 무엇인지 알아보기\n",
    "#### 가. 구현해볼 Node\n",
    "![LinkedList Node](./datas/02.LinkedList-node.png)"
   ]
  },
  {
   "cell_type": "code",
   "execution_count": 7,
   "metadata": {
    "ExecuteTime": {
     "end_time": "2020-03-08T08:04:16.203392Z",
     "start_time": "2020-03-08T08:04:16.196413Z"
    }
   },
   "outputs": [],
   "source": [
    "class Node:\n",
    "    def __init__(self, data, next=None):\n",
    "        self.data = data\n",
    "        self.next = next\n",
    "\n",
    "node1 = Node(30)\n",
    "head = node1\n",
    "node2 = Node(20)\n",
    "node1.next = node2\n",
    "node3 = Node(50)\n",
    "node2.next = node3"
   ]
  },
  {
   "cell_type": "markdown",
   "metadata": {},
   "source": [
    "#### 나. Linked list append 기능 추가"
   ]
  },
  {
   "cell_type": "code",
   "execution_count": 11,
   "metadata": {
    "ExecuteTime": {
     "end_time": "2020-03-08T11:53:50.904706Z",
     "start_time": "2020-03-08T11:53:50.897686Z"
    }
   },
   "outputs": [],
   "source": [
    "class Node:\n",
    "    def __init__(self, data, next=None):\n",
    "        self.data = data\n",
    "        self.next = next\n",
    "        \n",
    "def append(data):\n",
    "    node = head\n",
    "    while node.next:\n",
    "        node = node.next\n",
    "    node.next = Node(data)"
   ]
  },
  {
   "cell_type": "code",
   "execution_count": 12,
   "metadata": {
    "ExecuteTime": {
     "end_time": "2020-03-08T11:53:51.348299Z",
     "start_time": "2020-03-08T11:53:51.343277Z"
    }
   },
   "outputs": [],
   "source": [
    "my_node1 = Node(1)\n",
    "head = my_node1\n",
    "for i in range(2, 10):\n",
    "    append(i)"
   ]
  },
  {
   "cell_type": "code",
   "execution_count": 16,
   "metadata": {
    "ExecuteTime": {
     "end_time": "2020-03-08T12:00:49.209700Z",
     "start_time": "2020-03-08T12:00:49.203716Z"
    }
   },
   "outputs": [
    {
     "name": "stdout",
     "output_type": "stream",
     "text": [
      "1\n",
      "2\n",
      "3\n",
      "4\n",
      "5\n",
      "6\n",
      "7\n",
      "8\n",
      "9\n"
     ]
    }
   ],
   "source": [
    "node = head\n",
    "while node.next:\n",
    "    print(node.data)\n",
    "    node = node.next\n",
    "# 마지막 노드는 while문에 속하지 않기 때문에 별도 처리 필요\n",
    "print(node.data)"
   ]
  },
  {
   "cell_type": "code",
   "execution_count": 64,
   "metadata": {
    "ExecuteTime": {
     "end_time": "2020-03-08T15:47:44.382416Z",
     "start_time": "2020-03-08T15:47:44.354491Z"
    }
   },
   "outputs": [
    {
     "name": "stdout",
     "output_type": "stream",
     "text": [
      "init : 30\n",
      "init : 30\n",
      "init : None\n",
      "\n",
      "a\n",
      "data1 :  40\n",
      "data1 :  None\n",
      "data3 :  40\n",
      "data3 :  <__main__.Node object at 0x0000024342BD1EC8>\n",
      "\n",
      "b\n",
      "[30, 40]\n",
      "\n",
      "c\n",
      "data1 :  20\n",
      "data1 :  <__main__.Node object at 0x0000024342BD1EC8>\n",
      "data2 :  30\n",
      "data2 :  None\n",
      "data3 :  20\n",
      "data3 :  <__main__.Node object at 0x0000024342C25E08>\n",
      "\n",
      "d\n",
      "data1 :  50\n",
      "data1 :  <__main__.Node object at 0x0000024342BD1EC8>\n",
      "data2 :  30\n",
      "data2 :  <__main__.Node object at 0x0000024342C25E08>\n",
      "data2 :  40\n",
      "data2 :  None\n",
      "data3 :  50\n",
      "data3 :  <__main__.Node object at 0x0000024342C15308>\n",
      "\n",
      "e\n",
      "[30, 40, 20, 50]\n",
      "\n",
      "f\n"
     ]
    }
   ],
   "source": [
    "class Node():\n",
    "    def __init__(self, data, next=None):\n",
    "        self.data = data\n",
    "        self.next = next\n",
    "        \n",
    "class LinkedList():\n",
    "    def __init__(self, data):\n",
    "        self.data = data\n",
    "        self.head = Node(data)\n",
    "        print(\"init :\", self.data)\n",
    "        print(\"init :\", self.head.data)\n",
    "        print(\"init :\", self.head.next)\n",
    "        \n",
    "    def putItem(self, data):\n",
    "        if self.head == \"\":\n",
    "            self.head = Node(data)\n",
    "        else:\n",
    "            print(\"data1 : \", data)\n",
    "            node = self.head\n",
    "            print(\"data1 : \", node.next)\n",
    "            while node.next:\n",
    "                print(\"data2 : \", node.data)\n",
    "                node = node.next\n",
    "                print(\"data2 : \", node.next)\n",
    "            print(\"data3 : \", data)\n",
    "            node.next = Node(data)\n",
    "            print(\"data3 : \", node.next)\n",
    "        \n",
    "    def findAllItem(self):\n",
    "        node = self.head\n",
    "        data = []\n",
    "        while node:\n",
    "            data.append(node.data)\n",
    "            node = node.next\n",
    "        print(data)\n",
    "            \n",
    "my_linked_list = LinkedList(30)\n",
    "print()\n",
    "print(\"a\")\n",
    "my_linked_list.putItem(40)\n",
    "print()\n",
    "print(\"b\")\n",
    "my_linked_list.findAllItem()\n",
    "print()\n",
    "print(\"c\")\n",
    "my_linked_list.putItem(20)\n",
    "print()\n",
    "print(\"d\")\n",
    "my_linked_list.putItem(50)\n",
    "print()\n",
    "print(\"e\")\n",
    "my_linked_list.findAllItem()\n",
    "print()\n",
    "print(\"f\")"
   ]
  },
  {
   "cell_type": "markdown",
   "metadata": {},
   "source": [
    "#### 다. 삭제 : head 삭제, 마지막 노드 삭제, 중간 노드 삭제"
   ]
  },
  {
   "cell_type": "code",
   "execution_count": 101,
   "metadata": {
    "ExecuteTime": {
     "end_time": "2020-03-08T18:19:37.803935Z",
     "start_time": "2020-03-08T18:19:37.790970Z"
    }
   },
   "outputs": [],
   "source": [
    "class Node():\n",
    "    def __init__(self, data, next=None):\n",
    "        self.data = data\n",
    "        self.next = next\n",
    "\n",
    "class LinkedList():\n",
    "    def __init__(self, data):\n",
    "        self.head = Node(data)\n",
    "    \n",
    "    def putItem(self, data):\n",
    "        if self.head == '':\n",
    "            self.head = Node(data)\n",
    "        else:\n",
    "            node = self.head\n",
    "            while node.next != None:\n",
    "                node = node.next\n",
    "            node.next = Node(data)\n",
    "    \n",
    "    def findAllItem(self):\n",
    "        node = self.head\n",
    "        data = []\n",
    "        while node:\n",
    "            data.append(node.data)\n",
    "            node = node.next\n",
    "        print(data)\n",
    "            \n",
    "    def deleteItem(self, data):\n",
    "        if head == None:\n",
    "            print(\"Linked List is empty\")\n",
    "            return\n",
    "        else:\n",
    "            node = self.head\n",
    "            # 삭제 데이터가 head일 경우\n",
    "            if self.head.data == data:\n",
    "                temp = self.head\n",
    "                self.head = node.next\n",
    "                del temp\n",
    "            else:\n",
    "                # 중간 노드 삭제 시 ->  1. 앞 노드의 next가 뒤 노드를 가리켜야함, 2. 중간노드 삭제 \n",
    "                while node.next:\n",
    "                    if node.next.data == data:\n",
    "                        temp = node.next\n",
    "                        node.next = node.next.next\n",
    "                        del temp\n",
    "                        return\n",
    "                    else:\n",
    "                        node = node.next"
   ]
  },
  {
   "cell_type": "markdown",
   "metadata": {},
   "source": [
    "#### 첫번째 노드 삭제"
   ]
  },
  {
   "cell_type": "code",
   "execution_count": 102,
   "metadata": {
    "ExecuteTime": {
     "end_time": "2020-03-08T18:19:38.660174Z",
     "start_time": "2020-03-08T18:19:38.653156Z"
    }
   },
   "outputs": [
    {
     "name": "stdout",
     "output_type": "stream",
     "text": [
      "[30, 40, 20, 50]\n",
      "[40, 20, 50]\n"
     ]
    }
   ],
   "source": [
    "my_linked_list = LinkedList(30)\n",
    "my_linked_list.putItem(40)\n",
    "my_linked_list.putItem(20)\n",
    "my_linked_list.putItem(50)\n",
    "my_linked_list.findAllItem()\n",
    "\n",
    "my_linked_list.deleteItem(30)\n",
    "my_linked_list.findAllItem()"
   ]
  },
  {
   "cell_type": "markdown",
   "metadata": {},
   "source": [
    "#### 중간노드 삭제"
   ]
  },
  {
   "cell_type": "code",
   "execution_count": 103,
   "metadata": {
    "ExecuteTime": {
     "end_time": "2020-03-08T18:19:39.601388Z",
     "start_time": "2020-03-08T18:19:39.595369Z"
    }
   },
   "outputs": [
    {
     "name": "stdout",
     "output_type": "stream",
     "text": [
      "[30, 40, 20, 50]\n",
      "[30, 40, 50]\n"
     ]
    }
   ],
   "source": [
    "my_linked_list = LinkedList(30)\n",
    "my_linked_list.putItem(40)\n",
    "my_linked_list.putItem(20)\n",
    "my_linked_list.putItem(50)\n",
    "my_linked_list.findAllItem()\n",
    "\n",
    "my_linked_list.deleteItem(20)\n",
    "my_linked_list.findAllItem()"
   ]
  },
  {
   "cell_type": "markdown",
   "metadata": {},
   "source": [
    "#### 마지막 노드 삭제"
   ]
  },
  {
   "cell_type": "code",
   "execution_count": 104,
   "metadata": {
    "ExecuteTime": {
     "end_time": "2020-03-08T18:19:41.808672Z",
     "start_time": "2020-03-08T18:19:41.803680Z"
    }
   },
   "outputs": [
    {
     "name": "stdout",
     "output_type": "stream",
     "text": [
      "[30, 40, 20, 50]\n",
      "[30, 40, 20]\n"
     ]
    }
   ],
   "source": [
    "my_linked_list = LinkedList(30)\n",
    "my_linked_list.putItem(40)\n",
    "my_linked_list.putItem(20)\n",
    "my_linked_list.putItem(50)\n",
    "my_linked_list.findAllItem()\n",
    "\n",
    "my_linked_list.deleteItem(50)\n",
    "my_linked_list.findAllItem()"
   ]
  },
  {
   "cell_type": "markdown",
   "metadata": {},
   "source": [
    "#### 라. 특정 값 search 기능 구현"
   ]
  },
  {
   "cell_type": "code",
   "execution_count": 117,
   "metadata": {
    "ExecuteTime": {
     "end_time": "2020-03-08T18:32:13.467640Z",
     "start_time": "2020-03-08T18:32:13.447729Z"
    }
   },
   "outputs": [],
   "source": [
    "class Node():\n",
    "    def __init__(self, data, next=None):\n",
    "        self.data = data\n",
    "        self.next = next\n",
    "\n",
    "class LinkedList():\n",
    "    def __init__(self, data):\n",
    "        self.head = Node(data)\n",
    "    \n",
    "    def putItem(self, data):\n",
    "        if self.head == '':\n",
    "            self.head = Node(data)\n",
    "        else:\n",
    "            node = self.head\n",
    "            while node.next != None:\n",
    "                node = node.next\n",
    "            node.next = Node(data)\n",
    "    \n",
    "    def findAllItem(self):\n",
    "        node = self.head\n",
    "        data = []\n",
    "        while node:\n",
    "            data.append(node.data)\n",
    "            node = node.next\n",
    "        print(data)\n",
    "            \n",
    "    def deleteItem(self, data):\n",
    "        if head == None:\n",
    "            print(\"Linked List is empty\")\n",
    "            return\n",
    "        else:\n",
    "            node = self.head\n",
    "            # 삭제 데이터가 head일 경우\n",
    "            if self.head.data == data:\n",
    "                temp = self.head\n",
    "                self.head = node.next\n",
    "                del temp\n",
    "            else:\n",
    "                # 중간 노드 삭제 시 ->  1. 앞 노드의 next가 뒤 노드를 가리켜야함, 2. 중간노드 삭제 \n",
    "                while node.next:\n",
    "                    if node.next.data == data:\n",
    "                        temp = node.next\n",
    "                        node.next = node.next.next\n",
    "                        del temp\n",
    "                        return\n",
    "                    else:\n",
    "                        node = node.next\n",
    "                        \n",
    "    def searchItem(self, data):\n",
    "        if self.head.data == data:\n",
    "            return self.head.data\n",
    "        else:\n",
    "            node = self.head\n",
    "            while node.next:\n",
    "                if(node.next.data == data):\n",
    "                    return node.next.data\n",
    "                else:\n",
    "                    node = node.next\n",
    "            print(f\"{data} is not in linked list\")"
   ]
  },
  {
   "cell_type": "code",
   "execution_count": 125,
   "metadata": {
    "ExecuteTime": {
     "end_time": "2020-03-08T18:33:32.220280Z",
     "start_time": "2020-03-08T18:33:32.212338Z"
    }
   },
   "outputs": [
    {
     "name": "stdout",
     "output_type": "stream",
     "text": [
      "[30, 40, 20, 50]\n",
      "50\n",
      "70 is not in linked list\n",
      "None\n",
      "30\n"
     ]
    }
   ],
   "source": [
    "my_linked_list = LinkedList(30)\n",
    "my_linked_list.putItem(40)\n",
    "my_linked_list.putItem(20)\n",
    "my_linked_list.putItem(50)\n",
    "my_linked_list.findAllItem()\n",
    "\n",
    "print(my_linked_list.searchItem(50))\n",
    "print(my_linked_list.searchItem(70))\n",
    "print(my_linked_list.searchItem(30))"
   ]
  },
  {
   "cell_type": "markdown",
   "metadata": {},
   "source": [
    "### 4. Double Linked List \n",
    "* 더블 링크드 리스트(Doubly linked list) 기본 구조 \n",
    "  - 이중 연결 리스트라고도 함\n",
    "  - 장점: 양방향으로 연결되어 있어서 노드 탐색이 양쪽으로 모두 가능\n",
    "  <br>\n",
    "  <img src=\"https://www.fun-coding.org/00_Images/doublelinkedlist.png\" />\n",
    "(출처: wikipedia, https://en.wikipedia.org/wiki/Linked_list)"
   ]
  },
  {
   "cell_type": "code",
   "execution_count": 23,
   "metadata": {
    "ExecuteTime": {
     "end_time": "2020-03-14T16:04:45.134663Z",
     "start_time": "2020-03-14T16:04:45.116712Z"
    }
   },
   "outputs": [],
   "source": [
    "class Node():\n",
    "    def __init__(self, data, next=None, prev=None):\n",
    "        self.data = data\n",
    "        self.next = next\n",
    "        self.prev = prev\n",
    "        \n",
    "class DoubleLinkedList():\n",
    "    def __init__(self, data):\n",
    "        self.head = Node(data)\n",
    "        self.tail = self.head\n",
    "        \n",
    "    def putItem(self, data):\n",
    "        node = self.head\n",
    "        while node.next:\n",
    "            node = node.next\n",
    "        new_node = Node(data)\n",
    "        node.next = new_node\n",
    "        new_node.prev = node\n",
    "        self.tail = new_node\n",
    "\n",
    "    def findAllItem(self):\n",
    "        node = self.head\n",
    "        print(node.data)\n",
    "        while node.next:\n",
    "            node = node.next\n",
    "            print(node.data)\n",
    "            \n",
    "    def after_insert_putItem(self, data, after_data):\n",
    "        node = self.head\n",
    "        if self.head == after_data:\n",
    "            new_node = node.next\n",
    "            node.next = new_node\n",
    "            new_node.prev = node\n",
    "        else:\n",
    "            node = self.head\n",
    "            while node.next:\n",
    "                node = node.next\n",
    "                if node.data == after_data:\n",
    "                    print(\"11\")\n",
    "                    break\n",
    "            new_node = Node(data)\n",
    "            # 뒤 데이터 연결\n",
    "            node.prev = new_node\n",
    "            new_node.next = node.next\n",
    "            # 앞 데이터 처리\n",
    "            new_node.prev = node\n",
    "            node.next = new_node\n",
    "        "
   ]
  },
  {
   "cell_type": "code",
   "execution_count": 24,
   "metadata": {
    "ExecuteTime": {
     "end_time": "2020-03-14T16:04:45.488716Z",
     "start_time": "2020-03-14T16:04:45.481736Z"
    }
   },
   "outputs": [
    {
     "name": "stdout",
     "output_type": "stream",
     "text": [
      "abc\n",
      "def\n",
      "gef\n",
      "\n",
      "11\n",
      "abc\n",
      "def\n",
      "111\n",
      "gef\n"
     ]
    }
   ],
   "source": [
    "dl = DoubleLinkedList(\"abc\")\n",
    "dl.putItem(\"def\")\n",
    "dl.putItem(\"gef\")\n",
    "dl.findAllItem()\n",
    "print()\n",
    "dl.after_insert_putItem(\"111\", \"def\")\n",
    "dl.findAllItem()"
   ]
  },
  {
   "cell_type": "code",
   "execution_count": null,
   "metadata": {},
   "outputs": [],
   "source": []
  }
 ],
 "metadata": {
  "kernelspec": {
   "display_name": "Python 3",
   "language": "python",
   "name": "python3"
  },
  "language_info": {
   "codemirror_mode": {
    "name": "ipython",
    "version": 3
   },
   "file_extension": ".py",
   "mimetype": "text/x-python",
   "name": "python",
   "nbconvert_exporter": "python",
   "pygments_lexer": "ipython3",
   "version": "3.7.6"
  }
 },
 "nbformat": 4,
 "nbformat_minor": 4
}
