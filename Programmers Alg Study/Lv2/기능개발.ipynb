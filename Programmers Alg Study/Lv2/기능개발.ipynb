{
 "cells": [
  {
   "cell_type": "markdown",
   "metadata": {},
   "source": [
    "## 문제 설명\n",
    "![기능개발](https://user-images.githubusercontent.com/60699771/81562937-96296f80-93d0-11ea-9de9-528c44d10e43.png)"
   ]
  },
  {
   "cell_type": "markdown",
   "metadata": {},
   "source": [
    "## 문제 풀이 로직 \n",
    "1. 각각의 공정들을 현재 진행량 과 향후 진행률 모두 더하게된다.\n",
    "2. 큐를 사용하여 가장 앞의 공정이 100을 넘기면 pop을 수행한다.\n",
    "3. pop 수행시 counter(day)가 1개씩 추가된다.\n",
    "4. counter(day)가 0이 아니면 answer에 push 한다."
   ]
  },
  {
   "cell_type": "code",
   "execution_count": 40,
   "metadata": {
    "ExecuteTime": {
     "end_time": "2020-05-11T12:46:33.202548Z",
     "start_time": "2020-05-11T12:46:33.186582Z"
    }
   },
   "outputs": [],
   "source": [
    "def solution(progresses, speeds):\n",
    "    answer = []\n",
    "    while progresses:\n",
    "        day = 0\n",
    "        # 1. 각각의 공정들을 현재 진행량 과 향후 진행률 모두 더하게된다.\n",
    "        for i in range(len(progresses)):\n",
    "            progresses[i] = progresses[i] + speeds[i]\n",
    "            \n",
    "        # 2. 큐를 사용하여 가장 앞의 공정이 100을 넘기면 pop을 수행한다.\n",
    "        # 3. pop 수행시 counter가 1개씩 추가된다.\n",
    "        while progresses and progresses[0] >= 100:\n",
    "            progresses.pop(0)\n",
    "            speeds.pop(0)\n",
    "            day += 1\n",
    "            \n",
    "        # 4. counter(day)가 0이 아니면 answer에 push 한다.\n",
    "        if day:\n",
    "            answer.append(day)\n",
    "        \n",
    "    return answer"
   ]
  },
  {
   "cell_type": "code",
   "execution_count": 41,
   "metadata": {
    "ExecuteTime": {
     "end_time": "2020-05-11T12:46:38.381683Z",
     "start_time": "2020-05-11T12:46:38.373705Z"
    }
   },
   "outputs": [
    {
     "data": {
      "text/plain": [
       "[2, 1]"
      ]
     },
     "execution_count": 41,
     "metadata": {},
     "output_type": "execute_result"
    }
   ],
   "source": [
    "progresses = [93, 30, 55]\n",
    "speeds = [1, 30, 5]\n",
    "\n",
    "answer = solution(progresses, speeds)\n",
    "answer"
   ]
  },
  {
   "cell_type": "code",
   "execution_count": null,
   "metadata": {},
   "outputs": [],
   "source": []
  }
 ],
 "metadata": {
  "kernelspec": {
   "display_name": "Python 3",
   "language": "python",
   "name": "python3"
  },
  "language_info": {
   "codemirror_mode": {
    "name": "ipython",
    "version": 3
   },
   "file_extension": ".py",
   "mimetype": "text/x-python",
   "name": "python",
   "nbconvert_exporter": "python",
   "pygments_lexer": "ipython3",
   "version": "3.7.6"
  }
 },
 "nbformat": 4,
 "nbformat_minor": 4
}
