{
 "cells": [
  {
   "cell_type": "markdown",
   "metadata": {},
   "source": [
    "# 문제 (124 나라의 숫자)\n",
    "https://programmers.co.kr/learn/courses/30/lessons/12899\n",
    "![124](https://user-images.githubusercontent.com/60699771/80916055-44119a00-8d91-11ea-87fa-80eacbcc7153.png)"
   ]
  },
  {
   "cell_type": "markdown",
   "metadata": {},
   "source": [
    "## 관련 아이디어\n",
    "1. 10진법을 3진법으로 표현하기\n",
    "2. 나머지 0,1,2 를 1,2,4로 표현\n",
    "3. 3, 6, 9 등 3으로 나누어 떨어질 때, n-1 별도 처리 "
   ]
  },
  {
   "cell_type": "markdown",
   "metadata": {},
   "source": [
    "## 해결을 위한 기본 문제 이해 (10진법을 3진법으로 바꾸기)"
   ]
  },
  {
   "cell_type": "code",
   "execution_count": 1,
   "metadata": {
    "ExecuteTime": {
     "end_time": "2020-05-03T13:48:26.185301Z",
     "start_time": "2020-05-03T13:48:22.470233Z"
    }
   },
   "outputs": [
    {
     "name": "stdout",
     "output_type": "stream",
     "text": [
      "10\n",
      "101\n"
     ]
    }
   ],
   "source": [
    "n=int(input())\n",
    "answer = ''\n",
    "while n > 0:\n",
    "    n, r = divmod(n, 3)\n",
    "    if r == 0:\n",
    "        answer = '0' + answer\n",
    "    elif r == 1:\n",
    "        answer = '1' + answer\n",
    "    else:\n",
    "        answer ='2' + answer\n",
    "print(answer)"
   ]
  },
  {
   "cell_type": "markdown",
   "metadata": {},
   "source": [
    "# 정답 풀이"
   ]
  },
  {
   "cell_type": "code",
   "execution_count": 2,
   "metadata": {
    "ExecuteTime": {
     "end_time": "2020-05-03T13:48:27.861816Z",
     "start_time": "2020-05-03T13:48:26.188291Z"
    }
   },
   "outputs": [
    {
     "name": "stdout",
     "output_type": "stream",
     "text": [
      "10\n",
      "41\n",
      "<class 'str'>\n"
     ]
    }
   ],
   "source": [
    "n=int(input())\n",
    "answer = ''\n",
    "while n > 0:\n",
    "    n, r = divmod(n, 3)\n",
    "    if r == 0:\n",
    "        answer = '4' + answer\n",
    "        n-=1\n",
    "    elif r == 1:\n",
    "        answer = '1' + answer\n",
    "    else:\n",
    "        answer ='2' + answer\n",
    "print(answer)\n",
    "print(type(answer))"
   ]
  },
  {
   "cell_type": "markdown",
   "metadata": {},
   "source": [
    "## 최종 정답 제출"
   ]
  },
  {
   "cell_type": "code",
   "execution_count": 3,
   "metadata": {
    "ExecuteTime": {
     "end_time": "2020-05-03T13:48:27.874782Z",
     "start_time": "2020-05-03T13:48:27.865805Z"
    }
   },
   "outputs": [],
   "source": [
    "def solution(n):\n",
    "    answer = ''\n",
    "    while n > 0:\n",
    "        n, r = divmod(n, 3)\n",
    "        if r == 0:\n",
    "            answer = '4' + answer\n",
    "            n-=1\n",
    "        elif r == 1:\n",
    "            answer = '1' + answer\n",
    "        else:\n",
    "            answer ='2' + answer\n",
    "    return answer"
   ]
  }
 ],
 "metadata": {
  "kernelspec": {
   "display_name": "Python 3",
   "language": "python",
   "name": "python3"
  },
  "language_info": {
   "codemirror_mode": {
    "name": "ipython",
    "version": 3
   },
   "file_extension": ".py",
   "mimetype": "text/x-python",
   "name": "python",
   "nbconvert_exporter": "python",
   "pygments_lexer": "ipython3",
   "version": "3.7.6"
  }
 },
 "nbformat": 4,
 "nbformat_minor": 4
}
