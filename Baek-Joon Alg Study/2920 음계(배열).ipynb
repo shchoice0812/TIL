{
 "cells": [
  {
   "cell_type": "markdown",
   "metadata": {},
   "source": [
    "<img src=./2920_1.png>"
   ]
  },
  {
   "cell_type": "code",
   "execution_count": 10,
   "metadata": {
    "ExecuteTime": {
     "end_time": "2020-03-24T21:04:03.145464Z",
     "start_time": "2020-03-24T21:04:02.315143Z"
    }
   },
   "outputs": [
    {
     "name": "stdout",
     "output_type": "stream",
     "text": [
      "8 1 7 2 6 3 5 4\n",
      "mixed\n"
     ]
    }
   ],
   "source": [
    "num_input = list(map(int,input().split(' ')))\n",
    "\n",
    "flag_ascending = True\n",
    "flag_descending = True\n",
    "flag_mixed = False\n",
    "\n",
    "for i in range(len(num_input)-1):\n",
    "    if num_input[i] - num_input[i+1] < 0:\n",
    "        flag_descending = False\n",
    "    elif num_input[i] - num_input[i+1] > 0:\n",
    "        flag_ascending = False\n",
    "        \n",
    "if flag_ascending == True:\n",
    "    print(\"ascending\")\n",
    "elif flag_descending == True:\n",
    "    print(\"descending\")\n",
    "else:\n",
    "    print(\"mixed\")\n",
    "        "
   ]
  },
  {
   "cell_type": "markdown",
   "metadata": {},
   "source": [
    "<img src=./2920_2.png>"
   ]
  }
 ],
 "metadata": {
  "kernelspec": {
   "display_name": "Python 3",
   "language": "python",
   "name": "python3"
  },
  "language_info": {
   "codemirror_mode": {
    "name": "ipython",
    "version": 3
   },
   "file_extension": ".py",
   "mimetype": "text/x-python",
   "name": "python",
   "nbconvert_exporter": "python",
   "pygments_lexer": "ipython3",
   "version": "3.7.6"
  }
 },
 "nbformat": 4,
 "nbformat_minor": 4
}
