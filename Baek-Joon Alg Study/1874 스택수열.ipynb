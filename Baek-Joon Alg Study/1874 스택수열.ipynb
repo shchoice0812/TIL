{
 "cells": [
  {
   "cell_type": "markdown",
   "metadata": {},
   "source": [
    "# 백준 1874번 스택수열\n",
    "### 문제\n",
    "---\n",
    "스택 (stack)은 기본적인 자료구조 중 하나로, 컴퓨터 프로그램을 작성할 때 자주 이용되는 개념이다. 스택은 자료를 넣는 (push) 입구와 자료를 뽑는 (pop) 입구가 같아 제일 나중에 들어간 자료가 제일 먼저 나오는 (LIFO, Last in First out) 특성을 가지고 있다.\n",
    "\n",
    "1부터 n까지의 수를 스택에 넣었다가 뽑아 늘어놓음으로써, 하나의 수열을 만들 수 있다. 이때, 스택에 push하는 순서는 반드시 오름차순을 지키도록 한다고 하자. 임의의 수열이 주어졌을 때 스택을 이용해 그 수열을 만들 수 있는지 없는지, 있다면 어떤 순서로 push와 pop 연산을 수행해야 하는지를 알아낼 수 있다. 이를 계산하는 프로그램을 작성하라.\n",
    "\n",
    "### 입력\n",
    "---\n",
    "첫 줄에 n (1 ≤ n ≤ 100,000)이 주어진다. 둘째 줄부터 n개의 줄에는 수열을 이루는 1이상 n이하의 정수가 하나씩 순서대로 주어진다. 물론 같은 정수가 두 번 나오는 일은 없다.\n",
    "\n",
    "### 출력\n",
    "---\n",
    "입력된 수열을 만들기 위해 필요한 연산을 한 줄에 한 개씩 출력한다. push연산은 +로, pop 연산은 -로 표현하도록 한다. 불가능한 경우 NO를 출력한다."
   ]
  },
  {
   "cell_type": "code",
   "execution_count": null,
   "metadata": {
    "ExecuteTime": {
     "start_time": "2020-04-02T18:39:58.276Z"
    }
   },
   "outputs": [],
   "source": [
    "class Stack:\n",
    "    def __init__(self):\n",
    "        self.list = []\n",
    "        self.len = 0\n",
    "    def push(self, item):\n",
    "        self.list.append(item)\n",
    "        #print(self.list)\n",
    "        #print(self.list[-1])\n",
    "        self.len += 1\n",
    "    def pop(self):\n",
    "        self.list.pop()\n",
    "        #print(self.list)\n",
    "        self.len -= 1\n",
    "    def top(self):\n",
    "        return self.list[-1]\n",
    "        \n",
    "    \n",
    "stack = Stack()\n",
    "total = int(input())\n",
    "count = 1\n",
    "result = []\n",
    "\n",
    "for i in range(total):\n",
    "    num = int(input())\n",
    "    while count <= num:\n",
    "        stack.push(count)\n",
    "        count += 1\n",
    "        result.append(\"+\")\n",
    "    if stack.top() == num:\n",
    "        stack.pop()\n",
    "        result.append(\"-\")\n",
    "    else:\n",
    "        print(\"NO\")\n",
    "        exit(0)\n",
    "        \n",
    "print(\"\\n\".join(result))"
   ]
  },
  {
   "cell_type": "code",
   "execution_count": null,
   "metadata": {
    "ExecuteTime": {
     "start_time": "2020-04-02T18:44:46.137Z"
    }
   },
   "outputs": [
    {
     "name": "stdout",
     "output_type": "stream",
     "text": [
      "8\n",
      "4\n",
      "3\n",
      "6\n",
      "7\n",
      "3\n",
      "NO\n"
     ]
    }
   ],
   "source": [
    "stack = []\n",
    "total = int(input())\n",
    "count = 1\n",
    "result = []\n",
    "\n",
    "for i in range(total):\n",
    "    num = int(input())\n",
    "    while count <= num:\n",
    "        stack.append(count)\n",
    "        count += 1\n",
    "        result.append(\"+\")\n",
    "    if stack[-1]  == num:\n",
    "        stack.pop()\n",
    "        result.append(\"-\")\n",
    "    else:\n",
    "        print(\"NO\")\n",
    "        exit(0)\n",
    "        \n",
    "print(\"\\n\".join(result))"
   ]
  },
  {
   "cell_type": "markdown",
   "metadata": {
    "ExecuteTime": {
     "end_time": "2020-04-02T18:26:19.485547Z",
     "start_time": "2020-04-02T18:21:07.004387Z"
    }
   },
   "source": [
    "##### n = int(input())\n",
    "count = 1\n",
    "stack = []\n",
    "result = []\n",
    "for i in range(1, n + 1):  # 데이터 개수만큼 반복\n",
    "    data = int(input())\n",
    "    while count <= data:  # 입력 받은 데이터에 도달할 때까지 삽입\n",
    "        stack.append(count)\n",
    "        count += 1\n",
    "        result.append('+')\n",
    "        print(\"+\")\n",
    "    if stack[-1] == data:  # 스택의 최상위 원소가 데이터와 같을 때 출력\n",
    "        stack.pop()\n",
    "        result.append('-')\n",
    "        print(\"-\")\n",
    "    else:  # 불가능한 경우\n",
    "        print('NO')\n",
    "        exit(0)\n",
    "\n",
    "print('\\n'.join(result))  # 가능한 경우"
   ]
  },
  {
   "cell_type": "code",
   "execution_count": null,
   "metadata": {},
   "outputs": [],
   "source": []
  }
 ],
 "metadata": {
  "kernelspec": {
   "display_name": "Python 3",
   "language": "python",
   "name": "python3"
  },
  "language_info": {
   "codemirror_mode": {
    "name": "ipython",
    "version": 3
   },
   "file_extension": ".py",
   "mimetype": "text/x-python",
   "name": "python",
   "nbconvert_exporter": "python",
   "pygments_lexer": "ipython3",
   "version": "3.7.6"
  }
 },
 "nbformat": 4,
 "nbformat_minor": 4
}
