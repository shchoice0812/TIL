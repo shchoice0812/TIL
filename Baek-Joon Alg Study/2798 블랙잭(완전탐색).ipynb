{
 "cells": [
  {
   "cell_type": "markdown",
   "metadata": {},
   "source": [
    "<img src=2798_1.png>"
   ]
  },
  {
   "cell_type": "code",
   "execution_count": 22,
   "metadata": {
    "ExecuteTime": {
     "end_time": "2020-03-27T22:10:57.498993Z",
     "start_time": "2020-03-27T22:10:49.449788Z"
    },
    "scrolled": true
   },
   "outputs": [
    {
     "name": "stdout",
     "output_type": "stream",
     "text": [
      "5 21\n",
      "5 6 7 8 9\n",
      "21\n"
     ]
    }
   ],
   "source": [
    "N, M = list(map(int, input().split(' ')))\n",
    "cards = list(map(int, input().split(' ')))\n",
    "\n",
    "sol=0\n",
    "\n",
    "for i in range(0, N-2):\n",
    "    for j in range(i+1, N-1):\n",
    "        for k in range(j+1, N):\n",
    "            summation = cards[i] + cards[j] + cards[k]\n",
    "            if summation <= M:\n",
    "                sol = max(sol, summation)\n",
    "            \n",
    "print(sol)"
   ]
  },
  {
   "cell_type": "code",
   "execution_count": 21,
   "metadata": {
    "ExecuteTime": {
     "end_time": "2020-03-27T22:10:04.463056Z",
     "start_time": "2020-03-27T22:09:56.887722Z"
    }
   },
   "outputs": [
    {
     "name": "stdout",
     "output_type": "stream",
     "text": [
      "5 21\n",
      "5 6 7 8 9\n",
      "21\n"
     ]
    }
   ],
   "source": [
    "from itertools import*\n",
    "b=input().split()\n",
    "print(max([sum(i)for i in combinations(map(int,input().split()),3)if sum(i)<=int(b[1])]))"
   ]
  },
  {
   "cell_type": "markdown",
   "metadata": {},
   "source": [
    "<img src=2798_2.png>"
   ]
  }
 ],
 "metadata": {
  "kernelspec": {
   "display_name": "Python 3",
   "language": "python",
   "name": "python3"
  },
  "language_info": {
   "codemirror_mode": {
    "name": "ipython",
    "version": 3
   },
   "file_extension": ".py",
   "mimetype": "text/x-python",
   "name": "python",
   "nbconvert_exporter": "python",
   "pygments_lexer": "ipython3",
   "version": "3.7.6"
  }
 },
 "nbformat": 4,
 "nbformat_minor": 4
}
